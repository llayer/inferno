{
 "cells": [
  {
   "cell_type": "markdown",
   "metadata": {},
   "source": [
    "# CMS MVA analysis 2011/12"
   ]
  },
  {
   "cell_type": "code",
   "execution_count": 6,
   "metadata": {},
   "outputs": [],
   "source": [
    "from bs4 import BeautifulSoup\n",
    "import requests\n",
    "import re"
   ]
  },
  {
   "cell_type": "code",
   "execution_count": 7,
   "metadata": {},
   "outputs": [],
   "source": [
    "url11 = 'http://opendata.cern.ch/api/records/?page=1&size=500&q=&subtype=Simulated&type=Dataset&experiment=CMS&year=2011'"
   ]
  },
  {
   "cell_type": "code",
   "execution_count": 8,
   "metadata": {},
   "outputs": [],
   "source": [
    "url12 = 'http://opendata.cern.ch/api/records/?page=1&size=500&q=&subtype=Simulated&type=Dataset&experiment=CMS&year=2012&collision_energy=8TeV'"
   ]
  },
  {
   "cell_type": "code",
   "execution_count": 12,
   "metadata": {},
   "outputs": [],
   "source": [
    "response11 = requests.get(url11)\n",
    "response12 = requests.get(url12)"
   ]
  },
  {
   "cell_type": "code",
   "execution_count": 13,
   "metadata": {},
   "outputs": [],
   "source": [
    "soup11 = BeautifulSoup(response11.text, \"html.parser\")\n",
    "soup12 = BeautifulSoup(response12.text, \"html.parser\")"
   ]
  },
  {
   "cell_type": "code",
   "execution_count": 20,
   "metadata": {},
   "outputs": [],
   "source": [
    "def fast_check(samples):\n",
    "    for s in samples:\n",
    "        components = s.split('_')\n",
    "        if len(components[0]) == 1:\n",
    "            proc = components[0] + '_' + components[1]\n",
    "        else:\n",
    "            proc = components[0]\n",
    "        if len(soup12.findAll(text=re.compile(proc))) > 0:\n",
    "            print( proc, 'Found')\n",
    "        else:\n",
    "            print( proc, 'Not Found')"
   ]
  },
  {
   "cell_type": "markdown",
   "metadata": {},
   "source": [
    "## 2011 analysis"
   ]
  },
  {
   "cell_type": "markdown",
   "metadata": {},
   "source": [
    "### HIG-11-031 H -> bb (SM)"
   ]
  },
  {
   "cell_type": "markdown",
   "metadata": {},
   "source": [
    "A search for the standard model Higgs boson (H) decaying to a b-quark pair when produced in association with weak vector bosons (V) is reported for the following modes: W(mu,nu)H, W(e,nu)H, Z(mu,mu)H, Z(e,e)H and Z(nu,nu)H. The search is performed in a data sample corresponding to an integrated luminosity of 4.7 inverse femtobarns, recorded by the CMS detector in proton-proton collisions at the LHC with a center-of-mass energy of 7 TeV. No significant excess of events above the expectation from background is observed. Upper limits on the VH production cross section times the H to b-quark pair branching ratio, with respect to the expectations for a standard model Higgs boson, are derived for a Higgs boson in the mass range 110-135 GeV. In this range, the observed 95% confidence level upper limits vary from 3.4 to 7.5 times the standard model prediction; the corresponding expected limits vary from 2.7 to 6.7."
   ]
  },
  {
   "cell_type": "markdown",
   "metadata": {},
   "source": [
    "- Syst ~ 20%\n",
    "- Uses a BDT\n",
    "- Probably not all signal samples present (but a subset)"
   ]
  },
  {
   "cell_type": "markdown",
   "metadata": {},
   "source": [
    "<img src=\"pictures/HIG-11-031.png\" alt=\"drawing\" width=\"300\"/>"
   ]
  },
  {
   "cell_type": "code",
   "execution_count": 22,
   "metadata": {},
   "outputs": [],
   "source": [
    "signal_mc = [\n",
    "    'WH_WToLNu_HToBB_M-115_7TeV-powheg_herwigpp',\n",
    "    'ZH_ZToLL_HToBB_M-115_7TeV-powheg_herwigpp',\n",
    "    'ZH_ZToNuNu_HToBB_M-115_7TeV-powheg_herwigpp',\n",
    "    'ZZtoAnything_TuneZ2_7TeV-pythia6-tauola',\n",
    "    'WWtoAnything_TuneZ2_7TeV-pythia6-tauola',\n",
    "    'WZtoAnything_TuneZ2_7TeV-pythia6-tauola'\n",
    "]"
   ]
  },
  {
   "cell_type": "code",
   "execution_count": 23,
   "metadata": {},
   "outputs": [
    {
     "name": "stdout",
     "output_type": "stream",
     "text": [
      "WH Found\n",
      "ZH Found\n",
      "ZH Found\n",
      "ZZtoAnything Not Found\n",
      "WWtoAnything Not Found\n",
      "WZtoAnything Not Found\n"
     ]
    }
   ],
   "source": [
    "fast_check(signal_mc)"
   ]
  },
  {
   "cell_type": "code",
   "execution_count": null,
   "metadata": {},
   "outputs": [],
   "source": [
    "bkg_mc = [\n",
    "\n",
    "    'WjetsToLNu_TuneZ2_7TeV-madgraph-tauola',\n",
    "    'WjetsToLNu_pt100_7TeV-herwigpp',\n",
    "    'DYJetsToLL_TuneZ2_M-50_7TeV-madgraph-tauola',\n",
    "    'DYJetsToLL_pt100_7TeV-madgraph-tauola',\n",
    "    'ZJetsToNuNu_Pt-100_7TeV-herwigpp',\n",
    "    'TTJets_TuneZ2_7TeV-madgraph-tauola/Summer11-PU_S4_START42_V11-v1/AODSIM',\n",
    "    'T_TuneZ2_tW-channel-DR_7TeV-powheg-tauola/Summer11-PU_S4_START42_V11-v1/AODSIM',\n",
    "    'Tbar_TuneZ2_tW-channel-DR_7TeV-powheg-tauola/Summer11-PU_S4_START42_V11-v1/AODSIM',\n",
    "    'T_TuneZ2_t-channel_7TeV-powheg-tauola/Summer11-PU_S4_START42_V11-v1/AODSIM',\n",
    "    'Tbar_TuneZ2_t-channel_7TeV-powheg-tauola/Summer11-PU_S4_START42_V11-v1/AODSIM',\n",
    "    'T_TuneZ2_s-channel_7TeV-powheg-tauola/Summer11-PU_S4_START42_V11-v1/AODSIM',\n",
    "    'Tbar_TuneZ2_s-channel_7TeV-powheg-tauola/Summer11-PU_S4_START42_V11-v1/AODSIM',\n",
    "    'QCD_Pt-20_MuEnrichedPt-15_TuneZ2_7TeV-pythia6/Summer11-PU_S4_START42_V11-v2/AODSIM',\n",
    "    'QCD_Pt-80to120_TuneZ2_7TeV_pythia6/Summer11-PU_S4_START42_V11-v1/AODSIM',\n",
    "    'QCD_Pt-120to170_TuneZ2_7TeV_pythia6/Summer11-PU_S4_START42_V11-v1/AODSIM',\n",
    "    'QCD_Pt-170to300_TuneZ2_7TeV_pythia6/Summer11-PU_S4_START42_V11-v1/AODSIM',\n",
    "    'QCD_Pt-300to470_TuneZ2_7TeV_pythia6/Summer11-PU_S4_START42_V11-v1/AODSIM',\n",
    "    'QCD_Pt-470to600_TuneZ2_7TeV_pythia6/Summer11-PU_S4_START42_V11-v1/AODSIM'\n",
    "]"
   ]
  },
  {
   "cell_type": "markdown",
   "metadata": {},
   "source": [
    "### TOP-11-004 Top pair cross section in tau+jets"
   ]
  },
  {
   "cell_type": "markdown",
   "metadata": {},
   "source": [
    "This document presents a measurement of the top-antitop pair production cross section in proton-proton collisions at a center-of-mass energy of 7 TeV using data collected by the CMS experiment at the Large Hadron Collider. The measurement is performed in events with at least four energetic jets, at least one of them being b-tagged, and one hadronic tau candidate in the final state. The analysed data sample corresponds to an integrated luminosity of 3.9 fb-1 recorded by a dedicated multijet trigger including tau identification. A neural network has been developed to separate the top-antitop signal from the W-plus-jets and QCD multijet backgrounds. The measured value of σtt¯=156±12(stat.)±33(sys.)±3(lumi)pb is consistent with the standard model prediction."
   ]
  },
  {
   "cell_type": "markdown",
   "metadata": {},
   "source": [
    "- Uses a NN\n",
    "- Realistic chance that most samples are present in CMS open data\n",
    "- Too precise?"
   ]
  },
  {
   "cell_type": "markdown",
   "metadata": {},
   "source": [
    "<img src=\"pictures/TOP-11-004.png\" alt=\"drawing\" width=\"300\"/>"
   ]
  },
  {
   "cell_type": "code",
   "execution_count": null,
   "metadata": {},
   "outputs": [],
   "source": [
    "signal_mc = [\n",
    "    'TTJets_TuneZ2_7TeV-madgraph-tauola/Summer11-PU_S4_START42_V11-v1',\n",
    "    'TTJets_TuneZ2_mass166_5_7TeV-madgraph-tauola/Summer11-PU_S4_START42_V11-v3/AODSIM',\n",
    "    'TTJets_TuneZ2_mass178_5_7TeV-madgraph-tauola/Summer11-PU_S4_START42_V11-v3/AODSIM',\n",
    "    'TTjets_TuneZ2_matchingdown_7TeV-madgraph-tauola/Summer11-PU_S4_START42_V11-v1/AODSIM',\n",
    "    'TTjets_TuneZ2_matchingup_7TeV-madgraph-tauola/Summer11-PU_S4_START42_V11-v1/AODSIM',\n",
    "    'TTjets_TuneZ2_scaleup_7TeV-madgraph-tauola/Summer11-PU_S4_START42_V11-v1/AODSIM',\n",
    "    'TTjets_TuneZ2_scaledown_7TeV-madgraph-tauola/Summer11-PU_S4_START42_V11-v1/AODSIM'\n",
    "]\n",
    "\n",
    "background_mc = [\n",
    "    'WJetsToLNu_TuneZ2_7TeV-madgraph-tauola/Summer11-PU_S4_START42_V11-v1',\n",
    "    'DYJetsToLL_TuneZ2_M-50_7TeV-madgraph-tauola/Summer11-PU_S4_START42_V11-v1',\n",
    "    'T_TuneZ2_s-channel_7TeV-powheg-tauola/Summer11-PU_S4_START42_V11-v1/AODSIM',\n",
    "    'Tbar_TuneZ2_s-channel_7TeV-powheg-tauola/Summer11-PU_S4_START42_V11-v1/AODSIM',\n",
    "    'T_TuneZ2_tW-channel-DR_7TeV-powheg-tauola/Summer11-PU_S4_START42_V11-v1/AODSIM',\n",
    "    'Tbar_TuneZ2_tW-channel-DR_7TeV-powheg-tauola/Summer11-PU_S4_START42_V11-v1/AODSIM',\n",
    "    'T_TuneZ2_t-channel_7TeV-powheg-tauola/Summer11-PU_S4_START42_V11-v1/AODSIM',\n",
    "    'Tbar_TuneZ2_t-channel_7TeV-powheg-tauola/Summer11-PU_S4_START42_V11-v1/AODSIM',\n",
    "    'ZJetsToLL_TuneZ2_scaleup_7TeV-madgraph-tauola/Summer11-PU_S4_START42_V11-v1/AODSIM',\n",
    "    'ZJetsToLL_TuneZ2_scaledown_7TeV-madgraph-tauola/Summer11-PU_S4_START42_V11-v1/AODSIM',\n",
    "    'ZJetsToLL_TuneZ2_matchingup_7TeV-madgraph-tauola/Summer11-PU_S4_START42_V11-v1/AODSIM',\n",
    "    'ZJetsToLL_TuneZ2_matchingdown_7TeV-madgraph-tauola/Summer11-PU_S4_START42_V11-v1/AODSIM',\n",
    "    'WJetsToLNu_TuneZ2_scaleup_7TeV-madgraph-tauola/Summer11-PU_S4_START42_V11-v1/AODSIM',\n",
    "    'WJetsToLNu_TuneZ2_scaledown_7TeV-madgraph-tauola/Summer11-PU_S4_START42_V11-v1/AODSIM',\n",
    "    'WJetsToLNu_TuneZ2_matchingup_7TeV-madgraph-tauola/Summer11-PU_S4_START42_V11-v1/AODSIM',\n",
    "    'WJetsToLNu_TuneZ2_matchingdown_7TeV-madgraph-tauola/Summer11-PU_S4_START42_V11-v1/AODSIM'\n",
    "]"
   ]
  },
  {
   "cell_type": "markdown",
   "metadata": {},
   "source": [
    "### TOP-11-007 Top pair cross section in hadronic channel"
   ]
  },
  {
   "cell_type": "markdown",
   "metadata": {},
   "source": [
    "This note presents a first measurement of the top quark pair production cross section in the fully hadronic decay channel at a center-of-mass energy of s√=7 TeV\n",
    " using data corresponding to an integrated luminosity of 1.09 fb-1 taken with the CMS detector. The cross section is determined from an unbinned maximum likelihood fit to the reconstructed top quark mass. The reconstruction of ttbar candidates is performed after a cut-based event selection using a kinematic fit. A data-driven technique is used to estimate the dominant background from QCD multijet production. The cross section measurement yields σ(ttbar)=136±20 (stat.)±40 (sys.)±8 (lumi.)\n",
    "pb. This result is consistent with measurements in other decay channels and with the Standard Model prediction."
   ]
  },
  {
   "cell_type": "markdown",
   "metadata": {},
   "source": [
    "- Uses a NN\n",
    "- Good chance that MC samples are present in CMS open"
   ]
  },
  {
   "cell_type": "markdown",
   "metadata": {},
   "source": [
    "<img src=\"pictures/TOP-11-007.png\" alt=\"drawing\" width=\"300\"/>"
   ]
  },
  {
   "cell_type": "code",
   "execution_count": null,
   "metadata": {},
   "outputs": [],
   "source": [
    "signal_mc = [\n",
    "\n",
    "    'TTJets_TuneZ2_7TeV-madgraph-tauola/Fall11-PU_S6_START42_V14B-v2/AODSIM',\n",
    "    'TTJets_TuneZ2_7TeV-madgraph-tauola/Summer11-PU_S4_START42_V11-v1/AODSIM',\n",
    "    'TTjets_TuneZ2_scaleup_7TeV-madgraph-tauola/Summer11-PU_S4_START42_V11-v1/AODSIM',\n",
    "    'TTjets_TuneZ2_scaledown_7TeV-madgraph-tauola/Summer11-PU_S4_START42_V11-v1/AODSIM',\n",
    "    'TTjets_TuneZ2_matchingup_7TeV-madgraph-tauola/Summer11-PU_S4_START42_V11-v1/AODSIM',\n",
    "    'TTjets_TuneZ2_matchingdown_7TeV-madgraph-tauola/Summer11-PU_S4_START42_V11-v1/AODSIM',\n",
    "    'TTJets_TuneZ2_mass166_5_7TeV-madgraph-tauola/Summer11-PU_S4_START42_V11-v3/AODSIM',\n",
    "    'TTJets_TuneZ2_mass178_5_7TeV-madgraph-tauola/Summer11-PU_S4_START42_V11-v3/AODSIM',\n",
    "    'TTJets_TuneD6T_7TeV-madgraph-tauola/Spring11-PU_S1_START311_V1G1-v1/AODSIM',\n",
    "    'TTJets_TuneZ2_7TeV-madgraph-tauola/Spring11-PU_S1_START311_V1G1-v1/AODSIM'\n",
    "\n",
    "]\n",
    "\n",
    "bkg_mc = [\n",
    "\n",
    "    'QCD_Pt_15to30_TuneZ2_7TeV_pythia6/Fall10-START38_V12-v1/GEN-SIM-RECO',\n",
    "    'QCD_Pt_30to50_TuneZ2_7TeV_pythia6/Fall10-START38_V12-v1/GEN-SIM-RECO',\n",
    "    'QCD_Pt_50to80_TuneZ2_7TeV_pythia6/Fall10-START38_V12-v1/GEN-SIM-RECO',\n",
    "    'QCD_Pt_80to120_TuneZ2_7TeV_pythia6/Fall10-START38_V12-v1/GEN-SIM-RECO',\n",
    "    'QCD_Pt_120to170_TuneZ2_7TeV_pythia6/Fall10-START38_V12-v1/GEN-SIM-RECO',\n",
    "    'QCD_Pt_170to300_TuneZ2_7TeV_pythia6/Fall10-START38_V12-v1/GEN-SIM-RECO',\n",
    "    'QCD_Pt_300to470_TuneZ2_7TeV_pythia6/Fall10-START38_V12-v1/GEN-SIM-RECO',\n",
    "    'QCD_Pt_470to600_TuneZ2_7TeV_pythia6/Fall10-START38_V12-v1/GEN-SIM-RECO',\n",
    "    'QCD_Pt_600to800_TuneZ2_7TeV_pythia6/Fall10-START38_V12-v2/GEN-SIM-RECO',\n",
    "    'QCD_Pt_800to1000_TuneZ2_7TeV_pythia6/Fall10-START38_V12-v1/GEN-SIM-RECO',\n",
    "    'QCD_Pt_1000to1400_TuneZ2_7TeV_pythia6/Fall10-START38_V12-v1/GEN-SIM-RECO',\n",
    "    'QCD_Pt_1400to1800_TuneZ2_7TeV_pythia6/Fall10-START38_V12-v1/GEN-SIM-RECO',\n",
    "    'QCD_Pt_1800_TuneZ2_7TeV_pythia6/Fall10-START38_V12-v1/GEN-SIM-RECO',\n",
    "    'QCD_Pt-80toInf_6GenJets_TuneZ2_7TeV-pythia6/Fall10-START38_V12-v1/AODSIM',\n",
    "    'QCD_Pt_170to300_TuneZ2_55M_7TeV_pythia6/Fall10-START38_V12-v1/AODSIM'\n",
    "\n",
    "]"
   ]
  },
  {
   "cell_type": "markdown",
   "metadata": {},
   "source": [
    "### TOP-11-010 Top pair invariant mass distribution in dileptons"
   ]
  },
  {
   "cell_type": "markdown",
   "metadata": {},
   "source": [
    "We present a search for narrow-width resonances decaying to top-antitop pairs using 5.0 fb−1\n",
    " TeV. No significant deviations from the expected Standard Model background are observed. Upper limits, at 95\\% confidence level, are presented for the production cross section times branching fraction for narrow-width resonances decaying to top-antitop pairs for resonance masses from 500 to 2000 GeV. The existence of a leptophobic topcolor particle Z′\n",
    "of width ΓZ′=0.012MZ′\n",
    " with mass MZ′<1.1\n",
    " TeV is excluded at 95%\n",
    "C.L."
   ]
  },
  {
   "cell_type": "markdown",
   "metadata": {},
   "source": [
    "- Uses a Bayesian Neural Net\n",
    "- Signal samples probably not present"
   ]
  },
  {
   "cell_type": "markdown",
   "metadata": {},
   "source": [
    "<img src=\"pictures/TOP-11-010.png\" alt=\"drawing\" width=\"300\"/>"
   ]
  },
  {
   "cell_type": "code",
   "execution_count": null,
   "metadata": {},
   "outputs": [],
   "source": [
    "signal_mc = [\n",
    "    #_from_Fall11-PU_S6_START42\n",
    "    'Zprime_M500GeV_W5GeV-madgraph',\n",
    "    'Zprime_M750GeV_W7500MeV-madgraph',\n",
    "    'Zprime_M1000GeV_W10GeV-madgraph',\n",
    "    'Zprime_M1250GeV_W1250MeV-madgraph',\n",
    "    'Zprime_M1500GeV_W15GeV-madgraph',\n",
    "    'Zprime_M2000GeV_W20GeV-madgraph',\n",
    "    'Zprime_M3000GeV_W30GeV-madgraph'\n",
    "]\n",
    "\n",
    "bkg_mc = [\n",
    "    'TTJets_TuneZ2_7TeV-madgraph-tauola',\n",
    "    'DYJetsToLL_TuneZ2_M-50_7TeV-madgraph-tauola',\n",
    "    'DYJetsToLL_M-10To50_TuneZ2_7TeV-madgraph',\n",
    "    'WWTo2L2Nu_TuneZ2_7TeV_pythia6_tauola',\n",
    "    'WZTo3LNu_TuneZ2_7TeV_pythia6_tauola',\n",
    "    'ZZ_TuneZ2_7TeV_pythia6_tauola',\n",
    "    'WJetsToLNu_TuneZ2_7TeV-madgraph-tauola',\n",
    "    'T_TuneZ2_t-channel_7TeV-powheg-tauola',\n",
    "    'Tbar_TuneZ2_t-channel_7TeV-powheg-tauola',\n",
    "    'T_TuneZ2_tW-channel-DR_7TeV-powheg-tauola',\n",
    "    'Tbar_TuneZ2_tW-channel-DR_7TeV-powheg-tauola'\n",
    "]"
   ]
  },
  {
   "cell_type": "markdown",
   "metadata": {},
   "source": [
    "### TOP-11-021 Single top cross section in t-channel"
   ]
  },
  {
   "cell_type": "markdown",
   "metadata": {},
   "source": [
    "... avoid if possible..."
   ]
  },
  {
   "cell_type": "markdown",
   "metadata": {},
   "source": [
    "## 2012 analysis"
   ]
  },
  {
   "cell_type": "markdown",
   "metadata": {},
   "source": [
    "### HIG-12-035 Higgs Search on ttH with Higgs to bb"
   ]
  },
  {
   "cell_type": "markdown",
   "metadata": {},
   "source": [
    "A search for the standard model Higgs boson produced in association with a top-quark pair is presented using data samples corresponding to an integrated luminosity of 5.0 inverse femtobarns (5.1 inverse femtobarns) collected in pp collisions at the center-of-mass energy of 7 TeV (8 TeV). Events are considered where the top-quark pair decays to either one lepton+jets or dileptons. The search is optimized for the decay mode H to b bbar. The largest background to the t tbar H signal is top-quark pair production with additional jets. Artificial neural networks are used to discriminate between signal and background events. Combining the results from the 7 TeV and 8 TeV samples, the observed (expected) limit on the cross section for Higgs boson production in association with top-quark pairs for a Higgs boson mass of 125 GeV is 5.8 (5.2) times the standard model expectation."
   ]
  },
  {
   "cell_type": "markdown",
   "metadata": {},
   "source": [
    "- Uses custom TTH samples - not clear how similar to the ones in CMS open data\n",
    "- Uses an ANN"
   ]
  },
  {
   "cell_type": "markdown",
   "metadata": {},
   "source": [
    "<img src=\"pictures/HIG-12-035.png\" alt=\"drawing\" width=\"300\"/>"
   ]
  },
  {
   "cell_type": "code",
   "execution_count": 14,
   "metadata": {},
   "outputs": [],
   "source": [
    "signal_samples = [\n",
    "\n",
    "    'TTH_HToAll_M_110_8TeV_FastSim_pythia6/lannon-TTH_HToAll_M_110_8TeV_FastSim_pythia6-dff75535147f54d9d70123289019ff88/USER',\n",
    "    'TTH_HToAll_M_115_8TeV_FastSim_pythia6/lannonTTH_HToAll_M_115_8TeV_FastSim_pythia6f8fb6149649333009ec8462da200312d/USER',\n",
    "    'TTH_HToAll_M_120_8TeV_FastSim_pythia6/puighTTH_HToAll_M_120_8TeV_FastSim_pythia695111b4e2be5b1aa536a508d15d97f92/USER',\n",
    "    'TTH_HToAll_M_122p5_8TeV_FastSim_pythia6/slaunwhjTTH_HToAll_M_122p5_8TeV_FastSim_pythia61e2fdcc9a937df208692b27cb39e0444/USER',\n",
    "    'TTH_HToAll_M_125_8TeV_FastSim_pythia6/lwmingTTH_HToAll_M_125_8TeV_FastSim_pythia6191b19832235558f2b51f7486e9bfa14/USER',\n",
    "    'TTH_HToAll_M_127p5_8TeV_FastSim_pythia6_crabv2/jgwoodTTH_HToAll_M_127p5_8TeV_FastSim_pythia6_crabv28cc2ab68d00e069563cff89a5be0e271/USER',\n",
    "    'TTH_HToAll_M_130_8TeV_FastSim_pythia6/neuTTH_HToAll_M_130_8TeV_FastSim_pythia65052c957a6363e9b1d5c2be444ffc86d/USER',\n",
    "    'TTH_HToAll_M_135_8TeV_FastSim_pythia6/lwmingTTH_HToAll_M_135_8TeV_FastSim_pythia6c8734ad98f674743d713309ea4b6ad34/USER',\n",
    "    'TTH_HToAll_M_140_8TeV_FastSim_pythia6/lwmingTTH_HToAll_M_140_8TeV'\n",
    "\n",
    "]"
   ]
  },
  {
   "cell_type": "code",
   "execution_count": 15,
   "metadata": {},
   "outputs": [],
   "source": [
    "bkg_samples = [\n",
    "\n",
    "    'TTJets_MassiveBinDECAY_TuneZ2star_8TeVmadgraph-tauola/Summer12PU_S6_START52_V9v1/AODSIM',\n",
    "    'TTWJets_8TeVmadgraph/Summer12PU_S7_START52_V9v1/AODSIM',\n",
    "    'TTZJets_8TeVmadgraph_v2/Summer12PU_S7_START52_V9v1/AODSIM',\n",
    "    'WJetsToLNu_TuneZ2Star_8TeVmadgraphtarball/Summer12-PU_S7_START52_V9v1/AODSIM',\n",
    "    'DYJetsToLL_M50_TuneZ2Star_8TeVmadgraphtarball/Summer12-PU_S7_START52_V9v2/AODSIM',\n",
    "    'DYJetsToLL_M10To50filter_8TeVmadgraph/Summer12-PU_S7_START52_V9v1/AODSIM',\n",
    "    'T_schannel_TuneZ2star_8TeVpowhegtauola/Summer12-PU_S7_START52_V9v1/AODSIM',\n",
    "    'T_tchannel_TuneZ2star_8TeVpowhegtauola/Summer12-PU_S7_START52_V9v1/AODSIM',\n",
    "    'T_tWchannelDR_TuneZ2star_8TeVpowhegtauola/Summer12-PU_S7_START52_V9v1/AODSIM',\n",
    "    'Tbar_schannel_TuneZ2star_8TeVpowhegtauola/Summer12-PU_S7_START52_V9v1/AODSIM',\n",
    "    'Tbar_tchannel_TuneZ2star_8TeVpowhegtauola/Summer12-PU_S7_START52_V9v1/AODSIM',\n",
    "    'Tbar_tWchannelDR_TuneZ2star_8TeVpowhegtauola/Summer12-PU_S7_START52_V9v1/AODSIM',\n",
    "    'WW_TuneZ2star_8TeV_pythia6_tauola/Summer12PU_S7_START52_V9-v1/AODSIM',\n",
    "    'WZ_TuneZ2star_8TeV_pythia6_tauola/Summer12PU_S7_START52_V9-v1/AODSIM',\n",
    "    'ZZ_TuneZ2star_8TeV_pythia6_tauola/Summer12PU_S7_START52_V9-v1/AODSIM'\n",
    "\n",
    "]"
   ]
  },
  {
   "cell_type": "markdown",
   "metadata": {},
   "source": [
    "### TOP-12-039 Measurement of tqZ and search for FCNC in single top events"
   ]
  },
  {
   "cell_type": "markdown",
   "metadata": {},
   "source": [
    "A search for the production of a single top quark in association with a Z boson is presented, both to identify the expected standard model (SM) process and to search for flavour changing neutral current (FCNC) interactions. The data sample corresponds to an integrated luminosity of 19.7 fb−1\n",
    "recorded by the CMS experiment at the LHC in proton-proton collisions at s√=8 TeV. Final states with three leptons, electrons or muons, and at least one jet are investigated. A moderate excess of events compatible with SM tZq production is observed, and the corresponding cross section is measured to be σ(tZq→ℓνbℓ+ℓ−q)=10+8−7 fb\n",
    "with a significance of 2.4 σ. No presence of FCNC production of tZ(q) is observed and exclusion limits at 95%\n",
    " confidence level on the branching ratios of a top quark decaying to a Z boson and an up or a charm quark are found to be BR(t→Zu)<0.022%\n",
    " and BR(t→Zc)<0.049%, respectively."
   ]
  },
  {
   "cell_type": "markdown",
   "metadata": {},
   "source": [
    "- Uses a BDT\n",
    "- Not clear whether signal samples are present"
   ]
  },
  {
   "cell_type": "markdown",
   "metadata": {},
   "source": [
    "<img src=\"pictures/TOP-12-039.png\" alt=\"drawing\" width=\"300\"/>"
   ]
  },
  {
   "cell_type": "code",
   "execution_count": null,
   "metadata": {},
   "outputs": [],
   "source": [
    "signal_samples = [\n",
    "    'tZq_4f_3leptons_8TeV-amcatnlo-pythia8_TuneCUETP8M1',\n",
    "    'tZq_4f_3leptons_8TeV-amcatnlo-pythia8_TuneCUETP8M1',\n",
    "    'tZq_4f_3leptons_8TeV-amcatnlo-pythia8_TuneCUETP8M1'\n",
    "]"
   ]
  },
  {
   "cell_type": "code",
   "execution_count": null,
   "metadata": {},
   "outputs": [],
   "source": [
    "background_samples = [\n",
    "    \n",
    "    'TZJetsTo3LNuB_8TeV_TuneZ2Star_madgraph_tauola',\n",
    "    'tZq_4f_3leptons_8TeV-amcatnlo-pythia8_TuneCUETP8M1',\n",
    "    'TTJets_MassiveBinDECAY_TuneZ2star_8TeV-madgraph-tauola',\n",
    "    'TTWJets_8TeV-madgraph',\n",
    "    'TTZJets_8TeV_scaleup-madgraph-pythia6_TuneZ2star',\n",
    "    'TTZJets_8TeV_scaledown-madgraph-pythia6_TuneZ2star',\n",
    "    'TTZJets_8TeV-madgraph_v2',\n",
    "    'T_tW-channel-DR_TuneZ2star_8TeV-powheg-tauola',\n",
    "    'Tbar_tW-channel-DR_TuneZ2star_8TeV-powheg-tauola',\n",
    "    'T_t-channel_TuneZ2star_8TeV-powheg-tauola',\n",
    "    'Tbar_t-channel_TuneZ2star_8TeV-powheg-tauola',\n",
    "    'T_s-channel_TuneZ2star_8TeV-powheg-tauola',\n",
    "    'Tbar_s-channel_TuneZ2star_8TeV-powheg-tauola',\n",
    "    'WWJetsTo2L2Nu_TuneZ2star_8TeV-madgraph-tauola',\n",
    "    'WZJetsTo3LNu_TuneZ2_8TeV-madgraph-tauola',\n",
    "    'ZZJetsTo4L_TuneZ2star_8TeV-madgraph-tauola',\n",
    "    'WJetsToLNu_TuneZ2Star_8TeV-madgraph-tarball',\n",
    "    'DYJetsToLL_M-10To50filter_8TeV-madgraph',\n",
    "    'DYJetsToLL_M-50_TuneZ2Star_8TeV-madgraph-tarball',\n",
    "    'DY1JetsToLL_M-50_TuneZ2Star_8TeV-madgraph',\n",
    "    'DY2JetsToLL_M-50_TuneZ2Star_8TeV-madgraph',\n",
    "    'DY3JetsToLL_M-50_TuneZ2Star_8TeV-madgraph',\n",
    "    'DY4JetsToLL_M-50_TuneZ2Star_8TeV-madgraph'   \n",
    "]"
   ]
  },
  {
   "cell_type": "markdown",
   "metadata": {},
   "source": [
    "### TOP-12-040 Measurement of associated tW production (single top) at 8 TeV in the two lepton final state"
   ]
  },
  {
   "cell_type": "markdown",
   "metadata": {},
   "source": [
    "The observation of the associated production of a single top quark and W boson in pp collisions at s√\n",
    " = 8 TeV with the CMS experiment at the LHC is presented. The analyzed data corresponds to an integrated luminosity of 12.2 fb−1. The measurement is performed using events with two leptons and a jet originated from a b quark. A multivariate analysis based on kinematic properties is utilized to separate the signal from the tt¯\n",
    "background. The signal is observed with a 6.0 standard deviations excess above a background only hypothesis. A production cross section of 23.4+5.5−5.4\n",
    " pb is measured, in agreement with the standard model expectation of 22.2±1.5\n",
    " pb."
   ]
  },
  {
   "cell_type": "markdown",
   "metadata": {},
   "source": [
    "- Good chance that MC samples are in CMS open data\n",
    "- How much systematics?"
   ]
  },
  {
   "cell_type": "markdown",
   "metadata": {},
   "source": [
    "<img src=\"pictures/TOP-12-040.png\" alt=\"drawing\" width=\"300\"/>"
   ]
  },
  {
   "cell_type": "code",
   "execution_count": null,
   "metadata": {},
   "outputs": [],
   "source": [
    "signal_samples = [\n",
    "\n",
    "    'T_tW-channel-DR_TuneZ2star_8TeV-powheg-tauola',\n",
    "    'Tbar_tW-channel-DR_TuneZ2star_8TeV-powheg-tauola',\n",
    "    'TToDilepton_tW-channel-DR_8TeV-powheg-tauola',\n",
    "    'TBarToDilepton_tW-channel-DR_8TeV-powheg-tauola',\n",
    "    'T_t-channel_TuneZ2star_8TeV-powheg-tauola',\n",
    "    'Tbar_t-channel_TuneZ2star_8TeV-powheg-tauola',\n",
    "    'T_s-channel_TuneZ2star_8TeV-powheg-tauola',\n",
    "    'Tbar_s-channel_TuneZ2star_8TeV-powheg-tauola'\n",
    "]"
   ]
  },
  {
   "cell_type": "code",
   "execution_count": null,
   "metadata": {},
   "outputs": [],
   "source": [
    "bkg_samples = [\n",
    "\n",
    "    'TTJets_MassiveBinDECAY_TuneZ2star_8TeV-madgraph-tauola',\n",
    "    'DYJetsToLL_M-50_TuneZ2Star_8TeV-madgraph-tarball',\n",
    "    'DYJetsToLL_M-10To50filter_8TeV-madgraph',\n",
    "    'WJetsToLNu_TuneZ2Star_8TeV-madgraph-tarball',\n",
    "    'WW_TuneZ2star_8TeV_pythia6_tauola',\n",
    "    'WZ_TuneZ2star_8TeV_pythia6_tauola',\n",
    "    'ZZ_TuneZ2star_8TeV_pythia6_tauola',\n",
    "    'TToDilepton_tW-channel-DR_scaleup_8TeV-powheg-tauola',\n",
    "    'TToDilepton_tW-channel-DR_scaledown_8TeV-powheg-tauola',\n",
    "    'TBarToDilepton_tW-channel-DR_scaleup_8TeV-powheg-tauola',\n",
    "    'TBarToDilepton_tW-channel-DR_scaledown_8TeV-powheg-tauola',\n",
    "    'TToDilepton_tW-channel-DR_mass166_5_8TeV-powheg-tauola',\n",
    "    'TBarToDilepton_tW-channel-DR_mass166_5_8TeV-powheg-tauola',\n",
    "    'TToDilepton_tW-channel-DR_mass178_5_8TeV-powheg-tauola',\n",
    "    'TBarToDilepton_tW-channel-DR_mass178_5_8TeV-powheg-tauola',\n",
    "    'TTJets_scaleup_TuneZ2star_8TeV-madgraph-tauola',\n",
    "    'TTJets_scaledown_TuneZ2star_8TeV-madgraph-tauola',\n",
    "    'TTJets_matchingup_TuneZ2star_8TeV-madgraph-tauola',\n",
    "    'TTJets_matchingdown_TuneZ2star_8TeV-madgraph-tauola',\n",
    "    'TTJets_mass166_5_TuneZ2star_8TeV-madgraph-tauola',\n",
    "    'TTJets_mass178_5_TuneZ2star_8TeV-madgraph-tauola'\n",
    "\n",
    "]"
   ]
  },
  {
   "cell_type": "markdown",
   "metadata": {},
   "source": [
    "### TOP-13-012 Measurement of four top production at 8 TeV"
   ]
  },
  {
   "cell_type": "markdown",
   "metadata": {},
   "source": [
    "A search for four top quark production in the single lepton plus jets channel is presented. The dataset used corresponds to an integrated luminosity of 19.6 fb−1\n",
    " at s√\n",
    "= 8 TeV recorded by the CMS experiment in 2012. A combination of kinematic reconstruction and multivariate techniques is used to distinguish between signal and backgrounds. No excess of events over the standard model expectation is observed. Upper limits on the cross section of standard model four top quark production of 42+18−13\n",
    "fb (expected) and 63 fb (observed) at 95 \\% CL are calculated."
   ]
  },
  {
   "cell_type": "markdown",
   "metadata": {},
   "source": [
    "- Uses BDTs\n",
    "- Probably signal sample not present in CMS open data"
   ]
  },
  {
   "cell_type": "markdown",
   "metadata": {},
   "source": [
    "<img src=\"pictures/TOP-13-012.png\" alt=\"drawing\" width=\"300\"/>"
   ]
  },
  {
   "cell_type": "code",
   "execution_count": null,
   "metadata": {},
   "outputs": [],
   "source": [
    "signal_samples = [\n",
    "\n",
    "    'TTTT_TuneZ2star_8TeV-madgraph-tauola/Summer12_DR53X-PU_S10_START53_V7A-v1/AODSIM',\n",
    "]\n",
    "\n",
    "bkg_samples = [\n",
    "\n",
    "    'TTJets_SemiLeptMGDecays_8TeV-madgraph-tauola/Summer12_DR53X-PU_S10_START53_V7C-v1/AODSIM',\n",
    "    'TTJets_HadronicMGDecays_8TeV-madgraph/Summer12_DR53X-PU_S10_START53_V7A_ext-v1/AODSIM',\n",
    "    'TTJets_FullLeptMGDecays_8TeV-madgraph-tauola/Summer12_DR53X-PU_S10_START53_V7C-v2/AODSIM',\n",
    "    'W4JetsToLNu_TuneZ2Star_8TeV-madgraph/Summer12_DR53X-PU_S10_START53_V7A-v1/AODSIM'\n",
    "    'Tbar_tW-channel-DR_TuneZ2star_8TeV-powheg-tauola/Summer12_DR53X-PU_S10_START53_V7A-v1/AODSIM',\n",
    "    'T_tW-channel-DR_TuneZ2star_8TeV-powheg-tauola/Summer12_DR53X-PU_S10_START53_V7A-v1/AODSIM',\n",
    "    'T_t-channel_TuneZ2star_8TeV-powheg-tauola/Summer12_DR53X-PU_S10_START53_V7A-v1/AODSIM',\n",
    "    'Tbar_s-channel_TuneZ2star_8TeV-powheg-tauola/Summer12_DR53X-PU_S10_START53_V7A-v1/AODSIM',\n",
    "    'T_s-channel_TuneZ2star_8TeV-powheg-tauola/Summer12_DR53X-PU_S10_START53_V7A-v1/AODSIM',\n",
    "    'Tbar_t-channel_TuneZ2star_8TeV-powheg-tauola/Summer12_DR53X-PU_S10_START53_V7A-v1/AODSIM',\n",
    "    'DY4JetsToLL_M-50_TuneZ2Star_8TeV-madgraph/Summer12_DR53X-PU_S10_START53_V7A-v1/AODSIM',\n",
    "    'DYJetsToLL_M-10To50filter_8TeV-madgraph/Summer12_DR53X-PU_S10_START53_V7A-v1/AODSIM',\n",
    "    'TTZJets_8TeV-madgraph_v2/Summer12_DR53X-PU_S10_START53_V7A-v1/AODSIM',\n",
    "    'TTWJets_8TeV-madgraph/Summer12_DR53X-PU_S10_START53_V7A-v1/AODSIM',\n",
    "    'TTH_HToBB_M-125_8TeV-pythia6/Summer12_DR53X-PU_S10_START53_V7A-v1/AODSIM',\n",
    "    'ZZ_TuneZ2star_8TeV_pythia6_tauola/Summer12_DR53X-PU_S10_START53_V7A-v1/AODSIM',\n",
    "    'WZ_TuneZ2star_8TeV_pythia6_tauola/Summer12_DR53X-PU_S10_START53_V7A-v1/AODSIM',\n",
    "    'WW_TuneZ2star_8TeV_pythia6_tauola/Summer12_DR53X-PU_S10_START53_V7A-v1/AODSIM',\n",
    "    'TTJets_scaledown_TuneZ2star_8TeV-madgraph-tauola/Summer12_DR53X-PU_S10_START53_V7A-v1/AODSIM',\n",
    "    'TTJets_scaleup_TuneZ2star_8TeV-madgraph-tauola/Summer12_DR53X-PU_S10_START53_V7A-v1/AODSIM',\n",
    "    'TTJets_matchingdown_TuneZ2star_8TeV-madgraph-tauola/Summer12_DR53X-PU_S10_START53_V7A-v1/AODSIM',\n",
    "    'TTJets_matchingup_TuneZ2star_8TeV-madgraph-tauola/Summer12_DR53X-PU_S10_START53_V7A-v1/AODSIM'\n",
    "_\n",
    "]"
   ]
  },
  {
   "cell_type": "markdown",
   "metadata": {},
   "source": [
    "### TOP-14-003 Search for anomalous single top + photon production (FCNC)"
   ]
  },
  {
   "cell_type": "markdown",
   "metadata": {},
   "source": [
    "A search for single top quark production through flavor-changing neutral currents in the anomalous tqγ\n",
    " vertex is presented in proton-proton collisions at a center-of-mass energy of 8 TeV. The analysis is based on a data-set corresponding to an integrated luminosity of 19.1 fb−1\n",
    " collected with the CMS detector. The search is performed on events with one isolated muon and jets in the final state. No evidence for a signal is observed. Upper limits on the strengths of the anomalous couplings at leading order for vertices involving a top quark, a photon, and another up-like quark are set at 95%\n",
    " confidence level to be κtuγ<0.028\n",
    " and κtcγ<0.094\n",
    ". The corresponding upper bounds on the top quark decay branching ratios are BR(t→u+γ)<0.0161%\n",
    " and BR(t→c+γ)<0.182%\n",
    "."
   ]
  },
  {
   "cell_type": "markdown",
   "metadata": {},
   "source": [
    "- Signal samples present in database\n",
    "- Uses BDTs\n",
    "- Syst?"
   ]
  },
  {
   "cell_type": "markdown",
   "metadata": {},
   "source": [
    "<img src=\"pictures/TOP-14-003.png\" alt=\"drawing\" width=\"300\"/>"
   ]
  },
  {
   "cell_type": "code",
   "execution_count": null,
   "metadata": {},
   "outputs": [],
   "source": [
    "signal_samples = [\n",
    "\n",
    "    'tGamma_FCNC_tGu_8TeV_protos',\n",
    "    'tGamma_FCNC_tGc_8TeV_protos',\n",
    "]\n",
    "\n",
    "bkg_samples = [\n",
    "\n",
    "    'TTGJets_8TeV-madgraph',\n",
    "    'WGToLNuG_TuneZ2star_8TeV-madgraph-tauola',\n",
    "    'ZGToLLG_8TeV-madgraph',\n",
    "    'WWGJets_8TeV-madgraph_v2',\n",
    "    'G_Pt_50to80_TuneZ2star_8TeV_pythia6',\n",
    "    'G_Pt_80to120_TuneZ2star_8TeV_pythia6',\n",
    "    'G_Pt_120to170_TuneZ2star_8TeV_pythia6',\n",
    "    'G_Pt_170to300_TuneZ2star_8TeV_pythia6',\n",
    "    'G_Pt_300to470_TuneZ2star_8TeV_pythia6',\n",
    "    'G_Pt_470to800_TuneZ2star_8TeV_pythia6',\n",
    "    'TTJets_MassiveBinDECAY_TuneZ2star_8TeV-madgraph-tauola',\n",
    "    'DYJetsToLL_M-50_TuneZ2Star_8TeV-madgraph-tarball',\n",
    "    'WJetsToLNu_TuneZ2Star_8TeV-madgraph-tarball',\n",
    "    'WW_TuneZ2star_8TeV_pythia6_tauola',\n",
    "    'WZ_TuneZ2star_8TeV_pythia6_tauola',\n",
    "    'ZZ_TuneZ2star_8TeV_pythia6_tauola',\n",
    "    'T_t-channel_TuneZ2star_8TeV-powheg-tauola',\n",
    "    'Tbar_t-channel_TuneZ2star_8TeV-powheg-tauola',\n",
    "    'T_s-channel_TuneZ2star_8TeV-powheg-tauola',\n",
    "    'Tbar_s-channel_TuneZ2star_8TeV-powheg-tauola',\n",
    "    'T_tW-channel-DR_TuneZ2star_8TeV-powheg-tauola',\n",
    "    'Tbar_tW-channel-DR_TuneZ2star_8TeV-powheg-tauola',\n",
    "    'tGamma_8TeV_madgraph'\n",
    "\n",
    "\n",
    "]"
   ]
  },
  {
   "cell_type": "markdown",
   "metadata": {},
   "source": [
    "### TOP-14-021 Observation of top quark pairs produced in association with a vector boson"
   ]
  },
  {
   "cell_type": "markdown",
   "metadata": {},
   "source": [
    "A measurement of top quark pair production in association with a W or Z boson is presented, using 8 TeV proton-proton collision data corresponding to an integrated luminosity of 19.5 fb−1\n",
    ", collected by the CMS experiment at the LHC. Final states are selected in which the associated W boson decays to a charged lepton and a neutrino (W→ℓν\n",
    ") or the Z boson decays to two charged leptons (Z→ℓℓ\n",
    "), where ℓ\n",
    " refers to an electron or muon. The tt¯W\n",
    " cross section is measured to be σ(tt¯W)=382+117−102\n",
    "fb with a significance of 4.8 standard deviations from the background-only hypothesis. The tt¯Z\n",
    " cross section is measured to be σ(tt¯Z)=242+65−55\n",
    " fb with a significance of 6.4 standard deviations from the background-only hypothesis. These measurements are used to find bounds for five anomalous dimension-six operators which would affect the tt¯W\n",
    " and tt¯Z\n",
    " cross sections."
   ]
  },
  {
   "cell_type": "markdown",
   "metadata": {},
   "source": [
    "- Difficult to reproduce..."
   ]
  },
  {
   "cell_type": "markdown",
   "metadata": {},
   "source": [
    "<img src=\"pictures/TOP-14-021.png\" alt=\"drawing\" width=\"300\"/>"
   ]
  },
  {
   "cell_type": "code",
   "execution_count": null,
   "metadata": {},
   "outputs": [],
   "source": [
    "signal_samples = [\n",
    "\n",
    "    'TTWJets_8TeVmadgraph/Summer12_DR53XPU_S10_START53_V7Av1',\n",
    "    'TTZJets_8TeVmadgraph_v2/Summer12_DR53XPU_S10_START53_V7Av1',\n",
    "    'TTH_Inclusive_M-125_8TeV_pythia6/Summer12_DR53X-PU_S10_START53_V7A-v1'\n",
    "]\n",
    "\n",
    "bkg_samples = [\n",
    "\n",
    "    'WZJetsTo3LNu_TuneZ2_8TeV-madgraph-tauola/Summer12_DR53X-PU_S10_START53_V7A-v1',\n",
    "    'ZZJetsTo4L_TuneZ2star_8TeV-madgraph-tauola/Summer12_DR53X-PU_S10_START53_V7A-v1',\n",
    "    'gpetrucc_ttH_gen_2013-05-23_lowmll_zz_lowmll_v2',\n",
    "    'WWWJets_8TeV-madgraph/Summer12_DR53X-PU_S10_START53_V7A-v1',\n",
    "    'WWZNoGstarJets_8TeV-madgraph/Summer12_DR53X-PU_S10_START53_V7A-v1',\n",
    "    'TBZToLL_4F_TuneZ2star_8TeV-madgraph-tauola/Summer12_DR53X-PU_S10_START53_V7C-v1',\n",
    "    'WpWpqq_8TeV-madgraph/Summer12_DR53X-PU_S10_START53_V7A-v1',\n",
    "    'WW_DoubleScattering_8TeV-pythia8/Summer12_DR53X-PU_S10_START53_V7A-v1',\n",
    "    'TTWWJets_8TeV-madgraph/Summer12_DR53X-PU_S10_START53_V7A-v1',\n",
    "    'TTGJets_8TeV-madgraph/Summer12_DR53X-PU_S10_START53_V7A-v1',\n",
    "    'gpetrucc_ttH_gen_2013-05-23_lowmll_ttgstar_lowmll_ee_v2',\n",
    "    'gpetrucc_ttH_gen_2013-05-23_lowmll_ttgstar_lowmll_mumu_v2',\n",
    "    'gpetrucc_ttH_gen_2013-05-23_lowmll_ttgstar_lowmll_tautau',\n",
    "    'TTJets_MassiveBinDECAY_TuneZ2star_8TeVmadgraph-tauola/Summer12_DR53XPU_S10_START53_V7Av1',\n",
    "    'TTJets_SemiLeptMGDecays_8TeVmadgraph/Summer12_DR53X-PU_S10_START53_V7A_extv1',\n",
    "    'TTJets_HadronicMGDecays_8TeVmadgraph/Summer12_DR53X-PU_S10_START53_V7A_extv1',\n",
    "    'DYJetsToLL_M10To50_TuneZ2Star_8TeVmadgraph/Summer12_DR53X-PU_S10_START53_V7Av1',\n",
    "    'DYJetsToLL_M50_TuneZ2Star_8TeVmadgraph-tarball/Summer12_DR53XPU_S10_START53_V7Av1',\n",
    "    'DY1JetsToLL_M50_TuneZ2Star_8TeVmadgraph/Summer12_DR53X-PU_S10_START53_V7Av1',\n",
    "    'DY2JetsToLL_M50_TuneZ2Star_8TeVmadgraph/Summer12_DR53X-PU_S10_START53_V7Av1',\n",
    "    'DY3JetsToLL_M50_TuneZ2Star_8TeVmadgraph/Summer12_DR53X-PU_S10_START53_V7Av1',\n",
    "    'DY4JetsToLL_M50_TuneZ2Star_8TeVmadgraph/Summer12_DR53X-PU_S10_START53_V7Av1'\n",
    "]"
   ]
  },
  {
   "cell_type": "code",
   "execution_count": null,
   "metadata": {},
   "outputs": [],
   "source": []
  },
  {
   "cell_type": "code",
   "execution_count": null,
   "metadata": {},
   "outputs": [],
   "source": []
  },
  {
   "cell_type": "code",
   "execution_count": null,
   "metadata": {},
   "outputs": [],
   "source": []
  },
  {
   "cell_type": "code",
   "execution_count": null,
   "metadata": {},
   "outputs": [],
   "source": []
  },
  {
   "cell_type": "code",
   "execution_count": 16,
   "metadata": {},
   "outputs": [
    {
     "name": "stdout",
     "output_type": "stream",
     "text": [
      "TTWJets Not Found\n",
      "TTZJets Found\n",
      "TTH Found\n",
      "WZJetsTo3LNu Found\n",
      "ZZJetsTo4L Not Found\n",
      "WWWJets Found\n",
      "WWZNoGstarJets Found\n",
      "TBZToLL Not Found\n",
      "WpWpqq Not Found\n",
      "WW Found\n",
      "TTWWJets Not Found\n",
      "TTGJets Found\n",
      "TTJets_MassiveBin Found\n",
      "TTJets_SemiLeptMG Found\n",
      "TTJets_HadronicMGDecays Found\n",
      "DYJetsToLL Found\n",
      "DY1JetsToLL Found\n",
      "DY2JetsToLL Found\n",
      "DY3JetsToLL Found\n",
      "DY4JetsToLL Found\n"
     ]
    }
   ],
   "source": [
    "results = []\n",
    "for s in samples:\n",
    "    if len(soup.findAll(text=re.compile(s))) > 0:\n",
    "        print( s, 'Found')\n",
    "    else:\n",
    "        print( s, 'Not Found')"
   ]
  }
 ],
 "metadata": {
  "kernelspec": {
   "display_name": "Python 3",
   "language": "python",
   "name": "python3"
  },
  "language_info": {
   "codemirror_mode": {
    "name": "ipython",
    "version": 3
   },
   "file_extension": ".py",
   "mimetype": "text/x-python",
   "name": "python",
   "nbconvert_exporter": "python",
   "pygments_lexer": "ipython3",
   "version": "3.7.6"
  }
 },
 "nbformat": 4,
 "nbformat_minor": 4
}
