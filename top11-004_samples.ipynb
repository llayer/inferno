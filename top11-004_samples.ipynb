{
 "cells": [
  {
   "cell_type": "markdown",
   "metadata": {},
   "source": [
    "# TOP 11-004"
   ]
  },
  {
   "cell_type": "markdown",
   "metadata": {},
   "source": [
    "## Original samples"
   ]
  },
  {
   "cell_type": "code",
   "execution_count": 1,
   "metadata": {},
   "outputs": [],
   "source": [
    "signal_mc = [\n",
    "    'TTJets_TuneZ2_7TeV-madgraph-tauola/Summer11-PU_S4_START42_V11-v1',\n",
    "    'TTJets_TuneZ2_mass166_5_7TeV-madgraph-tauola/Summer11-PU_S4_START42_V11-v3/AODSIM',\n",
    "    'TTJets_TuneZ2_mass178_5_7TeV-madgraph-tauola/Summer11-PU_S4_START42_V11-v3/AODSIM',\n",
    "    'TTjets_TuneZ2_matchingdown_7TeV-madgraph-tauola/Summer11-PU_S4_START42_V11-v1/AODSIM',\n",
    "    'TTjets_TuneZ2_matchingup_7TeV-madgraph-tauola/Summer11-PU_S4_START42_V11-v1/AODSIM',\n",
    "    'TTjets_TuneZ2_scaleup_7TeV-madgraph-tauola/Summer11-PU_S4_START42_V11-v1/AODSIM',\n",
    "    'TTjets_TuneZ2_scaledown_7TeV-madgraph-tauola/Summer11-PU_S4_START42_V11-v1/AODSIM'\n",
    "]\n",
    "\n",
    "background_mc = [\n",
    "    'WJetsToLNu_TuneZ2_7TeV-madgraph-tauola/Summer11-PU_S4_START42_V11-v1',\n",
    "    'DYJetsToLL_TuneZ2_M-50_7TeV-madgraph-tauola/Summer11-PU_S4_START42_V11-v1',\n",
    "    'T_TuneZ2_s-channel_7TeV-powheg-tauola/Summer11-PU_S4_START42_V11-v1/AODSIM',\n",
    "    'Tbar_TuneZ2_s-channel_7TeV-powheg-tauola/Summer11-PU_S4_START42_V11-v1/AODSIM',\n",
    "    'T_TuneZ2_tW-channel-DR_7TeV-powheg-tauola/Summer11-PU_S4_START42_V11-v1/AODSIM',\n",
    "    'Tbar_TuneZ2_tW-channel-DR_7TeV-powheg-tauola/Summer11-PU_S4_START42_V11-v1/AODSIM',\n",
    "    'T_TuneZ2_t-channel_7TeV-powheg-tauola/Summer11-PU_S4_START42_V11-v1/AODSIM',\n",
    "    'Tbar_TuneZ2_t-channel_7TeV-powheg-tauola/Summer11-PU_S4_START42_V11-v1/AODSIM',\n",
    "    'ZJetsToLL_TuneZ2_scaleup_7TeV-madgraph-tauola/Summer11-PU_S4_START42_V11-v1/AODSIM',\n",
    "    'ZJetsToLL_TuneZ2_scaledown_7TeV-madgraph-tauola/Summer11-PU_S4_START42_V11-v1/AODSIM',\n",
    "    'ZJetsToLL_TuneZ2_matchingup_7TeV-madgraph-tauola/Summer11-PU_S4_START42_V11-v1/AODSIM',\n",
    "    'ZJetsToLL_TuneZ2_matchingdown_7TeV-madgraph-tauola/Summer11-PU_S4_START42_V11-v1/AODSIM',\n",
    "    'WJetsToLNu_TuneZ2_scaleup_7TeV-madgraph-tauola/Summer11-PU_S4_START42_V11-v1/AODSIM',\n",
    "    'WJetsToLNu_TuneZ2_scaledown_7TeV-madgraph-tauola/Summer11-PU_S4_START42_V11-v1/AODSIM',\n",
    "    'WJetsToLNu_TuneZ2_matchingup_7TeV-madgraph-tauola/Summer11-PU_S4_START42_V11-v1/AODSIM',\n",
    "    'WJetsToLNu_TuneZ2_matchingdown_7TeV-madgraph-tauola/Summer11-PU_S4_START42_V11-v1/AODSIM'\n",
    "]"
   ]
  },
  {
   "cell_type": "markdown",
   "metadata": {},
   "source": [
    "## CMS open samples"
   ]
  },
  {
   "cell_type": "code",
   "execution_count": null,
   "metadata": {},
   "outputs": [],
   "source": [
    "signal_cmsopen = [\n",
    "    \n",
    "    # Central\n",
    "    'TTJets_MSDecays_central_TuneZ2_7TeV-madgraph-tauola/Summer11LegDR-PU_S13_START53_LV6-v1/AODSIM',\n",
    "    #'TTJets_TuneZ2_7TeV-madgraph-tauola/Summer11LegDR-PU_S13_START53_LV6-v1/AODSIM'\n",
    "    \n",
    "    # Mass variations\n",
    "    'TTJets_MSDecays_mass169_5_7TeV-madgraph-tauola/Summer11LegDR-PU_S13_START53_LV6-v1/AODSIM',\n",
    "    'TTJets_MSDecays_mass171_5_7TeV-madgraph-tauola/Summer11LegDR-PU_S13_START53_LV6-v1/AODSIM',\n",
    "    'TTJets_MSDecays_mass173_5_7TeV-madgraph-tauola/Summer11LegDR-PU_S13_START53_LV6-v1/AODSIM',\n",
    "    'TTJets_MSDecays_mass175_5_7TeV-madgraph-tauola/Summer11LegDR-PU_S13_START53_LV6-v1/AODSIM',\n",
    "    \n",
    "    # Scale variations\n",
    "    'TTJets_MSDecays_scaleup_mt172_5_7TeV-madgraph-tauola/Summer11LegDR-PU_S13_START53_LV6-v1/AODSIM',\n",
    "    'TTJets_MSDecays_scaledown_mt172_5_7TeV-madgraph-tauola/Summer11LegDR-PU_S13_START53_LV6-v1/AODSIM',\n",
    "    #'TTJets_MSDecays_matchingdown_mt172_5_7TeV-madgraph/Summer11LegDR-PU_S13_START53_LV6-v1/AODSIM',\n",
    "    #'TTJets_MSDecays_scaleup_TuneZ2star_7TeV-madgraph-tauola/Summer11LegDR-PU_S13_START53_LV6-v2/AODSIM',\n",
    "    #'TTJets_MSDecays_scaledown_TuneZ2star_7TeV-madgraph-tauola/Summer11LegDR-PU_S13_START53_LV6-v2/AODSIM',\n",
    "    'TTJets_MSDecays_matchingup_7TeV-madgraph-tauola/Summer11LegDR-PU_S13_START53_LV6-v1/AODSIM',\n",
    "    'TTJets_MSDecays_matchingdown_7TeV-madgraph-tauola/Summer11LegDR-PU_S13_START53_LV6-v1/AODSIM',\n",
    "    \n",
    "]"
   ]
  },
  {
   "cell_type": "code",
   "execution_count": null,
   "metadata": {},
   "outputs": [],
   "source": [
    "bkg_cmsopen = [\n",
    "    \n",
    "    # Z+gamma\n",
    "    'DYJetsToLL_TuneZ2_M-50_7TeV-madgraph-tauola/Summer11LegDR-PU_S13_START53_LV6-v1/AODSIM',\n",
    "    # W+jets\n",
    "    'WJetsToLNu_TuneZ2_7TeV-madgraph-tauola/Summer11LegDR-PU_S13_START53_LV6-v1/AODSIM',\n",
    "    # single t (t-channel)\n",
    "    'T_TuneZ2_t-channel_7TeV-powheg-tauola/Summer11LegDR-PU_S13_START53_LV6-v1/AODSIM',\n",
    "    'Tbar_TuneZ2_t-channel_7TeV-powheg-tauola/Summer11LegDR-PU_S13_START53_LV6-v1/AODSIM',\n",
    "    # single t (tw-channel)\n",
    "    'T_TuneZ2_tW-channel-DR_7TeV-powheg-tauola/Summer11LegDR-PU_S13_START53_LV6-v1/AODSIM',\n",
    "    'Tbar_TuneZ2_tW-channel-DR_7TeV-powheg-tauola/Summer11LegDR-PU_S13_START53_LV6-v1/AODSIM',\n",
    "    # single t (s-channel)\n",
    "    'Tbar_TuneZ2_s-channel_7TeV-powheg-tauola/Summer11LegDR-PU_S13_START53_LV6-v1/AODSIM',\n",
    "    'T_TuneZ2_s-channel_7TeV-powheg-tauola/Summer11LegDR-PU_S13_START53_LV6-v1/AODSIM'\n",
    "    \n",
    "]"
   ]
  }
 ],
 "metadata": {
  "kernelspec": {
   "display_name": "Python 3",
   "language": "python",
   "name": "python3"
  },
  "language_info": {
   "codemirror_mode": {
    "name": "ipython",
    "version": 3
   },
   "file_extension": ".py",
   "mimetype": "text/x-python",
   "name": "python",
   "nbconvert_exporter": "python",
   "pygments_lexer": "ipython3",
   "version": "3.7.6"
  }
 },
 "nbformat": 4,
 "nbformat_minor": 4
}
