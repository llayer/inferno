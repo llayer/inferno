{
  "nbformat": 4,
  "nbformat_minor": 0,
  "metadata": {
    "kernelspec": {
      "display_name": "Python 3",
      "language": "python",
      "name": "python3"
    },
    "language_info": {
      "codemirror_mode": {
        "name": "ipython",
        "version": 3
      },
      "file_extension": ".py",
      "mimetype": "text/x-python",
      "name": "python",
      "nbconvert_exporter": "python",
      "pygments_lexer": "ipython3",
      "version": "3.7.6"
    },
    "colab": {
      "name": "inferno.ipynb",
      "provenance": [],
      "include_colab_link": true
    }
  },
  "cells": [
    {
      "cell_type": "markdown",
      "metadata": {
        "id": "view-in-github",
        "colab_type": "text"
      },
      "source": [
        "<a href=\"https://colab.research.google.com/github/llayer/inferno/blob/master/inferno.ipynb\" target=\"_parent\"><img src=\"https://colab.research.google.com/assets/colab-badge.svg\" alt=\"Open In Colab\"/></a>"
      ]
    },
    {
      "cell_type": "markdown",
      "metadata": {
        "id": "XPx1Yx0LjGb3",
        "colab_type": "text"
      },
      "source": [
        "# Replication of the 3D synthetic INFERNO example in TF 2.0"
      ]
    },
    {
      "cell_type": "markdown",
      "metadata": {
        "id": "GqIHm6SbjGb5",
        "colab_type": "text"
      },
      "source": [
        "## 1. Statistical model"
      ]
    },
    {
      "cell_type": "code",
      "metadata": {
        "id": "8Vo2EZ63jGb7",
        "colab_type": "code",
        "colab": {}
      },
      "source": [
        "# For colab\n",
        "%tensorflow_version 2.x"
      ],
      "execution_count": 0,
      "outputs": []
    },
    {
      "cell_type": "code",
      "metadata": {
        "id": "Q0mwSRHjxDWo",
        "colab_type": "code",
        "colab": {}
      },
      "source": [
        "# Load the TensorBoard notebook extension\n",
        "%load_ext tensorboard"
      ],
      "execution_count": 0,
      "outputs": []
    },
    {
      "cell_type": "code",
      "metadata": {
        "id": "Y9l5nuSijGcG",
        "colab_type": "code",
        "colab": {}
      },
      "source": [
        "import tensorflow as tf\n",
        "import tensorflow_probability as tfp\n",
        "import itertools as it\n",
        "from collections import OrderedDict\n",
        "import numpy as np\n",
        "import datetime, os"
      ],
      "execution_count": 0,
      "outputs": []
    },
    {
      "cell_type": "code",
      "metadata": {
        "id": "x_kOPRp0jGcO",
        "colab_type": "code",
        "colab": {}
      },
      "source": [
        "ds = tfp.distributions\n",
        "k = tf.keras"
      ],
      "execution_count": 0,
      "outputs": []
    },
    {
      "cell_type": "code",
      "metadata": {
        "id": "LCzO66jajGcU",
        "colab_type": "code",
        "colab": {}
      },
      "source": [
        "import numpy as np\n",
        "\n",
        "_MAXINT32 = 2**31 - 1\n",
        "\n",
        "def truncate_seed(seed):\n",
        "  return seed % _MAXINT32  # Truncate to fit into 32-bit integer\n",
        "\n",
        "\n",
        "class IndependentList(ds.Distribution):\n",
        "  \"\"\"Independent distribution from a list of distributions.\n",
        "  \"\"\"\n",
        "\n",
        "  def __init__(\n",
        "      self, distributions,\n",
        "      validate_args=False, name=None):\n",
        "    \"\"\"  Construct a `IndependentList` distribution.\n",
        "    \"\"\"\n",
        "    parameters = locals()\n",
        "    name = name or \"IndependentList\"\n",
        "    self._distributions = distributions\n",
        "    self._event_shapes = []\n",
        "    for d in self._distributions:\n",
        "        if len(d.event_shape) is 0:\n",
        "          self._event_shapes.append(1)\n",
        "        elif len(d.event_shape) is 1:\n",
        "          self._event_shapes.append(d.event_shape.as_list()[0])\n",
        "        else:\n",
        "          raise ValueError(\n",
        "              \"Dimension of each distribution event_shape has to be 0 or 1\")\n",
        "\n",
        "    super(IndependentList, self).__init__(\n",
        "        dtype=self._distributions[0].dtype,\n",
        "        reparameterization_type=self._distributions[0].reparameterization_type,\n",
        "        validate_args=validate_args,\n",
        "        allow_nan_stats=self._distributions[0].allow_nan_stats,\n",
        "        parameters=parameters,\n",
        "        graph_parents=(\n",
        "            sum([d._graph_parents for d in self._distributions],[])\n",
        "        ),  # pylint: disable=protected-access\n",
        "        name=name)\n",
        "\n",
        "  @property\n",
        "  def distributions(self):\n",
        "    return self._distributions\n",
        "\n",
        "  @property\n",
        "  def event_shapes(self):\n",
        "    return self._event_shapes\n",
        "\n",
        "  def _batch_shape_tensor(self):\n",
        "    batch_shape = self.distributions[0].batch_shape_tensor()\n",
        "    return batch_shape\n",
        "\n",
        "  def _batch_shape(self):\n",
        "    batch_shape = self.distributions[0].batch_shape\n",
        "    return batch_shape\n",
        "\n",
        "  def _event_shape_tensor(self):\n",
        "    event_shape = tf.convert_to_tensor([sum(self.event_shapes)], dtype=tf.float32)\n",
        "    return event_shape\n",
        "\n",
        "  def _event_shape(self):\n",
        "    event_shape = tf.TensorShape([sum(self.event_shapes)])\n",
        "    return event_shape\n",
        "\n",
        "  def _sample_n(self, n, seed):\n",
        "    rs = np.random.RandomState(seed=truncate_seed(seed))\n",
        "    # get random seeds (have to be Python ints)\n",
        "    seeds = rs.randint(low=0,high=10000, size=len(self.distributions))\n",
        "    samples = [tf.reshape(d.sample(n, seed=seed),[n,-1])\n",
        "               for s,d in zip(seeds,self.distributions)]\n",
        "    return tf.concat(samples, axis=-1)\n",
        "\n",
        "  def _log_prob(self, x):\n",
        "    # beware caching in bijector composed distributions\n",
        "    splitted_x = tf.split(x, self.event_shapes, axis=-1)\n",
        "    log_probs = [tf.reshape(d.log_prob(x_i),\n",
        "                   tf.concat([tf.shape(x_i)[:-1], [-1]], axis=-1))\n",
        "                   for x_i, d in zip(splitted_x, self.distributions)]\n",
        "    return tf.reduce_sum(tf.stack(log_probs, axis=-1), axis=-1)"
      ],
      "execution_count": 0,
      "outputs": []
    },
    {
      "cell_type": "code",
      "metadata": {
        "id": "yutJtqrbjGcY",
        "colab_type": "code",
        "colab": {}
      },
      "source": [
        "r_dist = tf.Variable(2., shape=(), name=\"r_dist\")\n",
        "b_rate = tf.Variable(3., shape=(), name=\"b_rate\")"
      ],
      "execution_count": 0,
      "outputs": []
    },
    {
      "cell_type": "code",
      "metadata": {
        "id": "PGpYXI9LjGcc",
        "colab_type": "code",
        "colab": {}
      },
      "source": [
        "# Background distribution with nuisance\n",
        "# 2D normal  with variable mean\n",
        "MultNormal = ds.MultivariateNormalTriL\n",
        "# Initialize a single 3-variate Gaussian.\n",
        "mu = [r_dist, 0.] #[2., 0.]\n",
        "covariance_matrix=[[5., 0.], [0., 9.]]\n",
        "scale = tf.linalg.cholesky(covariance_matrix)\n",
        "b_01 = MultNormal(loc=mu, scale_tril=scale)"
      ],
      "execution_count": 0,
      "outputs": []
    },
    {
      "cell_type": "code",
      "metadata": {
        "id": "nXRL3JkyjGcf",
        "colab_type": "code",
        "colab": {}
      },
      "source": [
        "b_2 = ds.Exponential(rate = b_rate , name=\"b_2\")"
      ],
      "execution_count": 0,
      "outputs": []
    },
    {
      "cell_type": "code",
      "metadata": {
        "id": "GAynVdBwjGch",
        "colab_type": "code",
        "colab": {}
      },
      "source": [
        "# Signal distribution\n",
        "# 2D normal fully defined\n",
        "s_01 = ds.MultivariateNormalDiag(loc=[0., 0.],\n",
        "                                        scale_diag=[1., 1.], name=\"s_01\")"
      ],
      "execution_count": 0,
      "outputs": []
    },
    {
      "cell_type": "code",
      "metadata": {
        "id": "_GVV3roUjGcj",
        "colab_type": "code",
        "colab": {}
      },
      "source": [
        "s_2 = ds.Exponential(rate=2.0, name=\"s_2\")"
      ],
      "execution_count": 0,
      "outputs": []
    },
    {
      "cell_type": "code",
      "metadata": {
        "id": "4HykM2C1jGcm",
        "colab_type": "code",
        "colab": {}
      },
      "source": [
        "# full background distribution\n",
        "b_dist = IndependentList(distributions=[b_01, b_2], name=\"b_dist\")\n",
        "s_dist = IndependentList(distributions=[s_01, s_2], name=\"s_dist\")"
      ],
      "execution_count": 0,
      "outputs": []
    },
    {
      "cell_type": "code",
      "metadata": {
        "id": "tZFZdyEejGco",
        "colab_type": "code",
        "colab": {}
      },
      "source": [
        "\n",
        "# Full model\n",
        "# expected amount of signal\n",
        "s_exp = tf.Variable(50., shape=(), name=\"s_exp\")\n",
        "# expected amount of background\n",
        "b_exp = tf.Variable(1000., shape=(), name=\"b_exp\")\n",
        "\n",
        "# compute signal fraction from s_exp and b_exp\n",
        "mu = s_exp / (s_exp + b_exp)\n",
        "\n",
        "# full mixture distribution\n",
        "m_dist = ds.Mixture(cat=ds.Categorical(probs=[1. - mu, mu]),\n",
        "                            components=[b_dist, s_dist],\n",
        "                            name=\"mixture\")\n",
        "\n",
        "# ordered dict with all model parameters\n",
        "all_pars = OrderedDict([('s_exp', s_exp),\n",
        "                        ('r_dist', r_dist),\n",
        "                        ('b_rate', b_rate),\n",
        "                        ('b_exp', b_exp)])"
      ],
      "execution_count": 0,
      "outputs": []
    },
    {
      "cell_type": "markdown",
      "metadata": {
        "id": "cE884-XEjGcq",
        "colab_type": "text"
      },
      "source": [
        "## 2. Generate data"
      ]
    },
    {
      "cell_type": "code",
      "metadata": {
        "id": "OWV4GSe5jGcq",
        "colab_type": "code",
        "colab": {}
      },
      "source": [
        "def generate_data(n_samples, seed):\n",
        "\n",
        "    components = {\"bkg\": b_dist,\n",
        "                    \"sig\": s_dist}\n",
        "\n",
        "    dataset = {}\n",
        "    for c_name, c_dist in components.items():\n",
        "        dataset[c_name] = c_dist.sample(n_samples, seed=seed,\n",
        "                                        name=f'{c_dist.name}_sample')\n",
        "\n",
        "    return dataset\n",
        "\n",
        "def train_data():\n",
        "\n",
        "    return generate_data(n_samples=100000, seed=27)\n",
        "\n",
        "def valid_data():\n",
        "\n",
        "    return generate_data(n_samples=100000, seed=37)\n",
        "\n",
        "def test_data():\n",
        "\n",
        "    return generate_data(n_samples=500000, seed=47)\n",
        "\n",
        "def log_density_ratio( x):\n",
        "\n",
        "    log_dr = s_dist.log_prob(x) - b_dist.log_prob(x)\n",
        "\n",
        "    return log_dr\n",
        "\n",
        "def optimal_classifier( x):\n",
        "\n",
        "    log_dr = log_density_ratio(x)\n",
        "    opt_clf = tf.exp(log_dr) / (1. + tf.exp(log_dr))\n",
        "\n",
        "    return opt_clf"
      ],
      "execution_count": 0,
      "outputs": []
    },
    {
      "cell_type": "code",
      "metadata": {
        "id": "ungajYiMjGct",
        "colab_type": "code",
        "colab": {}
      },
      "source": [
        "train = train_data()\n",
        "sig = tf.data.Dataset.from_tensor_slices(train['sig'])\n",
        "bkg = tf.data.Dataset.from_tensor_slices(train['bkg'])"
      ],
      "execution_count": 0,
      "outputs": []
    },
    {
      "cell_type": "code",
      "metadata": {
        "id": "qUecboh4jGcw",
        "colab_type": "code",
        "colab": {}
      },
      "source": [
        "dataset = tf.data.Dataset.zip((sig, bkg))"
      ],
      "execution_count": 0,
      "outputs": []
    },
    {
      "cell_type": "code",
      "metadata": {
        "id": "HSMusHUMBpgm",
        "colab_type": "code",
        "colab": {}
      },
      "source": [
        ""
      ],
      "execution_count": 0,
      "outputs": []
    },
    {
      "cell_type": "code",
      "metadata": {
        "id": "C2oyJ7MijGcy",
        "colab_type": "code",
        "colab": {}
      },
      "source": [
        "from mpl_toolkits.mplot3d import Axes3D\n",
        "import matplotlib.pyplot as plt"
      ],
      "execution_count": 0,
      "outputs": []
    },
    {
      "cell_type": "code",
      "metadata": {
        "id": "H5R2F3Y5jGc0",
        "colab_type": "code",
        "colab": {}
      },
      "source": [
        ""
      ],
      "execution_count": 0,
      "outputs": []
    },
    {
      "cell_type": "code",
      "metadata": {
        "id": "IEIo9iUjjGc3",
        "colab_type": "code",
        "outputId": "bb7c33a5-4c25-4c30-c232-5200b5eee259",
        "colab": {
          "base_uri": "https://localhost:8080/",
          "height": 248
        }
      },
      "source": [
        "fig = plt.figure()\n",
        "ax = fig.add_subplot(111, projection='3d')\n",
        "b = train['bkg'].numpy()\n",
        "s = train['sig'].numpy()\n",
        "ax.scatter(b[:,0], b[:,1], b[:,2], alpha=0.1)\n",
        "ax.scatter(s[:,0], s[:,1], s[:,2], alpha=0.1)\n",
        "ax.set_xlabel('x1')\n",
        "ax.set_ylabel('x2')\n",
        "ax.set_zlabel('x3')\n",
        "ax.view_init(azim=150)\n",
        "\n"
      ],
      "execution_count": 154,
      "outputs": [
        {
          "output_type": "display_data",
          "data": {
            "image/png": "[encoded data removed]",
            "text/plain": [
              "<Figure size 432x288 with 1 Axes>"
            ]
          },
          "metadata": {
            "tags": []
          }
        }
      ]
    },
    {
      "cell_type": "code",
      "metadata": {
        "id": "XemglXBMGNuW",
        "colab_type": "code",
        "colab": {}
      },
      "source": [
        "# Validation data\n",
        "valid = valid_data()\n",
        "sig_val = tf.data.Dataset.from_tensor_slices(valid['sig'])\n",
        "bkg_val = tf.data.Dataset.from_tensor_slices(valid['bkg'])"
      ],
      "execution_count": 0,
      "outputs": []
    },
    {
      "cell_type": "code",
      "metadata": {
        "id": "Kex3_9oJGc_T",
        "colab_type": "code",
        "colab": {}
      },
      "source": [
        "val_set = tf.data.Dataset.zip((sig_val, bkg_val))"
      ],
      "execution_count": 0,
      "outputs": []
    },
    {
      "cell_type": "markdown",
      "metadata": {
        "id": "x2SAHL7hjGc7",
        "colab_type": "text"
      },
      "source": [
        "## 3. Train the model"
      ]
    },
    {
      "cell_type": "code",
      "metadata": {
        "id": "y_NMscxEjGc8",
        "colab_type": "code",
        "colab": {}
      },
      "source": [
        "k_init = \"he_normal\"\n",
        "Dense = k.layers.Dense\n",
        "par_names = [\"s_exp\", \"r_dist\", \"b_rate\"] #[\"s_exp\"] #, \"b_exp\"] #[\"s_exp\", \"r_dist\"]\n",
        "poi = 's_exp'\n",
        "pars = list(all_pars.values())\n",
        "temperature = tf.Variable(1., shape=(), name=\"temp\")\n",
        "batch_size = 1000 #x2 for signal and bkg\n",
        "aux = {\"r_dist\": ds.Normal(loc=2.0, scale=0.4),\n",
        "       \"b_rate\": ds.Normal(loc=3.0, scale=1.)}\n",
        "nn_model = k.Sequential([Dense(units=100, activation=\"relu\",\n",
        "                                    kernel_initializer=k_init,\n",
        "                                    input_shape=(3,)),\n",
        "                         Dense(units=100, activation=\"relu\",\n",
        "                                    kernel_initializer=k_init),\n",
        "                              Dense(units=10, activation=\"linear\")])\n",
        "lr = 10e-6\n",
        "optimizer = tf.keras.optimizers.Adam(lr)#, clipnorm=1)"
      ],
      "execution_count": 0,
      "outputs": []
    },
    {
      "cell_type": "code",
      "metadata": {
        "id": "dhzxJqnXEgFb",
        "colab_type": "code",
        "colab": {
          "base_uri": "https://localhost:8080/",
          "height": 85
        },
        "outputId": "25c27622-ac43-4d68-db88-7009948efd48"
      },
      "source": [
        "pars"
      ],
      "execution_count": 21,
      "outputs": [
        {
          "output_type": "execute_result",
          "data": {
            "text/plain": [
              "[<tf.Variable 's_exp:0' shape=() dtype=float32, numpy=50.0>,\n",
              " <tf.Variable 'r_dist:0' shape=() dtype=float32, numpy=2.0>,\n",
              " <tf.Variable 'b_rate:0' shape=() dtype=float32, numpy=3.0>,\n",
              " <tf.Variable 'b_exp:0' shape=() dtype=float32, numpy=1000.0>]"
            ]
          },
          "metadata": {
            "tags": []
          },
          "execution_count": 21
        }
      ]
    },
    {
      "cell_type": "code",
      "metadata": {
        "id": "izIMtICyQfK1",
        "colab_type": "code",
        "colab": {
          "base_uri": "https://localhost:8080/",
          "height": 255
        },
        "outputId": "4aa8d7fa-c4b9-4c7d-ba4a-8b2766fe3551"
      },
      "source": [
        "nn_model.summary()"
      ],
      "execution_count": 22,
      "outputs": [
        {
          "output_type": "stream",
          "text": [
            "Model: \"sequential\"\n",
            "_________________________________________________________________\n",
            "Layer (type)                 Output Shape              Param #   \n",
            "=================================================================\n",
            "dense (Dense)                (None, 100)               400       \n",
            "_________________________________________________________________\n",
            "dense_1 (Dense)              (None, 100)               10100     \n",
            "_________________________________________________________________\n",
            "dense_2 (Dense)              (None, 10)                1010      \n",
            "=================================================================\n",
            "Total params: 11,510\n",
            "Trainable params: 11,510\n",
            "Non-trainable params: 0\n",
            "_________________________________________________________________\n"
          ],
          "name": "stdout"
        }
      ]
    },
    {
      "cell_type": "code",
      "metadata": {
        "id": "8bBJHLF7yGgx",
        "colab_type": "code",
        "colab": {}
      },
      "source": [
        "\n",
        "current_time = datetime.datetime.now().strftime(\"%Y%m%d-%H%M%S\")\n",
        "train_log_dir = 'logs/gradient_tape/' + current_time + '/train'\n",
        "test_log_dir = 'logs/gradient_tape/' + current_time + '/test'\n",
        "train_summary_writer = tf.summary.create_file_writer(train_log_dir)\n",
        "test_summary_writer = tf.summary.create_file_writer(test_log_dir)"
      ],
      "execution_count": 0,
      "outputs": []
    },
    {
      "cell_type": "code",
      "metadata": {
        "id": "nyMp9_lOjGc-",
        "colab_type": "code",
        "colab": {}
      },
      "source": [
        "batched_dataset = dataset.batch(batch_size)"
      ],
      "execution_count": 0,
      "outputs": []
    },
    {
      "cell_type": "code",
      "metadata": {
        "id": "QC2946eTjGdA",
        "colab_type": "code",
        "colab": {}
      },
      "source": [
        "@tf.function\n",
        "def transform_bkg(x, r_dist_g=2., b_rate_g=3.):\n",
        "\n",
        "    # apply transformations over each dim\n",
        "    x_prime_0 = x[:, 0] - r_dist_g + r_dist\n",
        "    x_prime_1 = x[:, 1]\n",
        "    x_prime_2 = x[:, 2] * (b_rate_g / b_rate)\n",
        "\n",
        "    x_prime = tf.stack([x_prime_0, x_prime_1, x_prime_2], 1,\n",
        "                       name=\"x_prime\")\n",
        "    return x_prime"
      ],
      "execution_count": 0,
      "outputs": []
    },
    {
      "cell_type": "code",
      "metadata": {
        "id": "uo3C1zAZjGdB",
        "colab_type": "code",
        "colab": {}
      },
      "source": [
        "@tf.function\n",
        "def cov_matrix(ext_nll, pars):\n",
        "\n",
        "    pars = tuple(pars)\n",
        "\n",
        "    indices = [list(all_pars.keys()).index(par) for par in pars]\n",
        "    idx_subset = np.reshape(list(it.product(indices, indices)),\n",
        "                            (len(pars), len(pars), -1))\n",
        "    #print( idx_subset )\n",
        "\n",
        "    hess_subset = tf.gather_nd(ext_nll, idx_subset)\n",
        "\n",
        "    try:\n",
        "        cov_nll = tf.linalg.inv(hess_subset)\n",
        "    except:\n",
        "        print( hess_subset )\n",
        "\n",
        "    return cov_nll"
      ],
      "execution_count": 0,
      "outputs": []
    },
    {
      "cell_type": "code",
      "metadata": {
        "id": "-xcZCoTkjGdD",
        "colab_type": "code",
        "colab": {}
      },
      "source": [
        "@tf.function\n",
        "def conv_hessian(grad_grad, par):\n",
        "\n",
        "    grad_grad = [tf.zeros_like(pars[j]) if grad is None else grad\n",
        "                        for j, grad in enumerate(grad_grad)]   \n",
        "    grad_grad = [tf.expand_dims(g,1) if len(g.shape)==1 else g for g\n",
        "                        in grad_grad]\n",
        "    grad_shape = tf.concat([tf.shape(par),[len(pars)]], axis=0)\n",
        "\n",
        "    return tf.reshape(tf.stack(grad_grad,axis=-1), grad_shape)"
      ],
      "execution_count": 0,
      "outputs": []
    },
    {
      "cell_type": "code",
      "metadata": {
        "id": "Iis-g3bfmEBQ",
        "colab_type": "code",
        "colab": {}
      },
      "source": [
        "@tf.function\n",
        "def get_counts(batch):\n",
        "\n",
        "    logits = nn_model(batch)\n",
        "\n",
        "    probs = tf.nn.softmax(logits / temperature)\n",
        "    s_probs, b_probs = tf.split(probs, [batch_size,batch_size], axis=0)\n",
        "\n",
        "    s_counts = tf.reduce_mean(s_probs, axis=0)\n",
        "    b_counts = tf.reduce_mean(b_probs, axis=0)\n",
        "\n",
        "    return s_counts, b_counts"
      ],
      "execution_count": 0,
      "outputs": []
    },
    {
      "cell_type": "code",
      "metadata": {
        "id": "s5KIdu2PtgDt",
        "colab_type": "code",
        "colab": {}
      },
      "source": [
        "@tf.function\n",
        "def calculate_loss(s_batch, b_batch):\n",
        "\n",
        "    with tf.GradientTape(persistent=True) as g:\n",
        "\n",
        "        g.watch(s_exp)\n",
        "        g.watch(b_exp)\n",
        "        g.watch(r_dist)\n",
        "        g.watch(b_rate)\n",
        "\n",
        "        with tf.GradientTape(persistent=True) as gg:\n",
        "\n",
        "            gg.watch(s_exp)\n",
        "            gg.watch(b_exp)\n",
        "            gg.watch(r_dist)\n",
        "            gg.watch(b_rate)\n",
        "\n",
        "            # Transfrom the background to include the nuisance parameters\n",
        "            b_batch_trf = transform_bkg(b_batch)\n",
        "            # Pass batch through the neural network to get the predictions for the counts\n",
        "            train_batch = tf.concat([s_batch, b_batch_trf], axis=0, name=\"input_batch\") \n",
        "            s_counts, b_counts = get_counts(train_batch)\n",
        "            # Scale the predictions by the expected signal and background rates\n",
        "            exp_counts = tf.cast(s_exp * s_counts + b_exp * b_counts, dtype=tf.float64)\n",
        "\n",
        "            # Repeat the calculations with stopped gradients to get the asimov variable\n",
        "            train_batch_const = tf.stop_gradient(train_batch)\n",
        "            s_counts_asimov, b_counts_asimov = get_counts(train_batch_const)\n",
        "            s_exp_asimov, b_exp_asimov = tf.stop_gradient(s_exp), tf.stop_gradient(b_exp)\n",
        "            exp_counts_asimov = tf.cast(s_exp_asimov * s_counts_asimov + b_exp_asimov * b_counts_asimov, dtype=tf.float64)\n",
        "\n",
        "            if verbose > 0:\n",
        "                print(\"Counts\")\n",
        "                print(exp_counts)\n",
        "                print(\"Asimov counts\")\n",
        "                print(exp_counts_asimov)\n",
        "\n",
        "            # Log-likelihood\n",
        "            pois = ds.Poisson(exp_counts, name=\"poisson\")\n",
        "            nll = - tf.cast(tf.reduce_sum(pois.log_prob(exp_counts_asimov)), name=\"nll\", dtype=tf.float32)\n",
        "\n",
        "            # Auxiliary measurements to constrain the nuisances\n",
        "            nll_aux = {}\n",
        "            for par, dist in aux.items():\n",
        "                nll_aux[par] = -dist.log_prob(all_pars[par])\n",
        "        \n",
        "        # Gradient of the likelihood\n",
        "        dy_dx = gg.gradient(nll, pars)\n",
        "        dy_dx = [tf.zeros_like(pars[j]) if grad is None else grad for j, grad in enumerate(dy_dx)]  \n",
        "\n",
        "        # Gradient of the auxiliary measurements\n",
        "        dy_dx_aux = {}\n",
        "        for par in nll_aux:\n",
        "            dy_dx_aux_par = gg.gradient(nll_aux[par], pars)\n",
        "            dy_dx_aux[par] = [tf.zeros_like(pars[j]) if grad is None else grad for j, grad in enumerate(dy_dx_aux_par)] \n",
        "\n",
        "    # Hessian of the likelihood\n",
        "    hess_nll = []\n",
        "    for i, grad in enumerate(dy_dx):\n",
        "        grad_grad = g.gradient(grad, pars)\n",
        "        hess_nll.append(conv_hessian(grad_grad, pars[i]))\n",
        "    hess_nll = tf.stack(hess_nll, axis=-1)  \n",
        "\n",
        "    if verbose > 0:\n",
        "        print(\"Hessian nll\")\n",
        "        print( hess_nll ) \n",
        "\n",
        "    # Hessian of the auxiliary measurements\n",
        "    hess_nll_aux = {}\n",
        "    for par in dy_dx_aux:\n",
        "        hess_nll_aux[par] = []\n",
        "        for i, grad in enumerate(dy_dx_aux[par]):\n",
        "            grad_grad = g.gradient(grad, pars)\n",
        "            hess_nll_aux[par].append(conv_hessian(grad_grad, pars[i]))\n",
        "        hess_nll_aux[par] = tf.stack(hess_nll_aux[par], axis=-1)  \n",
        "        if verbose > 0:\n",
        "            print(\"Hessian \" + par)\n",
        "            print(hess_nll_aux[par])\n",
        "\n",
        "    # Extended likelihood\n",
        "    ext_nll = sum([hess_nll] + list(hess_nll_aux.values()))\n",
        "\n",
        "    # Covariance matrix\n",
        "    cov_nll = cov_matrix(ext_nll, par_names)\n",
        "\n",
        "    if verbose > 0:\n",
        "        print(\"Extended likelihood\")\n",
        "        print(ext_nll)\n",
        "        print(\"Covariance matrix\")\n",
        "        print(cov_nll)\n",
        "\n",
        "    idx_poi = par_names.index(poi)\n",
        "    loss = cov_nll[idx_poi, idx_poi] \n",
        "\n",
        "    return loss\n"
      ],
      "execution_count": 0,
      "outputs": []
    },
    {
      "cell_type": "code",
      "metadata": {
        "id": "w2xzs4F0jGdG",
        "colab_type": "code",
        "outputId": "bcc5e6f7-8f16-43b4-fe7b-943527d8a6e6",
        "colab": {
          "base_uri": "https://localhost:8080/",
          "height": 1000
        }
      },
      "source": [
        "verbose = 0\n",
        "ibatch = 0\n",
        "\n",
        "train_loss = []\n",
        "val_loss = []\n",
        "\n",
        "for epoch in range(100):\n",
        "\n",
        "    # Check shuffle!! random seed!!\n",
        "    dataset = dataset.shuffle(10000, reshuffle_each_iteration=True)\n",
        "    batched_dataset = dataset.batch(batch_size)\n",
        "    batched_valset = val_set.batch(batch_size)\n",
        "\n",
        "    for s_batch, b_batch in batched_dataset:#.take(4):\n",
        "\n",
        "        with tf.GradientTape() as tape:\n",
        "            loss = calculate_loss(s_batch, b_batch)\n",
        "\n",
        "        if verbose > 0:\n",
        "            print(\"loss\")\n",
        "            print(loss)\n",
        "        \n",
        "        with train_summary_writer.as_default():\n",
        "            tf.summary.scalar('loss', loss, step = ibatch)\n",
        "\n",
        "        gradients = tape.gradient(loss, nn_model.trainable_weights)\n",
        "        optimizer.apply_gradients(zip(gradients, nn_model.trainable_variables))\n",
        "\n",
        "        ibatch += 1\n",
        "    \n",
        "\n",
        "    train_loss_epoch = []\n",
        "    for s_batch, b_batch in batched_dataset:\n",
        "\n",
        "        loss = calculate_loss(s_batch, b_batch)\n",
        "        train_loss_epoch.append(loss)\n",
        "\n",
        "    val_loss_epoch = []\n",
        "    for s_batch, b_batch in batched_valset:\n",
        "                \n",
        "        loss = calculate_loss(s_batch, b_batch)\n",
        "        val_loss_epoch.append(loss)\n",
        "\n",
        "    train_loss.append(np.mean(train_loss_epoch))\n",
        "    val_loss.append(np.mean(val_loss_epoch))\n",
        "\n",
        "    print(\"Epoch: \", epoch)\n",
        "    print(\"Train loss\", train_loss[-1], \" -- Val loss\", val_loss[-1])"
      ],
      "execution_count": 31,
      "outputs": [
        {
          "output_type": "stream",
          "text": [
            "Epoch:  0\n",
            "Train loss 759.266  -- Val loss 760.40564\n",
            "Epoch:  1\n",
            "Train loss 723.9015  -- Val loss 725.0018\n",
            "Epoch:  2\n",
            "Train loss 685.9562  -- Val loss 686.37354\n",
            "Epoch:  3\n",
            "Train loss 658.66095  -- Val loss 658.9718\n",
            "Epoch:  4\n",
            "Train loss 640.65405  -- Val loss 640.65405\n",
            "Epoch:  5\n",
            "Train loss 627.2209  -- Val loss 627.10254\n",
            "Epoch:  6\n",
            "Train loss 616.5076  -- Val loss 616.2378\n",
            "Epoch:  7\n",
            "Train loss 607.3708  -- Val loss 607.44244\n",
            "Epoch:  8\n",
            "Train loss 599.9585  -- Val loss 600.0077\n",
            "Epoch:  9\n",
            "Train loss 593.254  -- Val loss 593.3932\n",
            "Epoch:  10\n",
            "Train loss 587.6471  -- Val loss 587.4085\n",
            "Epoch:  11\n",
            "Train loss 581.4765  -- Val loss 581.71295\n",
            "Epoch:  12\n",
            "Train loss 575.52405  -- Val loss 575.59106\n",
            "Epoch:  13\n",
            "Train loss 567.752  -- Val loss 568.3451\n",
            "Epoch:  14\n",
            "Train loss 559.02783  -- Val loss 559.3544\n",
            "Epoch:  15\n",
            "Train loss 549.4447  -- Val loss 550.0825\n",
            "Epoch:  16\n",
            "Train loss 541.9613  -- Val loss 542.9038\n",
            "Epoch:  17\n",
            "Train loss 536.692  -- Val loss 537.48206\n",
            "Epoch:  18\n",
            "Train loss 532.5057  -- Val loss 533.0322\n",
            "Epoch:  19\n",
            "Train loss 528.3925  -- Val loss 529.2531\n",
            "Epoch:  20\n",
            "Train loss 524.7509  -- Val loss 525.67786\n",
            "Epoch:  21\n",
            "Train loss 521.75616  -- Val loss 522.55005\n",
            "Epoch:  22\n",
            "Train loss 518.8599  -- Val loss 519.4454\n",
            "Epoch:  23\n",
            "Train loss 515.9545  -- Val loss 516.68634\n",
            "Epoch:  24\n",
            "Train loss 513.3943  -- Val loss 514.13165\n",
            "Epoch:  25\n",
            "Train loss 510.11853  -- Val loss 511.57684\n",
            "Epoch:  26\n",
            "Train loss 507.9966  -- Val loss 509.2575\n",
            "Epoch:  27\n",
            "Train loss 505.27673  -- Val loss 506.98233\n",
            "Epoch:  28\n",
            "Train loss 503.26062  -- Val loss 504.65677\n",
            "Epoch:  29\n",
            "Train loss 500.32782  -- Val loss 502.0434\n",
            "Epoch:  30\n",
            "Train loss 497.7606  -- Val loss 499.27606\n",
            "Epoch:  31\n",
            "Train loss 495.36548  -- Val loss 496.93097\n",
            "Epoch:  32\n",
            "Train loss 492.90988  -- Val loss 494.78653\n",
            "Epoch:  33\n",
            "Train loss 490.94247  -- Val loss 492.7744\n",
            "Epoch:  34\n",
            "Train loss 488.82242  -- Val loss 490.84183\n",
            "Epoch:  35\n",
            "Train loss 486.99417  -- Val loss 488.7719\n",
            "Epoch:  36\n",
            "Train loss 485.0082  -- Val loss 486.7146\n",
            "Epoch:  37\n",
            "Train loss 482.8097  -- Val loss 484.82077\n",
            "Epoch:  38\n",
            "Train loss 480.64035  -- Val loss 482.8416\n",
            "Epoch:  39\n",
            "Train loss 478.89145  -- Val loss 480.94974\n",
            "Epoch:  40\n",
            "Train loss 477.20776  -- Val loss 479.16534\n",
            "Epoch:  41\n",
            "Train loss 475.58762  -- Val loss 477.4876\n",
            "Epoch:  42\n",
            "Train loss 474.0558  -- Val loss 475.8493\n",
            "Epoch:  43\n",
            "Train loss 472.3121  -- Val loss 474.1962\n",
            "Epoch:  44\n",
            "Train loss 470.69193  -- Val loss 472.55988\n",
            "Epoch:  45\n",
            "Train loss 468.93085  -- Val loss 470.9637\n",
            "Epoch:  46\n",
            "Train loss 466.89026  -- Val loss 469.22726\n",
            "Epoch:  47\n",
            "Train loss 465.3316  -- Val loss 467.56302\n",
            "Epoch:  48\n",
            "Train loss 463.9298  -- Val loss 465.79608\n",
            "Epoch:  49\n",
            "Train loss 462.2941  -- Val loss 464.09485\n",
            "Epoch:  50\n",
            "Train loss 460.4714  -- Val loss 462.34262\n",
            "Epoch:  51\n",
            "Train loss 458.5661  -- Val loss 460.60898\n",
            "Epoch:  52\n",
            "Train loss 456.50583  -- Val loss 458.81866\n",
            "Epoch:  53\n",
            "Train loss 455.4044  -- Val loss 457.08527\n",
            "Epoch:  54\n",
            "Train loss 453.433  -- Val loss 455.36188\n",
            "Epoch:  55\n",
            "Train loss 451.84024  -- Val loss 453.68027\n",
            "Epoch:  56\n",
            "Train loss 449.79895  -- Val loss 452.00726\n",
            "Epoch:  57\n",
            "Train loss 448.23782  -- Val loss 450.45358\n",
            "Epoch:  58\n",
            "Train loss 446.90616  -- Val loss 448.99625\n",
            "Epoch:  59\n",
            "Train loss 445.43396  -- Val loss 447.4618\n",
            "Epoch:  60\n",
            "Train loss 444.2841  -- Val loss 445.9558\n",
            "Epoch:  61\n",
            "Train loss 442.51727  -- Val loss 444.37936\n",
            "Epoch:  62\n",
            "Train loss 441.36716  -- Val loss 442.8672\n",
            "Epoch:  63\n",
            "Train loss 439.8301  -- Val loss 441.30548\n",
            "Epoch:  64\n",
            "Train loss 438.2736  -- Val loss 439.84372\n",
            "Epoch:  65\n",
            "Train loss 436.81616  -- Val loss 438.32614\n",
            "Epoch:  66\n",
            "Train loss 435.37943  -- Val loss 436.85867\n",
            "Epoch:  67\n",
            "Train loss 433.75916  -- Val loss 435.42093\n",
            "Epoch:  68\n",
            "Train loss 432.54382  -- Val loss 434.0276\n",
            "Epoch:  69\n",
            "Train loss 430.85715  -- Val loss 432.596\n",
            "Epoch:  70\n",
            "Train loss 429.97122  -- Val loss 431.24036\n",
            "Epoch:  71\n",
            "Train loss 428.53046  -- Val loss 429.85825\n",
            "Epoch:  72\n",
            "Train loss 427.53995  -- Val loss 428.63495\n",
            "Epoch:  73\n",
            "Train loss 426.37634  -- Val loss 427.7166\n",
            "Epoch:  74\n",
            "Train loss 425.78864  -- Val loss 426.6543\n",
            "Epoch:  75\n",
            "Train loss 424.46872  -- Val loss 425.3299\n",
            "Epoch:  76\n",
            "Train loss 422.81427  -- Val loss 423.99738\n",
            "Epoch:  77\n",
            "Train loss 422.20596  -- Val loss 422.7314\n",
            "Epoch:  78\n",
            "Train loss 420.64835  -- Val loss 421.48618\n",
            "Epoch:  79\n",
            "Train loss 419.4887  -- Val loss 420.41278\n",
            "Epoch:  80\n",
            "Train loss 418.58566  -- Val loss 419.2425\n",
            "Epoch:  81\n",
            "Train loss 417.20602  -- Val loss 418.10056\n",
            "Epoch:  82\n",
            "Train loss 416.6719  -- Val loss 417.14017\n",
            "Epoch:  83\n",
            "Train loss 415.40762  -- Val loss 416.04956\n",
            "Epoch:  84\n",
            "Train loss 414.45056  -- Val loss 415.14087\n",
            "Epoch:  85\n",
            "Train loss 413.45163  -- Val loss 414.2825\n",
            "Epoch:  86\n",
            "Train loss 412.8276  -- Val loss 413.44754\n",
            "Epoch:  87\n",
            "Train loss 412.4468  -- Val loss 412.71063\n",
            "Epoch:  88\n",
            "Train loss 411.29257  -- Val loss 411.86398\n",
            "Epoch:  89\n",
            "Train loss 410.33667  -- Val loss 411.05206\n",
            "Epoch:  90\n",
            "Train loss 409.9559  -- Val loss 410.34683\n",
            "Epoch:  91\n",
            "Train loss 408.71808  -- Val loss 409.6241\n",
            "Epoch:  92\n",
            "Train loss 407.92316  -- Val loss 408.95392\n",
            "Epoch:  93\n",
            "Train loss 407.4952  -- Val loss 408.3389\n",
            "Epoch:  94\n",
            "Train loss 407.70496  -- Val loss 407.8295\n",
            "Epoch:  95\n",
            "Train loss 406.4088  -- Val loss 407.2234\n",
            "Epoch:  96\n",
            "Train loss 405.61105  -- Val loss 406.5871\n",
            "Epoch:  97\n",
            "Train loss 404.81055  -- Val loss 406.0206\n",
            "Epoch:  98\n",
            "Train loss 404.97546  -- Val loss 405.45175\n",
            "Epoch:  99\n",
            "Train loss 403.42316  -- Val loss 404.94168\n"
          ],
          "name": "stdout"
        }
      ]
    },
    {
      "cell_type": "code",
      "metadata": {
        "id": "JWhkDA7_G0iG",
        "colab_type": "code",
        "colab": {
          "base_uri": "https://localhost:8080/",
          "height": 296
        },
        "outputId": "0d70b1bb-3410-4864-cc2b-285cc48de341"
      },
      "source": [
        "plt.plot(np.sqrt(train_loss))\n",
        "plt.plot(np.sqrt(val_loss))\n",
        "plt.legend(['train', 'val'], loc='upper right')\n",
        "plt.xlabel('epoch')\n",
        "plt.ylabel('std(s_exp)')"
      ],
      "execution_count": 35,
      "outputs": [
        {
          "output_type": "execute_result",
          "data": {
            "text/plain": [
              "Text(0, 0.5, 'std(s_exp)')"
            ]
          },
          "metadata": {
            "tags": []
          },
          "execution_count": 35
        },
        {
          "output_type": "display_data",
          "data": {
            "image/png": "[encoded data removed]",
            "text/plain": [
              "<Figure size 432x288 with 1 Axes>"
            ]
          },
          "metadata": {
            "tags": []
          }
        }
      ]
    },
    {
      "cell_type": "markdown",
      "metadata": {
        "id": "z4JuBXKWG5GF",
        "colab_type": "text"
      },
      "source": [
        "## Tensorboard "
      ]
    },
    {
      "cell_type": "code",
      "metadata": {
        "id": "jUjPynRozYah",
        "colab_type": "code",
        "colab": {}
      },
      "source": [
        "%tensorboard --logdir logs/gradient_tape"
      ],
      "execution_count": 0,
      "outputs": []
    },
    {
      "cell_type": "markdown",
      "metadata": {
        "id": "GD2knhEajGdJ",
        "colab_type": "text"
      },
      "source": [
        "## Random snippets"
      ]
    },
    {
      "cell_type": "code",
      "metadata": {
        "id": "7JfRHrWdjGdJ",
        "colab_type": "code",
        "colab": {}
      },
      "source": [
        "# Full model\n",
        "# expected amount of signal\n",
        "signal_exp = tf.Variable(50., shape=(), name=\"signal_exp\")\n",
        "# expected amount of background\n",
        "bkg_exp = tf.Variable(1000., shape=(), name=\"bkg_exp\")\n",
        "\n",
        "# compute signal fraction from s_exp and b_exp\n",
        "mu = signal_exp / (signal_exp + bkg_exp)\n",
        "\n",
        "# full mixture distribution\n",
        "m_dist = ds.Mixture(cat=ds.Categorical(probs=[1. - mu, mu]),\n",
        "                            components=[b_dist, s_dist],\n",
        "                            name=\"mixture\")\n",
        "\n",
        "b_counts = tf.Variable(\n",
        "[1.2013696e-02, 3.4166566e-01, 5.8940423e-01, 1.3969673e-03, 1.5554641e-02,\n",
        "4.4392496e-03, 2.0298790e-03, 3.1998839e-02, 1.3944731e-03, 1.0269688e-04], dtype=tf.float32)\n",
        "s_counts = tf.Variable(\n",
        "[1.7830627e-02, 4.5834020e-01, 3.2262495e-01, 5.3610229e-03, 6.8719871e-02,\n",
        "3.9853200e-02, 6.2792581e-03, 7.6308973e-02, 4.4561680e-03, 2.2559472e-04], dtype=tf.float32)\n",
        "\n",
        "\n",
        "with tf.GradientTape(persistent = True) as g:\n",
        "    \n",
        "    g.watch(signal_exp)\n",
        "    g.watch(bkg_exp)\n",
        "    g.watch(b_counts)\n",
        "    g.watch(s_counts)\n",
        "    \"\"\"\n",
        "    with tf.GradientTape(persistent = True) as gg:\n",
        "        \n",
        "        gg.watch(signal_exp)\n",
        "        gg.watch(bkg_exp)\n",
        "        gg.watch(b_counts)\n",
        "        gg.watch(s_counts)\n",
        "\n",
        "        print(b_counts)\n",
        "        print(s_counts)\n",
        "    \"\"\"\n",
        "    exp_counts = tf.cast(signal_exp * s_counts + bkg_exp * b_counts, dtype=tf.float64)\n",
        "    print( \"EXPCOUNTS\")\n",
        "    print( exp_counts )\n",
        "\n",
        "    asimov = tf.stop_gradient(exp_counts, name=\"asimov\")\n",
        "    print(asimov)  \n",
        "    print('Sig Asimov')\n",
        "    print(g.gradient(asimov, signal_exp))       \n",
        "\n",
        "    pois = ds.Poisson(exp_counts, name=\"poisson\")\n",
        "\n",
        "\n",
        "    nll = - tf.cast(tf.reduce_sum(pois.log_prob(asimov)),\n",
        "                        name=\"nll\", dtype=tf.float32)\n",
        "    #g.watch(nll)\n",
        "    print('NLL Asimov')\n",
        "    print(g.gradient(nll, [signal_exp, bkg_exp]))\n",
        "    \n",
        "    \"\"\"\n",
        "    dy_dx = gg.gradient(nll, [signal_exp, bkg_exp])\n",
        "    dy_dx = [tf.zeros_like(pars[j]) if grad is None else grad\n",
        "                      for j, grad in enumerate(dy_dx)]     \n",
        "\n",
        "    print(dy_dx)\n",
        "\n",
        "    batch_hessian = hessian(g, dy_dx, [signal_exp, bkg_exp])\n",
        "\n",
        "    print('hessian Asimov')\n",
        "    print(g.gradient(batch_hessian[0,0], asimov))\n",
        "    \n",
        "    print('Batch hessian')\n",
        "    print(batch_hessian)\n",
        "\n",
        "    cov = tf.linalg.inv(batch_hessian)\n",
        "\n",
        "    print('cov')\n",
        "    #exp_counts = loss\n",
        "    #print(tf.matmul(cov, batch_hessian))\n",
        "    \"\"\"\n",
        "\n",
        "#g.gradient(nll, pars)"
      ],
      "execution_count": 0,
      "outputs": []
    },
    {
      "cell_type": "code",
      "metadata": {
        "id": "PKJI_94hjGdM",
        "colab_type": "code",
        "colab": {}
      },
      "source": [
        "vals = []\n",
        "probs = []\n",
        "for i in range(1000):\n",
        "    x = tf.random.uniform(shape=[10,], minval=0, maxval=100, dtype=tf.float64)\n",
        "    vals.append( x.numpy( ))\n",
        "    probs.append( pois.log_prob(x).numpy() )"
      ],
      "execution_count": 0,
      "outputs": []
    },
    {
      "cell_type": "code",
      "metadata": {
        "id": "lLlolAzFjGdP",
        "colab_type": "code",
        "colab": {}
      },
      "source": [
        "vals = np.array(vals)\n",
        "probs = np.array(probs)"
      ],
      "execution_count": 0,
      "outputs": []
    },
    {
      "cell_type": "code",
      "metadata": {
        "id": "EWVe1CTDjGdQ",
        "colab_type": "code",
        "colab": {}
      },
      "source": [
        "probs.shape"
      ],
      "execution_count": 0,
      "outputs": []
    },
    {
      "cell_type": "code",
      "metadata": {
        "id": "npdwPQCbjGdS",
        "colab_type": "code",
        "colab": {}
      },
      "source": [
        "plt.scatter(vals[:,0], probs[:,0])"
      ],
      "execution_count": 0,
      "outputs": []
    },
    {
      "cell_type": "code",
      "metadata": {
        "id": "G5cKxyKejGdU",
        "colab_type": "code",
        "colab": {}
      },
      "source": [
        "pois.log_prob(exp_counts).numpy()"
      ],
      "execution_count": 0,
      "outputs": []
    },
    {
      "cell_type": "code",
      "metadata": {
        "id": "-gbSkyTIjGdW",
        "colab_type": "code",
        "colab": {}
      },
      "source": [
        ""
      ],
      "execution_count": 0,
      "outputs": []
    },
    {
      "cell_type": "code",
      "metadata": {
        "id": "lQZFWmCujGdY",
        "colab_type": "code",
        "colab": {}
      },
      "source": [
        ""
      ],
      "execution_count": 0,
      "outputs": []
    },
    {
      "cell_type": "code",
      "metadata": {
        "id": "3Ic2KoTTjGdZ",
        "colab_type": "code",
        "colab": {}
      },
      "source": [
        ""
      ],
      "execution_count": 0,
      "outputs": []
    },
    {
      "cell_type": "code",
      "metadata": {
        "id": "IxWIe062jGdb",
        "colab_type": "code",
        "colab": {}
      },
      "source": [
        "v = tf.Variable(tf.random.normal((2,)))\n",
        "print(v)\n",
        "with tf.GradientTape(persistent=True) as tape:\n",
        "    y = tf.sin(v[0] + tf.cos(v[1]))\n",
        "    print([v])\n",
        "    grads = tape.gradient(y, [v])\n",
        "    #print( grads )\n",
        "    print( grads[0] )\n",
        "    #print( tape.gradient(y, v) )\n",
        "    #print\n",
        "hessians = tape.jacobian(grads[0], v)\n",
        "#hessians = tape.gradient(grads[0], [v])\n",
        "print(hessians)"
      ],
      "execution_count": 0,
      "outputs": []
    },
    {
      "cell_type": "code",
      "metadata": {
        "id": "xxT3m-05jGdd",
        "colab_type": "code",
        "colab": {}
      },
      "source": [
        "x = tf.random.uniform(shape=[3,2],minval=0, maxval=10) \n",
        "y = tf.random.uniform(shape=[3,4],minval=0, maxval=10) \n",
        "w1 = tf.Variable(tf.ones([2,3]),dtype=tf.float32 )\n",
        "w2 = tf.Variable(tf.ones([3,3]), dtype=tf.float32)\n",
        "w3 = tf.Variable(tf.ones([3,4]), dtype=tf.float32)\n",
        "optimizer = tf.keras.optimizers.Adam()\n",
        "\n",
        "with tf.GradientTape() as g:\n",
        "    \n",
        "    #g.watch(w1)\n",
        "    #g.watch(w2)\n",
        "    #hidden = tf.stop_gradient(tf.matmul(x,w1))\n",
        "    hidden = tf.matmul(x,w1)\n",
        "    print(hidden)\n",
        "    hidden2 = tf.matmul(hidden, w2)\n",
        "    asimov = tf.stop_gradient(hidden2)\n",
        "    print(hidden2)\n",
        "    print(asimov)\n",
        "    output = tf.matmul(hidden2,w3)\n",
        "    print(output)\n",
        "    loss = output - y\n",
        "    print(loss)\n",
        "\n",
        "gradients = g.gradient(loss, [w1,w2,w3])\n",
        "print(gradients)\n",
        "optimizer.apply_gradients(zip(gradients, [w1,w2,w3])) \n",
        "print(w1)\n",
        "print(w2)\n",
        "print(w3)"
      ],
      "execution_count": 0,
      "outputs": []
    },
    {
      "cell_type": "code",
      "metadata": {
        "id": "E-yvZWkCjGdf",
        "colab_type": "code",
        "colab": {}
      },
      "source": [
        ""
      ],
      "execution_count": 0,
      "outputs": []
    }
  ]
}