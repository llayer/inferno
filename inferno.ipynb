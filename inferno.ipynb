{
  "nbformat": 4,
  "nbformat_minor": 0,
  "metadata": {
    "colab": {
      "name": "inferno.ipynb",
      "provenance": [],
      "include_colab_link": true
    },
    "kernelspec": {
      "display_name": "Python 3",
      "language": "python",
      "name": "python3"
    },
    "language_info": {
      "codemirror_mode": {
        "name": "ipython",
        "version": 3
      },
      "file_extension": ".py",
      "mimetype": "text/x-python",
      "name": "python",
      "nbconvert_exporter": "python",
      "pygments_lexer": "ipython3",
      "version": "3.7.6"
    }
  },
  "cells": [
    {
      "cell_type": "markdown",
      "metadata": {
        "id": "view-in-github",
        "colab_type": "text"
      },
      "source": [
        "<a href=\"https://colab.research.google.com/github/llayer/inferno/blob/master/inferno.ipynb\" target=\"_parent\"><img src=\"https://colab.research.google.com/assets/colab-badge.svg\" alt=\"Open In Colab\"/></a>"
      ]
    },
    {
      "cell_type": "markdown",
      "metadata": {
        "colab_type": "text",
        "id": "XPx1Yx0LjGb3"
      },
      "source": [
        "# Replication of the 3D synthetic INFERNO example in TF 2.0"
      ]
    },
    {
      "cell_type": "markdown",
      "metadata": {
        "colab_type": "text",
        "id": "GqIHm6SbjGb5"
      },
      "source": [
        "## 1. Statistical model"
      ]
    },
    {
      "cell_type": "code",
      "metadata": {
        "colab_type": "code",
        "id": "8Vo2EZ63jGb7",
        "colab": {},
        "outputId": "148c1697-fd8d-4868-bdca-486bb841361a"
      },
      "source": [
        "# For colab\n",
        "%tensorflow_version 2.x"
      ],
      "execution_count": 0,
      "outputs": [
        {
          "output_type": "stream",
          "text": [
            "UsageError: Line magic function `%tensorflow_version` not found.\n"
          ],
          "name": "stderr"
        }
      ]
    },
    {
      "cell_type": "code",
      "metadata": {
        "colab_type": "code",
        "id": "Q0mwSRHjxDWo",
        "colab": {}
      },
      "source": [
        "# Load the TensorBoard notebook extension\n",
        "%load_ext tensorboard"
      ],
      "execution_count": 0,
      "outputs": []
    },
    {
      "cell_type": "code",
      "metadata": {
        "colab_type": "code",
        "id": "Y9l5nuSijGcG",
        "colab": {}
      },
      "source": [
        "import tensorflow as tf\n",
        "import tensorflow_probability as tfp\n",
        "import itertools as it\n",
        "from collections import OrderedDict\n",
        "import numpy as np\n",
        "import datetime, os"
      ],
      "execution_count": 0,
      "outputs": []
    },
    {
      "cell_type": "code",
      "metadata": {
        "colab_type": "code",
        "id": "x_kOPRp0jGcO",
        "colab": {}
      },
      "source": [
        "ds = tfp.distributions\n",
        "k = tf.keras"
      ],
      "execution_count": 0,
      "outputs": []
    },
    {
      "cell_type": "code",
      "metadata": {
        "colab_type": "code",
        "id": "LCzO66jajGcU",
        "colab": {}
      },
      "source": [
        "import numpy as np\n",
        "\n",
        "_MAXINT32 = 2**31 - 1\n",
        "\n",
        "def truncate_seed(seed):\n",
        "  return seed % _MAXINT32  # Truncate to fit into 32-bit integer\n",
        "\n",
        "\n",
        "class IndependentList(ds.Distribution):\n",
        "  \"\"\"Independent distribution from a list of distributions.\n",
        "  \"\"\"\n",
        "\n",
        "  def __init__(\n",
        "      self, distributions,\n",
        "      validate_args=False, name=None):\n",
        "    \"\"\"  Construct a `IndependentList` distribution.\n",
        "    \"\"\"\n",
        "    parameters = locals()\n",
        "    name = name or \"IndependentList\"\n",
        "    self._distributions = distributions\n",
        "    self._event_shapes = []\n",
        "    for d in self._distributions:\n",
        "        if len(d.event_shape) is 0:\n",
        "          self._event_shapes.append(1)\n",
        "        elif len(d.event_shape) is 1:\n",
        "          self._event_shapes.append(d.event_shape.as_list()[0])\n",
        "        else:\n",
        "          raise ValueError(\n",
        "              \"Dimension of each distribution event_shape has to be 0 or 1\")\n",
        "\n",
        "    super(IndependentList, self).__init__(\n",
        "        dtype=self._distributions[0].dtype,\n",
        "        reparameterization_type=self._distributions[0].reparameterization_type,\n",
        "        validate_args=validate_args,\n",
        "        allow_nan_stats=self._distributions[0].allow_nan_stats,\n",
        "        parameters=parameters,\n",
        "        graph_parents=(\n",
        "            sum([d._graph_parents for d in self._distributions],[])\n",
        "        ),  # pylint: disable=protected-access\n",
        "        name=name)\n",
        "\n",
        "  @property\n",
        "  def distributions(self):\n",
        "    return self._distributions\n",
        "\n",
        "  @property\n",
        "  def event_shapes(self):\n",
        "    return self._event_shapes\n",
        "\n",
        "  def _batch_shape_tensor(self):\n",
        "    batch_shape = self.distributions[0].batch_shape_tensor()\n",
        "    return batch_shape\n",
        "\n",
        "  def _batch_shape(self):\n",
        "    batch_shape = self.distributions[0].batch_shape\n",
        "    return batch_shape\n",
        "\n",
        "  def _event_shape_tensor(self):\n",
        "    event_shape = tf.convert_to_tensor([sum(self.event_shapes)], dtype=tf.float32)\n",
        "    return event_shape\n",
        "\n",
        "  def _event_shape(self):\n",
        "    event_shape = tf.TensorShape([sum(self.event_shapes)])\n",
        "    return event_shape\n",
        "\n",
        "  def _sample_n(self, n, seed):\n",
        "    rs = np.random.RandomState(seed=truncate_seed(seed))\n",
        "    # get random seeds (have to be Python ints)\n",
        "    seeds = rs.randint(low=0,high=10000, size=len(self.distributions))\n",
        "    samples = [tf.reshape(d.sample(n, seed=seed),[n,-1])\n",
        "               for s,d in zip(seeds,self.distributions)]\n",
        "    return tf.concat(samples, axis=-1)\n",
        "\n",
        "  def _log_prob(self, x):\n",
        "    # beware caching in bijector composed distributions\n",
        "    splitted_x = tf.split(x, self.event_shapes, axis=-1)\n",
        "    log_probs = [tf.reshape(d.log_prob(x_i),\n",
        "                   tf.concat([tf.shape(x_i)[:-1], [-1]], axis=-1))\n",
        "                   for x_i, d in zip(splitted_x, self.distributions)]\n",
        "    return tf.reduce_sum(tf.stack(log_probs, axis=-1), axis=-1)"
      ],
      "execution_count": 0,
      "outputs": []
    },
    {
      "cell_type": "code",
      "metadata": {
        "colab_type": "code",
        "id": "yutJtqrbjGcY",
        "colab": {}
      },
      "source": [
        "r_dist = tf.Variable(2., shape=(), name=\"r_dist\")\n",
        "b_rate = tf.Variable(3., shape=(), name=\"b_rate\")"
      ],
      "execution_count": 0,
      "outputs": []
    },
    {
      "cell_type": "code",
      "metadata": {
        "colab_type": "code",
        "id": "PGpYXI9LjGcc",
        "colab": {}
      },
      "source": [
        "# Background distribution with nuisance\n",
        "# 2D normal  with variable mean\n",
        "MultNormal = ds.MultivariateNormalTriL\n",
        "# Initialize a single 3-variate Gaussian.\n",
        "mu = [r_dist, 0.] #[2., 0.]\n",
        "covariance_matrix=[[5., 0.], [0., 9.]]\n",
        "scale = tf.linalg.cholesky(covariance_matrix)\n",
        "b_01 = MultNormal(loc=mu, scale_tril=scale)"
      ],
      "execution_count": 0,
      "outputs": []
    },
    {
      "cell_type": "code",
      "metadata": {
        "colab_type": "code",
        "id": "nXRL3JkyjGcf",
        "colab": {}
      },
      "source": [
        "b_2 = ds.Exponential(rate = b_rate , name=\"b_2\")"
      ],
      "execution_count": 0,
      "outputs": []
    },
    {
      "cell_type": "code",
      "metadata": {
        "colab_type": "code",
        "id": "GAynVdBwjGch",
        "colab": {}
      },
      "source": [
        "# Signal distribution\n",
        "# 2D normal fully defined\n",
        "s_01 = ds.MultivariateNormalDiag(loc=[0., 0.],\n",
        "                                        scale_diag=[1., 1.], name=\"s_01\")"
      ],
      "execution_count": 0,
      "outputs": []
    },
    {
      "cell_type": "code",
      "metadata": {
        "colab_type": "code",
        "id": "_GVV3roUjGcj",
        "colab": {}
      },
      "source": [
        "s_2 = ds.Exponential(rate=2.0, name=\"s_2\")"
      ],
      "execution_count": 0,
      "outputs": []
    },
    {
      "cell_type": "code",
      "metadata": {
        "colab_type": "code",
        "id": "4HykM2C1jGcm",
        "colab": {}
      },
      "source": [
        "# full background distribution\n",
        "b_dist = IndependentList(distributions=[b_01, b_2], name=\"b_dist\")\n",
        "s_dist = IndependentList(distributions=[s_01, s_2], name=\"s_dist\")"
      ],
      "execution_count": 0,
      "outputs": []
    },
    {
      "cell_type": "code",
      "metadata": {
        "colab_type": "code",
        "id": "tZFZdyEejGco",
        "colab": {}
      },
      "source": [
        "\n",
        "# Full model\n",
        "# expected amount of signal\n",
        "s_exp = tf.Variable(50., shape=(), name=\"s_exp\")\n",
        "# expected amount of background\n",
        "b_exp = tf.Variable(1000., shape=(), name=\"b_exp\")\n",
        "\n",
        "# compute signal fraction from s_exp and b_exp\n",
        "mu = s_exp / (s_exp + b_exp)\n",
        "\n",
        "# full mixture distribution\n",
        "m_dist = ds.Mixture(cat=ds.Categorical(probs=[1. - mu, mu]),\n",
        "                            components=[b_dist, s_dist],\n",
        "                            name=\"mixture\")\n",
        "\n",
        "# ordered dict with all model parameters\n",
        "all_pars = OrderedDict([('s_exp', s_exp),\n",
        "                        ('r_dist', r_dist),\n",
        "                        ('b_rate', b_rate),\n",
        "                        ('b_exp', b_exp)])"
      ],
      "execution_count": 0,
      "outputs": []
    },
    {
      "cell_type": "markdown",
      "metadata": {
        "colab_type": "text",
        "id": "cE884-XEjGcq"
      },
      "source": [
        "## 2. Generate data"
      ]
    },
    {
      "cell_type": "code",
      "metadata": {
        "colab_type": "code",
        "id": "OWV4GSe5jGcq",
        "colab": {}
      },
      "source": [
        "def generate_data(n_samples, seed):\n",
        "\n",
        "    components = {\"bkg\": b_dist,\n",
        "                    \"sig\": s_dist}\n",
        "\n",
        "    dataset = {}\n",
        "    for c_name, c_dist in components.items():\n",
        "        dataset[c_name] = c_dist.sample(n_samples, seed=seed,\n",
        "                                        name=f'{c_dist.name}_sample')\n",
        "\n",
        "    return dataset\n",
        "\n",
        "def train_data():\n",
        "\n",
        "    return generate_data(n_samples=100000, seed=27)\n",
        "\n",
        "def valid_data():\n",
        "\n",
        "    return generate_data(n_samples=100000, seed=37)\n",
        "\n",
        "def test_data():\n",
        "\n",
        "    return generate_data(n_samples=500000, seed=47)\n",
        "\n",
        "def log_density_ratio( x):\n",
        "\n",
        "    log_dr = s_dist.log_prob(x) - b_dist.log_prob(x)\n",
        "\n",
        "    return log_dr\n",
        "\n",
        "def optimal_classifier( x):\n",
        "\n",
        "    log_dr = log_density_ratio(x)\n",
        "    opt_clf = tf.exp(log_dr) / (1. + tf.exp(log_dr))\n",
        "\n",
        "    return opt_clf"
      ],
      "execution_count": 0,
      "outputs": []
    },
    {
      "cell_type": "code",
      "metadata": {
        "colab_type": "code",
        "id": "ungajYiMjGct",
        "colab": {}
      },
      "source": [
        "train = train_data()\n",
        "sig = tf.data.Dataset.from_tensor_slices(train['sig'])\n",
        "bkg = tf.data.Dataset.from_tensor_slices(train['bkg'])"
      ],
      "execution_count": 0,
      "outputs": []
    },
    {
      "cell_type": "code",
      "metadata": {
        "colab_type": "code",
        "id": "qUecboh4jGcw",
        "colab": {}
      },
      "source": [
        "dataset = tf.data.Dataset.zip((sig, bkg))"
      ],
      "execution_count": 0,
      "outputs": []
    },
    {
      "cell_type": "code",
      "metadata": {
        "colab_type": "code",
        "id": "HSMusHUMBpgm",
        "colab": {}
      },
      "source": [
        ""
      ],
      "execution_count": 0,
      "outputs": []
    },
    {
      "cell_type": "code",
      "metadata": {
        "colab_type": "code",
        "id": "C2oyJ7MijGcy",
        "colab": {}
      },
      "source": [
        "from mpl_toolkits.mplot3d import Axes3D\n",
        "import matplotlib.pyplot as plt"
      ],
      "execution_count": 0,
      "outputs": []
    },
    {
      "cell_type": "code",
      "metadata": {
        "colab_type": "code",
        "id": "H5R2F3Y5jGc0",
        "colab": {}
      },
      "source": [
        ""
      ],
      "execution_count": 0,
      "outputs": []
    },
    {
      "cell_type": "code",
      "metadata": {
        "colab_type": "code",
        "id": "IEIo9iUjjGc3",
        "outputId": "bdd7d361-6305-42ae-ac43-b73e6e52c750",
        "colab": {
          "base_uri": "https://localhost:8080/",
          "height": 248
        }
      },
      "source": [
        "fig = plt.figure()\n",
        "ax = fig.add_subplot(111, projection='3d')\n",
        "b = train['bkg'].numpy()\n",
        "s = train['sig'].numpy()\n",
        "ax.scatter(b[:,0], b[:,1], b[:,2], alpha=0.1)\n",
        "ax.scatter(s[:,0], s[:,1], s[:,2], alpha=0.1)\n",
        "ax.set_xlabel('x1')\n",
        "ax.set_ylabel('x2')\n",
        "ax.set_zlabel('x3')\n",
        "ax.view_init(azim=150)\n",
        "\n"
      ],
      "execution_count": 0,
      "outputs": [
        {
          "output_type": "display_data",
          "data": {
            "image/png": "[encoded data removed]",
            "text/plain": [
              "<Figure size 432x288 with 1 Axes>"
            ]
          },
          "metadata": {
            "tags": []
          }
        }
      ]
    },
    {
      "cell_type": "code",
      "metadata": {
        "colab_type": "code",
        "id": "XemglXBMGNuW",
        "colab": {}
      },
      "source": [
        "\n",
        "# Validation data\n",
        "valid = valid_data()\n",
        "sig_val = tf.data.Dataset.from_tensor_slices(valid['sig'])\n",
        "bkg_val = tf.data.Dataset.from_tensor_slices(valid['bkg'])"
      ],
      "execution_count": 0,
      "outputs": []
    },
    {
      "cell_type": "code",
      "metadata": {
        "colab_type": "code",
        "id": "Kex3_9oJGc_T",
        "colab": {}
      },
      "source": [
        "val_set = tf.data.Dataset.zip((sig_val, bkg_val))"
      ],
      "execution_count": 0,
      "outputs": []
    },
    {
      "cell_type": "markdown",
      "metadata": {
        "colab_type": "text",
        "id": "x2SAHL7hjGc7"
      },
      "source": [
        "## 3. Train the model"
      ]
    },
    {
      "cell_type": "code",
      "metadata": {
        "colab_type": "code",
        "id": "y_NMscxEjGc8",
        "colab": {}
      },
      "source": [
        "k_init = \"he_normal\"\n",
        "Dense = k.layers.Dense\n",
        "par_names = [\"s_exp\", \"r_dist\", \"b_rate\"] #[\"s_exp\"] #, \"b_exp\"] #[\"s_exp\", \"r_dist\"]\n",
        "poi = 's_exp'\n",
        "pars = list(all_pars.values())\n",
        "temperature = tf.Variable(0.1, shape=(), name=\"temp\")\n",
        "batch_size = 1000 #x2 for signal and bkg\n",
        "aux = {\"r_dist\": ds.Normal(loc=2.0, scale=0.4),\n",
        "       \"b_rate\": ds.Normal(loc=3.0, scale=1.)}\n",
        "nn_model = k.Sequential([Dense(units=100, activation=\"relu\",\n",
        "                                    kernel_initializer=k_init,\n",
        "                                    input_shape=(3,)),\n",
        "                         Dense(units=100, activation=\"relu\",\n",
        "                                    kernel_initializer=k_init),\n",
        "                              Dense(units=10, activation=\"linear\")])\n",
        "lr = 10e-5\n",
        "optimizer = tf.keras.optimizers.Adam(lr)#, clipnorm=1)\n",
        "#optimizer = tf.keras.optimizers.SGD(lr)#, clipnorm=1)"
      ],
      "execution_count": 0,
      "outputs": []
    },
    {
      "cell_type": "code",
      "metadata": {
        "colab_type": "code",
        "id": "dhzxJqnXEgFb",
        "outputId": "a53fcf3d-5cbf-4e2a-f44d-a45e265b87d3",
        "colab": {
          "base_uri": "https://localhost:8080/",
          "height": 85
        }
      },
      "source": [
        "pars"
      ],
      "execution_count": 0,
      "outputs": [
        {
          "output_type": "execute_result",
          "data": {
            "text/plain": [
              "[<tf.Variable 's_exp:0' shape=() dtype=float32, numpy=50.0>,\n",
              " <tf.Variable 'r_dist:0' shape=() dtype=float32, numpy=2.0>,\n",
              " <tf.Variable 'b_rate:0' shape=() dtype=float32, numpy=3.0>,\n",
              " <tf.Variable 'b_exp:0' shape=() dtype=float32, numpy=1000.0>]"
            ]
          },
          "metadata": {
            "tags": []
          },
          "execution_count": 151
        }
      ]
    },
    {
      "cell_type": "code",
      "metadata": {
        "colab_type": "code",
        "id": "izIMtICyQfK1",
        "outputId": "9055bff9-cbd7-475b-a97a-bed53a94fa22",
        "colab": {
          "base_uri": "https://localhost:8080/",
          "height": 255
        }
      },
      "source": [
        "nn_model.summary()"
      ],
      "execution_count": 0,
      "outputs": [
        {
          "output_type": "stream",
          "text": [
            "Model: \"sequential_3\"\n",
            "_________________________________________________________________\n",
            "Layer (type)                 Output Shape              Param #   \n",
            "=================================================================\n",
            "dense_9 (Dense)              (None, 100)               400       \n",
            "_________________________________________________________________\n",
            "dense_10 (Dense)             (None, 100)               10100     \n",
            "_________________________________________________________________\n",
            "dense_11 (Dense)             (None, 10)                1010      \n",
            "=================================================================\n",
            "Total params: 11,510\n",
            "Trainable params: 11,510\n",
            "Non-trainable params: 0\n",
            "_________________________________________________________________\n"
          ],
          "name": "stdout"
        }
      ]
    },
    {
      "cell_type": "code",
      "metadata": {
        "colab_type": "code",
        "id": "8bBJHLF7yGgx",
        "colab": {}
      },
      "source": [
        "current_time = datetime.datetime.now().strftime(\"%Y%m%d-%H%M%S\")\n",
        "train_log_dir = 'logs/gradient_tape/' + current_time + '/train'\n",
        "test_log_dir = 'logs/gradient_tape/' + current_time + '/test'\n",
        "train_summary_writer = tf.summary.create_file_writer(train_log_dir)\n",
        "test_summary_writer = tf.summary.create_file_writer(test_log_dir)"
      ],
      "execution_count": 0,
      "outputs": []
    },
    {
      "cell_type": "code",
      "metadata": {
        "colab_type": "code",
        "id": "nyMp9_lOjGc-",
        "colab": {}
      },
      "source": [
        "batched_dataset = dataset.batch(batch_size)"
      ],
      "execution_count": 0,
      "outputs": []
    },
    {
      "cell_type": "code",
      "metadata": {
        "colab_type": "code",
        "id": "QC2946eTjGdA",
        "colab": {}
      },
      "source": [
        "@tf.function\n",
        "def transform_bkg(x, r_dist_g=2., b_rate_g=3.):\n",
        "\n",
        "    # apply transformations over each dim\n",
        "    x_prime_0 = x[:, 0] - r_dist_g + r_dist\n",
        "    x_prime_1 = x[:, 1]\n",
        "    x_prime_2 = x[:, 2] * (b_rate_g / b_rate)\n",
        "\n",
        "    x_prime = tf.stack([x_prime_0, x_prime_1, x_prime_2], 1,\n",
        "                       name=\"x_prime\")\n",
        "    return x_prime"
      ],
      "execution_count": 0,
      "outputs": []
    },
    {
      "cell_type": "code",
      "metadata": {
        "colab_type": "code",
        "id": "uo3C1zAZjGdB",
        "colab": {}
      },
      "source": [
        "@tf.function\n",
        "def cov_matrix(ext_nll, pars):\n",
        "\n",
        "    pars = tuple(pars)\n",
        "\n",
        "    indices = [list(all_pars.keys()).index(par) for par in pars]\n",
        "    idx_subset = np.reshape(list(it.product(indices, indices)),\n",
        "                            (len(pars), len(pars), -1))\n",
        "    #print( idx_subset )\n",
        "\n",
        "    hess_subset = tf.gather_nd(ext_nll, idx_subset)\n",
        "\n",
        "    try:\n",
        "        cov_nll = tf.linalg.inv(hess_subset)\n",
        "    except:\n",
        "        print( hess_subset )\n",
        "\n",
        "    return cov_nll"
      ],
      "execution_count": 0,
      "outputs": []
    },
    {
      "cell_type": "code",
      "metadata": {
        "colab_type": "code",
        "id": "-xcZCoTkjGdD",
        "colab": {}
      },
      "source": [
        "@tf.function\n",
        "def conv_hessian(grad_grad, par):\n",
        "\n",
        "    grad_grad = [tf.zeros_like(pars[j]) if grad is None else grad\n",
        "                        for j, grad in enumerate(grad_grad)]   \n",
        "    grad_grad = [tf.expand_dims(g,1) if len(g.shape)==1 else g for g\n",
        "                        in grad_grad]\n",
        "    grad_shape = tf.concat([tf.shape(par),[len(pars)]], axis=0)\n",
        "\n",
        "    return tf.reshape(tf.stack(grad_grad,axis=-1), grad_shape)"
      ],
      "execution_count": 0,
      "outputs": []
    },
    {
      "cell_type": "code",
      "metadata": {
        "colab_type": "code",
        "id": "Iis-g3bfmEBQ",
        "colab": {}
      },
      "source": [
        "@tf.function\n",
        "def get_counts(batch):\n",
        "\n",
        "    logits = nn_model(batch)\n",
        "\n",
        "    probs = tf.nn.softmax(logits / temperature)\n",
        "    s_probs, b_probs = tf.split(probs, [batch_size,batch_size], axis=0)\n",
        "\n",
        "    s_counts = tf.reduce_mean(s_probs, axis=0)\n",
        "    b_counts = tf.reduce_mean(b_probs, axis=0)\n",
        "\n",
        "    return s_counts, b_counts"
      ],
      "execution_count": 0,
      "outputs": []
    },
    {
      "cell_type": "code",
      "metadata": {
        "colab_type": "code",
        "id": "s5KIdu2PtgDt",
        "colab": {}
      },
      "source": [
        "@tf.function\n",
        "def calculate_loss(s_batch, b_batch):\n",
        "\n",
        "    with tf.GradientTape(persistent=True) as g:\n",
        "\n",
        "        g.watch(s_exp)\n",
        "        g.watch(b_exp)\n",
        "        g.watch(r_dist)\n",
        "        g.watch(b_rate)\n",
        "\n",
        "        with tf.GradientTape(persistent=True) as gg:\n",
        "\n",
        "            gg.watch(s_exp)\n",
        "            gg.watch(b_exp)\n",
        "            gg.watch(r_dist)\n",
        "            gg.watch(b_rate)\n",
        "\n",
        "            # Transfrom the background to include the nuisance parameters\n",
        "            b_batch_trf = transform_bkg(b_batch)\n",
        "            # Pass batch through the neural network to get the predictions for the counts\n",
        "            train_batch = tf.concat([s_batch, b_batch_trf], axis=0, name=\"input_batch\") \n",
        "            s_counts, b_counts = get_counts(train_batch)\n",
        "            # Scale the predictions by the expected signal and background rates\n",
        "            exp_counts = tf.cast(s_exp * s_counts + b_exp * b_counts, dtype=tf.float64)\n",
        "\n",
        "            # Repeat the calculations with stopped gradients to get the asimov variable\n",
        "            train_batch_const = tf.stop_gradient(train_batch)\n",
        "            s_counts_asimov, b_counts_asimov = get_counts(train_batch_const)\n",
        "            s_exp_asimov, b_exp_asimov = tf.stop_gradient(s_exp), tf.stop_gradient(b_exp)\n",
        "            exp_counts_asimov = tf.cast(s_exp_asimov * s_counts_asimov + b_exp_asimov * b_counts_asimov, dtype=tf.float64)\n",
        "\n",
        "            if verbose > 0:\n",
        "                print(\"Counts\")\n",
        "                print(exp_counts)\n",
        "                print(\"Asimov counts\")\n",
        "                print(exp_counts_asimov)\n",
        "\n",
        "            # Log-likelihood\n",
        "            pois = ds.Poisson(exp_counts, name=\"poisson\")\n",
        "            nll = - tf.cast(tf.reduce_sum(pois.log_prob(exp_counts_asimov)), name=\"nll\", dtype=tf.float32)\n",
        "\n",
        "            # Auxiliary measurements to constrain the nuisances\n",
        "            nll_aux = {}\n",
        "            for par, dist in aux.items():\n",
        "                nll_aux[par] = -dist.log_prob(all_pars[par])\n",
        "        \n",
        "        # Gradient of the likelihood\n",
        "        dy_dx = gg.gradient(nll, pars)\n",
        "        dy_dx = [tf.zeros_like(pars[j]) if grad is None else grad for j, grad in enumerate(dy_dx)]  \n",
        "\n",
        "        # Gradient of the auxiliary measurements\n",
        "        dy_dx_aux = {}\n",
        "        for par in nll_aux:\n",
        "            dy_dx_aux_par = gg.gradient(nll_aux[par], pars)\n",
        "            dy_dx_aux[par] = [tf.zeros_like(pars[j]) if grad is None else grad for j, grad in enumerate(dy_dx_aux_par)] \n",
        "\n",
        "    # Hessian of the likelihood\n",
        "    hess_nll = []\n",
        "    for i, grad in enumerate(dy_dx):\n",
        "        grad_grad = g.gradient(grad, pars)\n",
        "        hess_nll.append(conv_hessian(grad_grad, pars[i]))\n",
        "    hess_nll = tf.stack(hess_nll, axis=-1)  \n",
        "\n",
        "    if verbose > 0:\n",
        "        print(\"Hessian nll\")\n",
        "        print( hess_nll ) \n",
        "\n",
        "    # Hessian of the auxiliary measurements\n",
        "    hess_nll_aux = {}\n",
        "    for par in dy_dx_aux:\n",
        "        hess_nll_aux[par] = []\n",
        "        for i, grad in enumerate(dy_dx_aux[par]):\n",
        "            grad_grad = g.gradient(grad, pars)\n",
        "            hess_nll_aux[par].append(conv_hessian(grad_grad, pars[i]))\n",
        "        hess_nll_aux[par] = tf.stack(hess_nll_aux[par], axis=-1)  \n",
        "        if verbose > 0:\n",
        "            print(\"Hessian \" + par)\n",
        "            print(hess_nll_aux[par])\n",
        "\n",
        "    # Extended likelihood\n",
        "    ext_nll = sum([hess_nll] + list(hess_nll_aux.values()))\n",
        "\n",
        "    # Covariance matrix\n",
        "    cov_nll = cov_matrix(ext_nll, par_names)\n",
        "\n",
        "    if verbose > 0:\n",
        "        print(\"Extended likelihood\")\n",
        "        print(ext_nll)\n",
        "        print(\"Covariance matrix\")\n",
        "        print(cov_nll)\n",
        "\n",
        "    idx_poi = par_names.index(poi)\n",
        "    loss = cov_nll[idx_poi, idx_poi] \n",
        "\n",
        "    return loss\n"
      ],
      "execution_count": 0,
      "outputs": []
    },
    {
      "cell_type": "code",
      "metadata": {
        "colab_type": "code",
        "id": "w2xzs4F0jGdG",
        "outputId": "a3f41125-b177-44ef-faed-9b8336e17082",
        "colab": {
          "base_uri": "https://localhost:8080/",
          "height": 1000
        }
      },
      "source": [
        "verbose = 0\n",
        "ibatch = 0\n",
        "\n",
        "train_loss = []\n",
        "val_loss = []\n",
        "\n",
        "for epoch in range(100):\n",
        "\n",
        "    # Check shuffle!! random seed!!\n",
        "    dataset = dataset.shuffle(10000, reshuffle_each_iteration=True)\n",
        "    batched_dataset = dataset.batch(batch_size)\n",
        "    batched_valset = val_set.batch(batch_size)\n",
        "\n",
        "    for s_batch, b_batch in batched_dataset:#.take(4):\n",
        "\n",
        "        with tf.GradientTape() as tape:\n",
        "            loss = calculate_loss(s_batch, b_batch)\n",
        "\n",
        "        if verbose > 0:\n",
        "            print(\"loss\")\n",
        "            print(loss)\n",
        "        \n",
        "        with train_summary_writer.as_default():\n",
        "            tf.summary.scalar('loss', loss, step = ibatch)\n",
        "\n",
        "        gradients = tape.gradient(loss, nn_model.trainable_weights)\n",
        "        optimizer.apply_gradients(zip(gradients, nn_model.trainable_variables))\n",
        "\n",
        "        ibatch += 1\n",
        "    \n",
        "\n",
        "    train_loss_epoch = []\n",
        "    for s_batch, b_batch in batched_dataset:\n",
        "\n",
        "        loss = calculate_loss(s_batch, b_batch)\n",
        "        train_loss_epoch.append(loss)\n",
        "\n",
        "    val_loss_epoch = []\n",
        "    for s_batch, b_batch in batched_valset:\n",
        "                \n",
        "        loss = calculate_loss(s_batch, b_batch)\n",
        "        val_loss_epoch.append(loss)\n",
        "\n",
        "    train_loss.append(np.mean(train_loss_epoch))\n",
        "    val_loss.append(np.mean(val_loss_epoch))\n",
        "\n",
        "    print(\"Epoch: \", epoch)\n",
        "    print(\"Train loss\", train_loss[-1], \" -- Val loss\", val_loss[-1])"
      ],
      "execution_count": 0,
      "outputs": [
        {
          "output_type": "stream",
          "text": [
            "Epoch:  0\n",
            "Train loss 652.04663  -- Val loss 628.47797\n",
            "Epoch:  1\n",
            "Train loss 595.3701  -- Val loss 592.2039\n",
            "Epoch:  2\n",
            "Train loss 544.62476  -- Val loss 523.93964\n",
            "Epoch:  3\n",
            "Train loss 488.56323  -- Val loss 485.1558\n",
            "Epoch:  4\n",
            "Train loss 458.59714  -- Val loss 457.9678\n",
            "Epoch:  5\n",
            "Train loss 449.43192  -- Val loss 443.18314\n",
            "Epoch:  6\n",
            "Train loss 436.61288  -- Val loss 428.28552\n",
            "Epoch:  7\n",
            "Train loss 426.90802  -- Val loss 416.12363\n",
            "Epoch:  8\n",
            "Train loss 421.38724  -- Val loss 407.95618\n",
            "Epoch:  9\n",
            "Train loss 416.33826  -- Val loss 403.90118\n",
            "Epoch:  10\n",
            "Train loss 402.10995  -- Val loss 393.0413\n",
            "Epoch:  11\n",
            "Train loss 390.81442  -- Val loss 383.99542\n",
            "Epoch:  12\n",
            "Train loss 381.9366  -- Val loss 375.28534\n",
            "Epoch:  13\n",
            "Train loss 368.79352  -- Val loss 358.9984\n",
            "Epoch:  14\n",
            "Train loss 364.19025  -- Val loss 356.59448\n",
            "Epoch:  15\n",
            "Train loss 353.0273  -- Val loss 345.74695\n",
            "Epoch:  16\n",
            "Train loss 350.59998  -- Val loss 339.2687\n",
            "Epoch:  17\n",
            "Train loss 341.69504  -- Val loss 334.74707\n",
            "Epoch:  18\n",
            "Train loss 339.91647  -- Val loss 330.99625\n",
            "Epoch:  19\n",
            "Train loss 333.12714  -- Val loss 325.71164\n",
            "Epoch:  20\n",
            "Train loss 324.8924  -- Val loss 317.54437\n",
            "Epoch:  21\n",
            "Train loss 316.4174  -- Val loss 312.21747\n",
            "Epoch:  22\n",
            "Train loss 313.24634  -- Val loss 311.97168\n",
            "Epoch:  23\n",
            "Train loss 312.1221  -- Val loss 310.10052\n",
            "Epoch:  24\n",
            "Train loss 311.51578  -- Val loss 310.2815\n",
            "Epoch:  25\n",
            "Train loss 311.094  -- Val loss 308.16718\n",
            "Epoch:  26\n",
            "Train loss 304.5444  -- Val loss 303.60962\n",
            "Epoch:  27\n",
            "Train loss 304.33475  -- Val loss 301.47513\n",
            "Epoch:  28\n",
            "Train loss 302.6939  -- Val loss 298.60654\n",
            "Epoch:  29\n",
            "Train loss 298.58383  -- Val loss 297.9337\n",
            "Epoch:  30\n",
            "Train loss 299.88098  -- Val loss 293.96826\n",
            "Epoch:  31\n",
            "Train loss 295.8319  -- Val loss 296.79022\n",
            "Epoch:  32\n",
            "Train loss 296.11615  -- Val loss 296.86392\n",
            "Epoch:  33\n",
            "Train loss 291.9863  -- Val loss 294.4193\n",
            "Epoch:  34\n",
            "Train loss 293.42197  -- Val loss 292.59644\n",
            "Epoch:  35\n",
            "Train loss 293.36923  -- Val loss 291.0905\n",
            "Epoch:  36\n",
            "Train loss 290.1432  -- Val loss 289.4766\n",
            "Epoch:  37\n",
            "Train loss 289.50137  -- Val loss 289.09924\n",
            "Epoch:  38\n",
            "Train loss 287.96036  -- Val loss 287.43634\n",
            "Epoch:  39\n",
            "Train loss 292.40198  -- Val loss 288.36432\n",
            "Epoch:  40\n",
            "Train loss 286.7986  -- Val loss 288.88467\n",
            "Epoch:  41\n",
            "Train loss 287.11575  -- Val loss 288.17865\n",
            "Epoch:  42\n",
            "Train loss 288.21146  -- Val loss 286.21805\n",
            "Epoch:  43\n",
            "Train loss 287.4658  -- Val loss 287.1724\n",
            "Epoch:  44\n",
            "Train loss 286.82727  -- Val loss 288.68314\n",
            "Epoch:  45\n",
            "Train loss 284.79315  -- Val loss 286.33597\n",
            "Epoch:  46\n",
            "Train loss 283.40405  -- Val loss 284.32193\n",
            "Epoch:  47\n",
            "Train loss 285.25366  -- Val loss 285.64114\n",
            "Epoch:  48\n",
            "Train loss 286.01135  -- Val loss 286.4736\n",
            "Epoch:  49\n",
            "Train loss 284.46265  -- Val loss 283.4501\n",
            "Epoch:  50\n",
            "Train loss 285.95584  -- Val loss 284.6289\n",
            "Epoch:  51\n",
            "Train loss 285.11325  -- Val loss 284.45752\n",
            "Epoch:  52\n",
            "Train loss 284.0874  -- Val loss 283.00708\n",
            "Epoch:  53\n",
            "Train loss 281.86377  -- Val loss 282.95157\n",
            "Epoch:  54\n",
            "Train loss 280.86682  -- Val loss 282.04712\n",
            "Epoch:  55\n",
            "Train loss 282.51392  -- Val loss 280.95633\n",
            "Epoch:  56\n",
            "Train loss 278.92923  -- Val loss 281.0246\n",
            "Epoch:  57\n",
            "Train loss 280.94922  -- Val loss 280.0597\n",
            "Epoch:  58\n",
            "Train loss 279.50232  -- Val loss 278.9226\n",
            "Epoch:  59\n",
            "Train loss 279.08472  -- Val loss 278.47968\n",
            "Epoch:  60\n",
            "Train loss 281.15143  -- Val loss 280.28204\n",
            "Epoch:  61\n",
            "Train loss 277.2955  -- Val loss 278.8335\n",
            "Epoch:  62\n",
            "Train loss 277.9198  -- Val loss 281.5792\n",
            "Epoch:  63\n",
            "Train loss 278.87164  -- Val loss 278.17874\n",
            "Epoch:  64\n",
            "Train loss 278.401  -- Val loss 279.58292\n",
            "Epoch:  65\n",
            "Train loss 277.85876  -- Val loss 279.1526\n",
            "Epoch:  66\n",
            "Train loss 277.93835  -- Val loss 279.51462\n",
            "Epoch:  67\n",
            "Train loss 280.5269  -- Val loss 280.22742\n",
            "Epoch:  68\n",
            "Train loss 279.55408  -- Val loss 280.05212\n",
            "Epoch:  69\n",
            "Train loss 281.0971  -- Val loss 283.0444\n",
            "Epoch:  70\n",
            "Train loss 277.714  -- Val loss 278.58572\n",
            "Epoch:  71\n",
            "Train loss 280.1835  -- Val loss 277.11926\n",
            "Epoch:  72\n",
            "Train loss 278.22888  -- Val loss 277.01962\n",
            "Epoch:  73\n",
            "Train loss 277.72018  -- Val loss 276.92856\n",
            "Epoch:  74\n",
            "Train loss 278.65802  -- Val loss 277.03683\n",
            "Epoch:  75\n",
            "Train loss 278.1468  -- Val loss 276.8963\n",
            "Epoch:  76\n",
            "Train loss 279.2456  -- Val loss 276.31824\n",
            "Epoch:  77\n",
            "Train loss 277.0573  -- Val loss 275.20108\n",
            "Epoch:  78\n",
            "Train loss 276.83093  -- Val loss 276.22772\n",
            "Epoch:  79\n",
            "Train loss 277.6822  -- Val loss 277.74347\n",
            "Epoch:  80\n",
            "Train loss 276.66718  -- Val loss 276.68884\n",
            "Epoch:  81\n",
            "Train loss 275.72647  -- Val loss 277.66702\n",
            "Epoch:  82\n",
            "Train loss 276.23334  -- Val loss 275.7037\n",
            "Epoch:  83\n",
            "Train loss 275.33066  -- Val loss 275.76056\n",
            "Epoch:  84\n",
            "Train loss 275.88766  -- Val loss 275.41467\n",
            "Epoch:  85\n",
            "Train loss 276.3833  -- Val loss 276.06183\n",
            "Epoch:  86\n",
            "Train loss 275.82852  -- Val loss 275.66565\n",
            "Epoch:  87\n",
            "Train loss 275.76712  -- Val loss 276.65378\n",
            "Epoch:  88\n",
            "Train loss 275.2005  -- Val loss 277.92352\n",
            "Epoch:  89\n",
            "Train loss 276.53336  -- Val loss 277.73746\n",
            "Epoch:  90\n",
            "Train loss 275.9855  -- Val loss 275.3074\n",
            "Epoch:  91\n",
            "Train loss 275.58963  -- Val loss 278.42374\n",
            "Epoch:  92\n",
            "Train loss 271.5232  -- Val loss 276.70374\n",
            "Epoch:  93\n",
            "Train loss 272.51892  -- Val loss 276.90292\n",
            "Epoch:  94\n",
            "Train loss 274.43243  -- Val loss 274.7413\n",
            "Epoch:  95\n",
            "Train loss 271.77014  -- Val loss 275.95743\n",
            "Epoch:  96\n",
            "Train loss 273.08463  -- Val loss 275.59222\n",
            "Epoch:  97\n",
            "Train loss 270.7197  -- Val loss 273.58347\n",
            "Epoch:  98\n",
            "Train loss 270.48392  -- Val loss 274.83218\n",
            "Epoch:  99\n",
            "Train loss 272.58276  -- Val loss 274.2952\n"
          ],
          "name": "stdout"
        }
      ]
    },
    {
      "cell_type": "code",
      "metadata": {
        "colab_type": "code",
        "id": "JWhkDA7_G0iG",
        "outputId": "4c83e4e7-caa1-4f1a-eeb3-57496bbd7e15",
        "colab": {
          "base_uri": "https://localhost:8080/",
          "height": 296
        }
      },
      "source": [
        "plt.plot(np.sqrt(train_loss))\n",
        "plt.plot(np.sqrt(val_loss))\n",
        "plt.legend(['train', 'val'], loc='upper right')\n",
        "plt.xlabel('epoch')\n",
        "plt.ylabel('std(s_exp)')"
      ],
      "execution_count": 0,
      "outputs": [
        {
          "output_type": "execute_result",
          "data": {
            "text/plain": [
              "Text(0, 0.5, 'std(s_exp)')"
            ]
          },
          "metadata": {
            "tags": []
          },
          "execution_count": 161
        },
        {
          "output_type": "display_data",
          "data": {
            "image/png": "[encoded data removed]",
            "text/plain": [
              "<Figure size 432x288 with 1 Axes>"
            ]
          },
          "metadata": {
            "tags": [],
            "needs_background": "light"
          }
        }
      ]
    },
    {
      "cell_type": "code",
      "metadata": {
        "colab_type": "code",
        "id": "J2tyO28XboQd",
        "colab": {}
      },
      "source": [
        "k.models.save_model( nn_model, 'model_sync.h5')"
      ],
      "execution_count": 0,
      "outputs": []
    },
    {
      "cell_type": "code",
      "metadata": {
        "colab_type": "code",
        "id": "AHJowgADb-FA",
        "outputId": "2f560c35-5d63-4e00-a5e9-86ffeace6184",
        "colab": {
          "base_uri": "https://localhost:8080/",
          "height": 122
        }
      },
      "source": [
        "from google.colab import drive\n",
        "drive.mount('/content/gdrive')\n",
        "path = \"/content/gdrive/My Drive/model.h5\""
      ],
      "execution_count": 0,
      "outputs": [
        {
          "output_type": "stream",
          "text": [
            "Go to this URL in a browser: https://accounts.google.com/o/oauth2/auth?client_id=947318989803-6bn6qk8qdgf4n4g3pfee6491hc0brc4i.apps.googleusercontent.com&redirect_uri=urn%3aietf%3awg%3aoauth%3a2.0%3aoob&response_type=code&scope=email%20https%3a%2f%2fwww.googleapis.com%2fauth%2fdocs.test%20https%3a%2f%2fwww.googleapis.com%2fauth%2fdrive%20https%3a%2f%2fwww.googleapis.com%2fauth%2fdrive.photos.readonly%20https%3a%2f%2fwww.googleapis.com%2fauth%2fpeopleapi.readonly\n",
            "\n",
            "Enter your authorization code:\n",
            "··········\n",
            "Mounted at /content/gdrive\n"
          ],
          "name": "stdout"
        }
      ]
    },
    {
      "cell_type": "code",
      "metadata": {
        "colab_type": "code",
        "id": "MAW-5_BrcMwA",
        "colab": {}
      },
      "source": [
        "k.models.save_model( nn_model, path)"
      ],
      "execution_count": 0,
      "outputs": []
    },
    {
      "cell_type": "markdown",
      "metadata": {
        "colab_type": "text",
        "id": "z4JuBXKWG5GF"
      },
      "source": [
        "## Tensorboard "
      ]
    },
    {
      "cell_type": "code",
      "metadata": {
        "colab_type": "code",
        "id": "jUjPynRozYah",
        "colab": {}
      },
      "source": [
        "%tensorboard --logdir logs/gradient_tape"
      ],
      "execution_count": 0,
      "outputs": []
    },
    {
      "cell_type": "markdown",
      "metadata": {
        "colab_type": "text",
        "id": "NJmLnU74Eor1"
      },
      "source": [
        "## Predict shapes"
      ]
    },
    {
      "cell_type": "code",
      "metadata": {
        "colab_type": "code",
        "id": "hI3VYFOLch0t",
        "outputId": "323ab267-0d6f-4566-f397-1653381daa56",
        "colab": {
          "base_uri": "https://localhost:8080/",
          "height": 34
        }
      },
      "source": [
        "model = k.models.load_model( 'model_sync.h5' )"
      ],
      "execution_count": 0,
      "outputs": [
        {
          "output_type": "stream",
          "text": [
            "WARNING:tensorflow:No training configuration found in save file: the model was *not* compiled. Compile it manually.\n"
          ],
          "name": "stdout"
        }
      ]
    },
    {
      "cell_type": "code",
      "metadata": {
        "colab_type": "code",
        "id": "0PJ4UHkvc0aI",
        "outputId": "b55fbb7b-6e02-46e0-9921-8e18ea35d5de",
        "colab": {
          "base_uri": "https://localhost:8080/",
          "height": 255
        }
      },
      "source": [
        "model.summary()\n",
        "# outputs\n",
        "n_outputs = model.get_output_shape_at(0)[1]"
      ],
      "execution_count": 0,
      "outputs": [
        {
          "output_type": "stream",
          "text": [
            "Model: \"sequential_3\"\n",
            "_________________________________________________________________\n",
            "Layer (type)                 Output Shape              Param #   \n",
            "=================================================================\n",
            "dense_9 (Dense)              (None, 100)               400       \n",
            "_________________________________________________________________\n",
            "dense_10 (Dense)             (None, 100)               10100     \n",
            "_________________________________________________________________\n",
            "dense_11 (Dense)             (None, 10)                1010      \n",
            "=================================================================\n",
            "Total params: 11,510\n",
            "Trainable params: 11,510\n",
            "Non-trainable params: 0\n",
            "_________________________________________________________________\n"
          ],
          "name": "stdout"
        }
      ]
    },
    {
      "cell_type": "code",
      "metadata": {
        "colab_type": "code",
        "id": "sh7IibzsdYM8",
        "colab": {}
      },
      "source": [
        "# predict signal\n",
        "s_clf = model.predict(valid['sig'], batch_size=10000)"
      ],
      "execution_count": 0,
      "outputs": []
    },
    {
      "cell_type": "code",
      "metadata": {
        "colab_type": "code",
        "id": "kKt28i_IeEXK",
        "colab": {}
      },
      "source": [
        "shapes = {}\n",
        "# shape signal\n",
        "shapes[(\"sig\")] = np.bincount(np.argmax(s_clf, axis=-1), minlength=n_outputs)"
      ],
      "execution_count": 0,
      "outputs": []
    },
    {
      "cell_type": "code",
      "metadata": {
        "colab_type": "code",
        "id": "dtxu72ZHed3a",
        "colab": {}
      },
      "source": [
        "default_par_scan = {'r_dist': [2.0, 2.2, 1.8],\n",
        "                    'b_rate': [3.0, 3.5, 2.5]}\n",
        "default_bins = np.linspace(0, 1, 11)\n",
        "\n",
        "pars_scan=default_par_scan"
      ],
      "execution_count": 0,
      "outputs": []
    },
    {
      "cell_type": "code",
      "metadata": {
        "colab_type": "code",
        "id": "j-mXsAT5hJ6q",
        "outputId": "a3d1a9a8-d35b-428b-e452-1b2c0a9bb192",
        "colab": {
          "base_uri": "https://localhost:8080/",
          "height": 122
        }
      },
      "source": [
        "for pars_val in it.product(*pars_scan.values()):\n",
        "\n",
        "    b_vals_arr = transform_bkg(valid['bkg'], pars_val[0], pars_val[1])\n",
        "    b_clf = model.predict(b_vals_arr, batch_size=10000)\n",
        "    key = (\"bkg_\" + str(pars_val))\n",
        "    b_clf_hist = np.bincount(np.argmax(b_clf, axis=-1), minlength=n_outputs)\n",
        "    shapes[key] = b_clf_hist"
      ],
      "execution_count": 0,
      "outputs": [
        {
          "output_type": "stream",
          "text": [
            "WARNING:tensorflow:5 out of the last 5 calls to <function transform_bkg at 0x1405e6b90> triggered tf.function retracing. Tracing is expensive and the excessive number of tracings is likely due to passing python objects instead of tensors. Also, tf.function has experimental_relax_shapes=True option that relaxes argument shapes that can avoid unnecessary retracing. Please refer to https://www.tensorflow.org/tutorials/customization/performance#python_or_tensor_args and https://www.tensorflow.org/api_docs/python/tf/function for more details.\n",
            "WARNING:tensorflow:6 out of the last 6 calls to <function transform_bkg at 0x1405e6b90> triggered tf.function retracing. Tracing is expensive and the excessive number of tracings is likely due to passing python objects instead of tensors. Also, tf.function has experimental_relax_shapes=True option that relaxes argument shapes that can avoid unnecessary retracing. Please refer to https://www.tensorflow.org/tutorials/customization/performance#python_or_tensor_args and https://www.tensorflow.org/api_docs/python/tf/function for more details.\n",
            "WARNING:tensorflow:7 out of the last 7 calls to <function transform_bkg at 0x1405e6b90> triggered tf.function retracing. Tracing is expensive and the excessive number of tracings is likely due to passing python objects instead of tensors. Also, tf.function has experimental_relax_shapes=True option that relaxes argument shapes that can avoid unnecessary retracing. Please refer to https://www.tensorflow.org/tutorials/customization/performance#python_or_tensor_args and https://www.tensorflow.org/api_docs/python/tf/function for more details.\n",
            "WARNING:tensorflow:8 out of the last 8 calls to <function transform_bkg at 0x1405e6b90> triggered tf.function retracing. Tracing is expensive and the excessive number of tracings is likely due to passing python objects instead of tensors. Also, tf.function has experimental_relax_shapes=True option that relaxes argument shapes that can avoid unnecessary retracing. Please refer to https://www.tensorflow.org/tutorials/customization/performance#python_or_tensor_args and https://www.tensorflow.org/api_docs/python/tf/function for more details.\n",
            "WARNING:tensorflow:9 out of the last 9 calls to <function transform_bkg at 0x1405e6b90> triggered tf.function retracing. Tracing is expensive and the excessive number of tracings is likely due to passing python objects instead of tensors. Also, tf.function has experimental_relax_shapes=True option that relaxes argument shapes that can avoid unnecessary retracing. Please refer to https://www.tensorflow.org/tutorials/customization/performance#python_or_tensor_args and https://www.tensorflow.org/api_docs/python/tf/function for more details.\n",
            "WARNING:tensorflow:10 out of the last 10 calls to <function transform_bkg at 0x1405e6b90> triggered tf.function retracing. Tracing is expensive and the excessive number of tracings is likely due to passing python objects instead of tensors. Also, tf.function has experimental_relax_shapes=True option that relaxes argument shapes that can avoid unnecessary retracing. Please refer to https://www.tensorflow.org/tutorials/customization/performance#python_or_tensor_args and https://www.tensorflow.org/api_docs/python/tf/function for more details.\n"
          ],
          "name": "stdout"
        }
      ]
    },
    {
      "cell_type": "code",
      "metadata": {
        "colab_type": "code",
        "id": "2cQkJ_SVjyXr",
        "outputId": "13536dda-2217-4154-a7c2-49517bf0441f",
        "colab": {
          "base_uri": "https://localhost:8080/",
          "height": 357
        }
      },
      "source": [
        "shapes"
      ],
      "execution_count": 0,
      "outputs": [
        {
          "output_type": "execute_result",
          "data": {
            "text/plain": [
              "{'sig': array([19386,   259,  2632,   532,   324,  9687, 12119,   483,   753,\n",
              "        53825]),\n",
              " 'bkg_(2.0, 3.0)': array([ 1351,   232,  5966,    68,    34, 50774, 31239,    88,    63,\n",
              "        10185]),\n",
              " 'bkg_(2.0, 3.5)': array([ 1744,   321,  7430,   126,    53, 48593, 31584,   137,   103,\n",
              "         9909]),\n",
              " 'bkg_(2.0, 2.5)': array([ 1011,   169,  4479,    36,    18, 53085, 30739,    51,    40,\n",
              "        10372]),\n",
              " 'bkg_(2.2, 3.0)': array([ 1508,   239,  5780,    74,    37, 47672, 33492,    83,    69,\n",
              "        11046]),\n",
              " 'bkg_(2.2, 3.5)': array([ 1904,   318,  7160,   140,    53, 45552, 33849,   154,   111,\n",
              "        10759]),\n",
              " 'bkg_(2.2, 2.5)': array([ 1104,   167,  4345,    34,    17, 49859, 33089,    50,    39,\n",
              "        11296]),\n",
              " 'bkg_(1.8, 3.0)': array([ 1227,   241,  6164,    66,    37, 53834, 28979,    88,    63,\n",
              "         9301]),\n",
              " 'bkg_(1.8, 3.5)': array([ 1566,   327,  7681,   113,    61, 51590, 29353,   126,   104,\n",
              "         9079]),\n",
              " 'bkg_(1.8, 2.5)': array([  918,   132,  4599,    44,    16, 56270, 28499,    50,    35,\n",
              "         9437])}"
            ]
          },
          "metadata": {
            "tags": []
          },
          "execution_count": 169
        }
      ]
    },
    {
      "cell_type": "markdown",
      "metadata": {
        "colab_type": "text",
        "id": "EjGKJ9lckHFS"
      },
      "source": [
        "## Templates\n"
      ]
    },
    {
      "cell_type": "code",
      "metadata": {
        "colab_type": "code",
        "id": "udm7Aj51HPLs",
        "colab": {}
      },
      "source": [
        "def normalise(arr):\n",
        "    arr = np.array(arr, dtype=np.float32)\n",
        "    return arr / arr.sum()\n",
        "\n",
        "templates = {k: normalise(v) for k, v in shapes.items()}"
      ],
      "execution_count": 0,
      "outputs": []
    },
    {
      "cell_type": "code",
      "metadata": {
        "colab_type": "code",
        "id": "Kx-4jJuFuM7v",
        "colab": {}
      },
      "source": [
        "def get_str(rd, br):\n",
        "    return str( (pars_scan['r_dist'][rd], pars_scan['b_rate'][br]) )"
      ],
      "execution_count": 0,
      "outputs": []
    },
    {
      "cell_type": "code",
      "metadata": {
        "colab_type": "code",
        "id": "A2OXWkNvt5rC",
        "colab": {}
      },
      "source": [
        "sig_shape = templates[('sig')]\n",
        "c_nom = templates['bkg_' + get_str(0,0)]\n",
        "c_up = np.array([templates['bkg_' + get_str(1,0)], templates['bkg_' + get_str(0,1)]])\n",
        "c_dw = np.array([templates['bkg_' + get_str(2,0)], templates['bkg_' + get_str(0,2)]])"
      ],
      "execution_count": 0,
      "outputs": []
    },
    {
      "cell_type": "code",
      "metadata": {
        "colab_type": "code",
        "id": "uqQKH-pEt5Vd",
        "colab": {}
      },
      "source": [
        "zero_filter = np.all([(sig_shape != 0.), (c_nom != 0.)], axis=0)\n",
        "templates = {k: v[zero_filter] for k, v in templates.items() if not ('pars' in k[0])}"
      ],
      "execution_count": 0,
      "outputs": []
    },
    {
      "cell_type": "code",
      "metadata": {
        "colab_type": "code",
        "id": "0hln0g9yrnRN",
        "colab": {}
      },
      "source": [
        "c_nom = c_nom[zero_filter]\n",
        "c_up = c_up[:, zero_filter]\n",
        "c_dw = c_dw[:, zero_filter] \n",
        "sig_shape = sig_shape[zero_filter]"
      ],
      "execution_count": 0,
      "outputs": []
    },
    {
      "cell_type": "code",
      "metadata": {
        "colab_type": "code",
        "id": "0lWWWqXprzgN",
        "outputId": "95db70aa-ad0c-4716-d144-84234a12b591",
        "colab": {
          "base_uri": "https://localhost:8080/",
          "height": 221
        }
      },
      "source": [
        "print( c_nom )\n",
        "print( c_up )\n",
        "print( c_dw )\n",
        "print( sig_shape )"
      ],
      "execution_count": 0,
      "outputs": [
        {
          "output_type": "stream",
          "text": [
            "[1.3510e-02 2.3200e-03 5.9660e-02 6.8000e-04 3.4000e-04 5.0774e-01\n",
            " 3.1239e-01 8.8000e-04 6.3000e-04 1.0185e-01]\n",
            "[[1.5080e-02 2.3900e-03 5.7800e-02 7.4000e-04 3.7000e-04 4.7672e-01\n",
            "  3.3492e-01 8.3000e-04 6.9000e-04 1.1046e-01]\n",
            " [1.7440e-02 3.2100e-03 7.4300e-02 1.2600e-03 5.3000e-04 4.8593e-01\n",
            "  3.1584e-01 1.3700e-03 1.0300e-03 9.9090e-02]]\n",
            "[[1.2270e-02 2.4100e-03 6.1640e-02 6.6000e-04 3.7000e-04 5.3834e-01\n",
            "  2.8979e-01 8.8000e-04 6.3000e-04 9.3010e-02]\n",
            " [1.0110e-02 1.6900e-03 4.4790e-02 3.6000e-04 1.8000e-04 5.3085e-01\n",
            "  3.0739e-01 5.1000e-04 4.0000e-04 1.0372e-01]]\n",
            "[0.19386 0.00259 0.02632 0.00532 0.00324 0.09687 0.12119 0.00483 0.00753\n",
            " 0.53825]\n"
          ],
          "name": "stdout"
        }
      ]
    },
    {
      "cell_type": "markdown",
      "metadata": {
        "id": "e25wjjJhIKVa",
        "colab_type": "text"
      },
      "source": [
        "## Profile likelihood"
      ]
    },
    {
      "cell_type": "code",
      "metadata": {
        "id": "56XmiVUGIKVa",
        "colab_type": "code",
        "colab": {}
      },
      "source": [
        "rdist_shift = (max(pars_scan['r_dist']) - min(pars_scan['r_dist'])) / 2\n",
        "brate_shift = (max(pars_scan['b_rate']) - min(pars_scan['b_rate'])) / 2\n",
        "r_dist_init = pars_scan['r_dist'][0]\n",
        "b_rate_init = pars_scan['b_rate'][0]"
      ],
      "execution_count": 0,
      "outputs": []
    },
    {
      "cell_type": "code",
      "metadata": {
        "colab_type": "code",
        "id": "4Ot_YXr5475P",
        "colab": {}
      },
      "source": [
        "def int_quad_lin(alpha, c_nom, c_up, c_dw, multiple_pars=False):\n",
        "\n",
        "    if multiple_pars:\n",
        "        tiling_shape = [1, 1, 1, tf.shape(c_nom)[0]]\n",
        "        expand_axis = 1\n",
        "    else:\n",
        "        tiling_shape = [1, 1, tf.shape(c_nom)[0]]\n",
        "        expand_axis = 0\n",
        "\n",
        "    \n",
        "    # alpha dimensions are (1, n_par_types, n_par_inst)\n",
        "    # c_dw and c_up are (n_bins, n_par_types)\n",
        "    alpha_exp = tf.expand_dims(alpha, axis=-1)\n",
        "    alpha_t = tf.tile(alpha_exp, tiling_shape)\n",
        "    #alpha_t dimensions are (1, n_par_types, n_par_inst, n_bins)\n",
        "    #print(alpha_t)\n",
        "    # if multiple_pars is True or (1, n_par_types, n_bins)\n",
        "    a = tf.expand_dims(0.5 * (c_up + c_dw) - c_nom, axis=expand_axis, name=\"a\")\n",
        "    b = tf.expand_dims(0.5 * (c_up - c_dw), axis=expand_axis, name=\"b\")\n",
        "    ones = tf.ones_like(alpha_t, dtype='float32')\n",
        "\n",
        "    #print(alpha_t)\n",
        "    #print(ones)\n",
        "    #print(tf.expand_dims(c_dw - c_nom, axis=expand_axis))\n",
        "\n",
        "    #up = ones * tf.expand_dims(c_dw - c_nom, axis=expand_axis)\n",
        "    #dw = ones * tf.expand_dims(c_up - c_nom, axis=expand_axis)\n",
        "\n",
        "    switch = tf.where(alpha_t < 0.,\n",
        "                    ones * tf.expand_dims(c_dw - c_nom, axis=expand_axis),\n",
        "                    ones * tf.expand_dims(c_up - c_nom, axis=expand_axis))\n",
        "    \n",
        "    \n",
        "    #  (1, n_par_types, n_par_inst, n_bins) broadcast when multiple_pars\n",
        "    #      (n_par_types,         1, n_bins) (if expand axis 1)\n",
        "    #  (1, n_par_types, n_bins) broadcast when not multiple_pars\n",
        "    #      (n_par_types,n_bins) (if expand axis 0)\n",
        "    \n",
        "    alpha_t = tf.cast(alpha_t, dtype=tf.float32)\n",
        "    #print((2 * b + tf.sign(alpha_t) * a) * (alpha_t - tf.sign(alpha_t)) + switch)\n",
        "    \n",
        "    \n",
        "    abs_var = tf.where(tf.abs(alpha_t) > 1.,\n",
        "                        (2 * b + tf.sign(alpha_t) * a) *\n",
        "                        (alpha_t - tf.sign(alpha_t)) + switch,\n",
        "                        a * tf.pow(alpha_t, 2) + b * alpha_t)\n",
        "    # abs_var is (1, n_par_types, n_par_inst, n_bins) or (1, n_par_types, n_bins)\n",
        "    return c_nom + tf.reduce_sum(abs_var, axis=1)\n",
        "    \n"
      ],
      "execution_count": 0,
      "outputs": []
    },
    {
      "cell_type": "code",
      "metadata": {
        "colab_type": "code",
        "id": "9PIG6vY60Vng",
        "colab": {}
      },
      "source": [
        "def get_asimov():\n",
        "    \n",
        "    alpha_pars = [[(r_dist - r_dist_init) / rdist_shift,\n",
        "                (b_rate - b_rate_init) / brate_shift]]\n",
        "    #print(alpha_pars)\n",
        "\n",
        "    # bkg_shape shape is (n_par_inst, n_bins, 1) if multiple_pars\n",
        "    bkg_shape = int_quad_lin(alpha_pars, c_nom, c_up, c_dw, multiple_pars=False)\n",
        "\n",
        "    print(c_nom)\n",
        "    print(bkg_shape)\n",
        "    \n",
        "    s_exp_e = tf.cast(s_exp, dtype=tf.float32)\n",
        "    b_exp_e = tf.cast(b_exp, dtype=tf.float32)\n",
        "\n",
        "    sig_shape_e = tf.expand_dims(sig_shape, axis=0,\n",
        "                                name=\"expanded_sig_shape\")\n",
        "    s_exp_e = tf.expand_dims(s_exp_e, axis=-1, name=\"expanded_s_exp\")\n",
        "    b_exp_e = tf.expand_dims(b_exp_e, axis=-1, name=\"expanded_b_exp\")\n",
        "    \n",
        "    #print( sig_shape_exp)\n",
        "\n",
        "    t_exp = tf.cast(s_exp_e * sig_shape +\n",
        "                            b_exp_e * bkg_shape,\n",
        "                            dtype=tf.float64, name=\"t_exp\")\n",
        "    \n",
        "    return tf.stop_gradient(t_exp)\n"
      ],
      "execution_count": 0,
      "outputs": []
    },
    {
      "cell_type": "code",
      "metadata": {
        "colab_type": "code",
        "id": "jTOpj-9CPFtP",
        "colab": {}
      },
      "source": [
        "def calc_hesse(asimov, all_pars):\n",
        "    \n",
        "    pars = list(all_pars.values())\n",
        "    with tf.GradientTape(persistent=True) as g:\n",
        "\n",
        "        \"\"\"\n",
        "        g.watch(tm_s_exp)\n",
        "        g.watch(tm_b_exp)\n",
        "        g.watch(tm_r_dist)\n",
        "        g.watch(tm_b_rate)\n",
        "        \"\"\"\n",
        "        g.watch(pars)\n",
        "        \n",
        "        with tf.GradientTape(persistent=True) as gg:\n",
        "\n",
        "            \"\"\"\n",
        "            gg.watch(tm_s_exp)\n",
        "            gg.watch(tm_b_exp)\n",
        "            gg.watch(tm_r_dist)\n",
        "            gg.watch(tm_b_rate)\n",
        "            \"\"\"\n",
        "            \n",
        "            gg.watch(pars)\n",
        "            \n",
        "            alpha_pars = [[(all_pars['tm_r_dist'] - r_dist_init) / rdist_shift,\n",
        "                            (all_pars['tm_b_rate'] - b_rate_init) / brate_shift]]\n",
        "\n",
        "            # bkg_shape shape is (n_par_inst, n_bins, 1) if multiple_pars\n",
        "            bkg_shape = int_quad_lin(alpha_pars, c_nom, c_up, c_dw, multiple_pars=True)\n",
        "\n",
        "            tm_s_exp_e = tf.cast(all_pars['tm_s_exp'], dtype=tf.float32)\n",
        "            tm_b_exp_e = tf.cast(all_pars['tm_b_exp'], dtype=tf.float32)\n",
        "\n",
        "            sig_shape_e = tf.expand_dims(sig_shape, axis=0,\n",
        "                                        name=\"expanded_sig_shape\")\n",
        "            s_exp_e = tf.expand_dims(tm_s_exp_e, axis=-1, name=\"expanded_s_exp\")\n",
        "            b_exp_e = tf.expand_dims(tm_b_exp_e, axis=-1, name=\"expanded_b_exp\")\n",
        "\n",
        "            #print( sig_shape_exp)\n",
        "\n",
        "            t_exp = tf.cast(s_exp_e * sig_shape +\n",
        "                                    b_exp_e * bkg_shape,\n",
        "                                    dtype=tf.float64, name=\"t_exp\")\n",
        "\n",
        "            # Log-likelihood\n",
        "            h_pois = ds.Poisson(t_exp)\n",
        "            nll = - tf.cast(tf.reduce_sum(h_pois.log_prob(asimov), axis=-1),\n",
        "                        dtype=tf.float32)\n",
        "        \n",
        "            #print(nll)\n",
        "    \n",
        "        # Gradient of the likelihood\n",
        "        dy_dx = gg.gradient(nll, pars)\n",
        "        dy_dx = [tf.zeros_like(pars[j]) if grad is None else grad for j, grad in enumerate(dy_dx)]  \n",
        "\n",
        "        #print(\"GRADIENT\")\n",
        "        #print(dy_dx)\n",
        "        \n",
        "    \n",
        "    # Hessian of the likelihood\n",
        "    \n",
        "    #print(\"HESSIAN\")\n",
        "    hess_nll = []\n",
        "    for i, grad in enumerate(dy_dx):\n",
        "        grad_grad = g.gradient(grad, pars)\n",
        "    \n",
        "    \n",
        "        grad_grad = [tf.zeros_like(pars[j]) if grad is None else grad\n",
        "                            for j, grad in enumerate(grad_grad)]   \n",
        "        \n",
        "        grad_grad = [tf.expand_dims(g,1) if len(g.shape)==1 else g for g\n",
        "                            in grad_grad]\n",
        "        \n",
        "        \n",
        "        grad_shape = tf.concat([tf.shape(pars[i]),[len(pars)]], axis=0)\n",
        "\n",
        "        #print(grad_shape)\n",
        "        \n",
        "        grad_grad = tf.reshape(tf.stack(grad_grad,axis=-1), grad_shape)\n",
        "        \n",
        "        #print(grad_grad)\n",
        "        \n",
        "        hess_nll.append(grad_grad)\n",
        "    hess_nll = tf.stack(hess_nll, axis=-1)  \n",
        "\n",
        "    \"\"\"\n",
        "    if verbose > 0:\n",
        "        print(\"Hessian nll\")\n",
        "        print( hess_nll ) \n",
        "    \"\"\"\n",
        "\n",
        "    # expand dimensions if scalar-dim parameter\n",
        "    dy_dx = [tf.expand_dims(g,1) if len(g.shape)==1 else g for g in dy_dx]\n",
        "    # reshape to deal with scalars\n",
        "    dy_dx_shape = tf.concat([tf.shape(pars[0]),[len(pars)]],axis=0)\n",
        "    dy_dx = tf.reshape(tf.stack(dy_dx,axis=-1), dy_dx_shape)\n",
        "    \n",
        "    \n",
        "    return nll.numpy(), hess_nll.numpy(), dy_dx.numpy()"
      ],
      "execution_count": 0,
      "outputs": []
    },
    {
      "cell_type": "code",
      "metadata": {
        "id": "_G6L5WUmIKVh",
        "colab_type": "code",
        "colab": {},
        "outputId": "46c55b8b-3bb3-4ca9-f264-bbe2d895ded8"
      },
      "source": [
        "step_size = 0.1\n",
        "n_steps = 100\n",
        "d = 0.0\n",
        "par_names = [\"tm_r_dist\",\"tm_b_rate\"]\n",
        "par_names = tuple(par_names)\n",
        "\n",
        "s_exp_scan = np.linspace(20.,80.,60, endpoint=True)\n",
        "tm_r_dist = tf.Variable( 2.0*np.ones_like(s_exp_scan) )\n",
        "tm_b_rate = tf.Variable( 3.0*np.ones_like(s_exp_scan) )\n",
        "tm_s_exp = tf.Variable( s_exp_scan )\n",
        "tm_b_exp = tf.Variable( 1000.0*np.ones_like(s_exp_scan) )\n",
        "\n",
        "all_pars = OrderedDict([('tm_s_exp', tm_s_exp),\n",
        "                        ('tm_r_dist', tm_r_dist),\n",
        "                        ('tm_b_rate', tm_b_rate),\n",
        "                        ('tm_b_exp', tm_b_exp)])\n",
        "\n",
        "\n",
        "\n",
        "asimov_data = get_asimov()[0]\n",
        "nll, hesse, gradient = calc_hesse(asimov_data, all_pars)\n",
        "\n",
        "\"\"\" FIXME hack to get the subpars\n",
        "indices = [list(all_pars.keys()).index(par) for par in par_names]\n",
        "idx_subset = np.reshape(list(it.product(indices, indices)),\n",
        "                        (len(par_names), len(par_names), -1)).T\n",
        "\"\"\"                        \n",
        "sub_hess= hesse[:, 1:3, 1:3]\n",
        "sub_grad = gradient[:, 1:3]\n",
        "\n",
        "#print(sub_hess)\n",
        "\n",
        "for i in range(n_steps):\n",
        "    \n",
        "    newton_step = np.matmul(np.linalg.inv(sub_hess + d * np.ones([len(par_names)])), sub_grad[:,:,np.newaxis])\n",
        "    \n",
        "    #print(newton_step)\n",
        "    \n",
        "    #tm_r_dist = tm_r_dist - step_size*newton_step[:,0,0]\n",
        "    #tm_b_rate = tm_b_rate - step_size*newton_step[:,1,0]\n",
        "    \n",
        "    all_pars['tm_r_dist'] = tm_r_dist - step_size*newton_step[:,0,0] \n",
        "    all_pars['tm_b_rate'] = tm_b_rate - step_size*newton_step[:,1,0] \n",
        "    \n",
        "    #print(all_pars)\n",
        "    \n",
        "    p_nll, hesse, gradient = calc_hesse(asimov_data, all_pars)\n",
        "    #print(gradient)\n",
        "    \n",
        "    sub_hess = hesse[:, 1:3, 1:3]\n",
        "    sub_grad = gradient[:, 1:3]\n",
        "    \n",
        "    print(p_nll)\n",
        "    \n",
        "    #print(all_pars)"
      ],
      "execution_count": 0,
      "outputs": [
        {
          "output_type": "stream",
          "text": [
            "[1.3510e-02 2.3200e-03 5.9660e-02 6.8000e-04 3.4000e-04 5.0774e-01\n",
            " 3.1239e-01 8.8000e-04 6.3000e-04 1.0185e-01]\n",
            "tf.Tensor(\n",
            "[[1.3510e-02 2.3200e-03 5.9660e-02 6.8000e-04 3.4000e-04 5.0774e-01\n",
            "  3.1239e-01 8.8000e-04 6.3000e-04 1.0185e-01]], shape=(1, 10), dtype=float32)\n",
            "[[23.823853 23.68138  23.544802 23.414034 23.288996 23.169603 23.055775\n",
            "  22.947433 22.844503 22.746908 22.654583 22.567446 22.485437 22.408485\n",
            "  22.336523 22.26949  22.207317 22.149948 22.09732  22.049376 22.006056\n",
            "  21.967302 21.933064 21.903282 21.877907 21.856884 21.840164 21.827696\n",
            "  21.819431 21.815321 21.81532  21.81938  21.827456 21.839502 21.855478\n",
            "  21.87534  21.899042 21.926548 21.957815 21.992804 22.031473 22.073788\n",
            "  22.119705 22.169195 22.222214 22.27873  22.338707 22.402111 22.468906\n",
            "  22.53906  22.61254  22.689312 22.769344 22.85261  22.93907  23.0287\n",
            "  23.121468 23.217346 23.316303 23.41831 ]]\n",
            "[[23.831387 23.688324 23.551188 23.419893 23.294357 23.174492 23.060219\n",
            "  22.95146  22.848137 22.750175 22.657503 22.570047 22.487738 22.410505\n",
            "  22.338287 22.271015 22.208626 22.151058 22.09825  22.050142 22.006676\n",
            "  21.967794 21.933441 21.903564 21.878105 21.857016 21.840242 21.827736\n",
            "  21.819445 21.815323 21.815321 21.819393 21.827494 21.839577 21.855598\n",
            "  21.875519 21.89929  21.926874 21.958231 21.993317 22.032095 22.074526\n",
            "  22.120571 22.170193 22.223356 22.280024 22.34016  22.40373  22.470701\n",
            "  22.541035 22.614702 22.691673 22.771906 22.85538  22.942057 23.031908\n",
            "  23.124903 23.221012 23.320208 23.42246 ]]\n",
            "[[23.830618 23.687618 23.550539 23.419298 23.293814 23.173996 23.059769\n",
            "  22.951052 22.847769 22.749846 22.657207 22.569784 22.487505 22.410301\n",
            "  22.338108 22.27086  22.208494 22.150946 22.098156 22.050064 22.006613\n",
            "  21.967745 21.933405 21.903536 21.878086 21.857002 21.840235 21.827732\n",
            "  21.819445 21.815323 21.815321 21.819391 21.82749  21.83957  21.855587\n",
            "  21.8755   21.899265 21.926842 21.958189 21.993265 22.032032 22.074451\n",
            "  22.120483 22.170094 22.223242 22.279894 22.340015 22.403568 22.47052\n",
            "  22.540838 22.614487 22.691437 22.77165  22.855104 22.941757 23.031588\n",
            "  23.12456  23.220648 23.319818 23.422049]]\n",
            "[[23.830696 23.687689 23.550604 23.41936  23.293867 23.174046 23.059814\n",
            "  22.951094 22.847807 22.749878 22.657236 22.56981  22.487528 22.410322\n",
            "  22.338127 22.270876 22.208508 22.150957 22.098166 22.050072 22.00662\n",
            "  21.96775  21.933407 21.903538 21.878088 21.857004 21.840237 21.827732\n",
            "  21.819445 21.815323 21.815321 21.819391 21.82749  21.83957  21.855589\n",
            "  21.875502 21.89927  21.926846 21.958193 21.99327  22.032038 22.07446\n",
            "  22.120493 22.170103 22.223253 22.279907 22.340029 22.403584 22.47054\n",
            "  22.540857 22.614508 22.69146  22.771675 22.855131 22.941788 23.031618\n",
            "  23.124594 23.220684 23.319859 23.422089]]\n",
            "[[23.830688 23.687681 23.550596 23.419353 23.293863 23.17404  23.05981\n",
            "  22.95109  22.847803 22.749874 22.657234 22.569807 22.487526 22.41032\n",
            "  22.338125 22.270874 22.208506 22.150957 22.098166 22.050072 22.006618\n",
            "  21.96775  21.933407 21.903538 21.878088 21.857004 21.840237 21.827732\n",
            "  21.819445 21.815323 21.815321 21.819391 21.82749  21.83957  21.855589\n",
            "  21.875502 21.899267 21.926846 21.958193 21.99327  22.032038 22.074457\n",
            "  22.120491 22.170103 22.223253 22.279905 22.340029 22.403584 22.470537\n",
            "  22.540855 22.614508 22.691458 22.771673 22.855125 22.941784 23.031616\n",
            "  23.12459  23.22068  23.319855 23.422085]]\n",
            "[[23.83069  23.687681 23.550598 23.419353 23.293863 23.17404  23.05981\n",
            "  22.95109  22.847803 22.749876 22.657234 22.569807 22.487526 22.41032\n",
            "  22.338125 22.270874 22.208506 22.150957 22.098166 22.050072 22.006618\n",
            "  21.96775  21.933407 21.903538 21.878088 21.857004 21.840237 21.827732\n",
            "  21.819445 21.815323 21.815321 21.819391 21.82749  21.83957  21.855589\n",
            "  21.875502 21.899267 21.926846 21.958193 21.99327  22.032038 22.07446\n",
            "  22.120491 22.170101 22.223253 22.279905 22.340029 22.403584 22.470537\n",
            "  22.540855 22.614508 22.691458 22.771673 22.855127 22.941784 23.031616\n",
            "  23.12459  23.220682 23.319855 23.422085]]\n",
            "[[23.83069  23.687681 23.550598 23.419353 23.293863 23.174042 23.05981\n",
            "  22.95109  22.847803 22.749876 22.657234 22.569807 22.487526 22.41032\n",
            "  22.338125 22.270874 22.208506 22.150957 22.098166 22.050072 22.006618\n",
            "  21.96775  21.933407 21.903538 21.878088 21.857004 21.840237 21.827732\n",
            "  21.819445 21.815323 21.815321 21.819391 21.82749  21.83957  21.855589\n",
            "  21.875502 21.899267 21.926846 21.958193 21.99327  22.032038 22.074457\n",
            "  22.120491 22.170101 22.223253 22.279905 22.340029 22.403584 22.470537\n",
            "  22.540855 22.614508 22.691458 22.771673 22.855127 22.941784 23.031616\n",
            "  23.12459  23.220682 23.319855 23.422085]]\n",
            "[[23.83069  23.687681 23.550598 23.419353 23.293863 23.17404  23.05981\n",
            "  22.95109  22.847803 22.749876 22.657234 22.569807 22.487526 22.41032\n",
            "  22.338125 22.270874 22.208506 22.150957 22.098166 22.050072 22.006618\n",
            "  21.96775  21.933407 21.903538 21.878088 21.857004 21.840237 21.827732\n",
            "  21.819445 21.815323 21.815321 21.819391 21.82749  21.83957  21.855589\n",
            "  21.875502 21.899267 21.926846 21.958193 21.99327  22.032038 22.07446\n",
            "  22.120491 22.170101 22.223253 22.279905 22.340029 22.403584 22.470537\n",
            "  22.540855 22.614508 22.691458 22.771673 22.855127 22.941784 23.031616\n",
            "  23.12459  23.220682 23.319855 23.422085]]\n",
            "[[23.83069  23.687681 23.550598 23.419353 23.293863 23.174042 23.05981\n",
            "  22.95109  22.847803 22.749876 22.657234 22.569807 22.487526 22.41032\n",
            "  22.338125 22.270874 22.208506 22.150957 22.098166 22.050072 22.006618\n",
            "  21.96775  21.933407 21.903538 21.878088 21.857004 21.840237 21.827732\n",
            "  21.819445 21.815323 21.815321 21.819391 21.82749  21.83957  21.855589\n",
            "  21.875502 21.899267 21.926846 21.958193 21.99327  22.032038 22.074457\n",
            "  22.120491 22.170101 22.223253 22.279905 22.340029 22.403584 22.470537\n",
            "  22.540855 22.614508 22.691458 22.771673 22.855127 22.941784 23.031616\n",
            "  23.12459  23.220682 23.319855 23.422085]]\n",
            "[[23.83069  23.687681 23.550598 23.419353 23.293863 23.17404  23.05981\n",
            "  22.95109  22.847803 22.749876 22.657234 22.569807 22.487526 22.41032\n",
            "  22.338125 22.270874 22.208506 22.150957 22.098166 22.050072 22.006618\n",
            "  21.96775  21.933407 21.903538 21.878088 21.857004 21.840237 21.827732\n",
            "  21.819445 21.815323 21.815321 21.819391 21.82749  21.83957  21.855589\n",
            "  21.875502 21.899267 21.926846 21.958193 21.99327  22.032038 22.07446\n",
            "  22.120491 22.170101 22.223253 22.279905 22.340029 22.403584 22.470537\n",
            "  22.540855 22.614508 22.691458 22.771673 22.855127 22.941784 23.031616\n",
            "  23.12459  23.220682 23.319855 23.422085]]\n",
            "[[23.83069  23.687681 23.550598 23.419353 23.293863 23.174042 23.05981\n",
            "  22.95109  22.847803 22.749876 22.657234 22.569807 22.487526 22.41032\n",
            "  22.338125 22.270874 22.208506 22.150957 22.098166 22.050072 22.006618\n",
            "  21.96775  21.933407 21.903538 21.878088 21.857004 21.840237 21.827732\n",
            "  21.819445 21.815323 21.815321 21.819391 21.82749  21.83957  21.855589\n",
            "  21.875502 21.899267 21.926846 21.958193 21.99327  22.032038 22.074457\n",
            "  22.120491 22.170101 22.223253 22.279905 22.340029 22.403584 22.470537\n",
            "  22.540855 22.614508 22.691458 22.771673 22.855127 22.941784 23.031616\n",
            "  23.12459  23.220682 23.319855 23.422085]]\n",
            "[[23.83069  23.687681 23.550598 23.419353 23.293863 23.17404  23.05981\n",
            "  22.95109  22.847803 22.749876 22.657234 22.569807 22.487526 22.41032\n",
            "  22.338125 22.270874 22.208506 22.150957 22.098166 22.050072 22.006618\n",
            "  21.96775  21.933407 21.903538 21.878088 21.857004 21.840237 21.827732\n",
            "  21.819445 21.815323 21.815321 21.819391 21.82749  21.83957  21.855589\n",
            "  21.875502 21.899267 21.926846 21.958193 21.99327  22.032038 22.07446\n",
            "  22.120491 22.170101 22.223253 22.279905 22.340029 22.403584 22.470537\n",
            "  22.540855 22.614508 22.691458 22.771673 22.855127 22.941784 23.031616\n",
            "  23.12459  23.220682 23.319855 23.422085]]\n",
            "[[23.83069  23.687681 23.550598 23.419353 23.293863 23.174042 23.05981\n",
            "  22.95109  22.847803 22.749876 22.657234 22.569807 22.487526 22.41032\n",
            "  22.338125 22.270874 22.208506 22.150957 22.098166 22.050072 22.006618\n",
            "  21.96775  21.933407 21.903538 21.878088 21.857004 21.840237 21.827732\n",
            "  21.819445 21.815323 21.815321 21.819391 21.82749  21.83957  21.855589\n",
            "  21.875502 21.899267 21.926846 21.958193 21.99327  22.032038 22.074457\n",
            "  22.120491 22.170101 22.223253 22.279905 22.340029 22.403584 22.470537\n",
            "  22.540855 22.614508 22.691458 22.771673 22.855127 22.941784 23.031616\n",
            "  23.12459  23.220682 23.319855 23.422085]]\n"
          ],
          "name": "stdout"
        },
        {
          "output_type": "stream",
          "text": [
            "[[23.83069  23.687681 23.550598 23.419353 23.293863 23.17404  23.05981\n",
            "  22.95109  22.847803 22.749876 22.657234 22.569807 22.487526 22.41032\n",
            "  22.338125 22.270874 22.208506 22.150957 22.098166 22.050072 22.006618\n",
            "  21.96775  21.933407 21.903538 21.878088 21.857004 21.840237 21.827732\n",
            "  21.819445 21.815323 21.815321 21.819391 21.82749  21.83957  21.855589\n",
            "  21.875502 21.899267 21.926846 21.958193 21.99327  22.032038 22.07446\n",
            "  22.120491 22.170101 22.223253 22.279905 22.340029 22.403584 22.470537\n",
            "  22.540855 22.614508 22.691458 22.771673 22.855127 22.941784 23.031616\n",
            "  23.12459  23.220682 23.319855 23.422085]]\n",
            "[[23.83069  23.687681 23.550598 23.419353 23.293863 23.174042 23.05981\n",
            "  22.95109  22.847803 22.749876 22.657234 22.569807 22.487526 22.41032\n",
            "  22.338125 22.270874 22.208506 22.150957 22.098166 22.050072 22.006618\n",
            "  21.96775  21.933407 21.903538 21.878088 21.857004 21.840237 21.827732\n",
            "  21.819445 21.815323 21.815321 21.819391 21.82749  21.83957  21.855589\n",
            "  21.875502 21.899267 21.926846 21.958193 21.99327  22.032038 22.074457\n",
            "  22.120491 22.170101 22.223253 22.279905 22.340029 22.403584 22.470537\n",
            "  22.540855 22.614508 22.691458 22.771673 22.855127 22.941784 23.031616\n",
            "  23.12459  23.220682 23.319855 23.422085]]\n",
            "[[23.83069  23.687681 23.550598 23.419353 23.293863 23.17404  23.05981\n",
            "  22.95109  22.847803 22.749876 22.657234 22.569807 22.487526 22.41032\n",
            "  22.338125 22.270874 22.208506 22.150957 22.098166 22.050072 22.006618\n",
            "  21.96775  21.933407 21.903538 21.878088 21.857004 21.840237 21.827732\n",
            "  21.819445 21.815323 21.815321 21.819391 21.82749  21.83957  21.855589\n",
            "  21.875502 21.899267 21.926846 21.958193 21.99327  22.032038 22.07446\n",
            "  22.120491 22.170101 22.223253 22.279905 22.340029 22.403584 22.470537\n",
            "  22.540855 22.614508 22.691458 22.771673 22.855127 22.941784 23.031616\n",
            "  23.12459  23.220682 23.319855 23.422085]]\n",
            "[[23.83069  23.687681 23.550598 23.419353 23.293863 23.174042 23.05981\n",
            "  22.95109  22.847803 22.749876 22.657234 22.569807 22.487526 22.41032\n",
            "  22.338125 22.270874 22.208506 22.150957 22.098166 22.050072 22.006618\n",
            "  21.96775  21.933407 21.903538 21.878088 21.857004 21.840237 21.827732\n",
            "  21.819445 21.815323 21.815321 21.819391 21.82749  21.83957  21.855589\n",
            "  21.875502 21.899267 21.926846 21.958193 21.99327  22.032038 22.074457\n",
            "  22.120491 22.170101 22.223253 22.279905 22.340029 22.403584 22.470537\n",
            "  22.540855 22.614508 22.691458 22.771673 22.855127 22.941784 23.031616\n",
            "  23.12459  23.220682 23.319855 23.422085]]\n",
            "[[23.83069  23.687681 23.550598 23.419353 23.293863 23.17404  23.05981\n",
            "  22.95109  22.847803 22.749876 22.657234 22.569807 22.487526 22.41032\n",
            "  22.338125 22.270874 22.208506 22.150957 22.098166 22.050072 22.006618\n",
            "  21.96775  21.933407 21.903538 21.878088 21.857004 21.840237 21.827732\n",
            "  21.819445 21.815323 21.815321 21.819391 21.82749  21.83957  21.855589\n",
            "  21.875502 21.899267 21.926846 21.958193 21.99327  22.032038 22.07446\n",
            "  22.120491 22.170101 22.223253 22.279905 22.340029 22.403584 22.470537\n",
            "  22.540855 22.614508 22.691458 22.771673 22.855127 22.941784 23.031616\n",
            "  23.12459  23.220682 23.319855 23.422085]]\n",
            "[[23.83069  23.687681 23.550598 23.419353 23.293863 23.174042 23.05981\n",
            "  22.95109  22.847803 22.749876 22.657234 22.569807 22.487526 22.41032\n",
            "  22.338125 22.270874 22.208506 22.150957 22.098166 22.050072 22.006618\n",
            "  21.96775  21.933407 21.903538 21.878088 21.857004 21.840237 21.827732\n",
            "  21.819445 21.815323 21.815321 21.819391 21.82749  21.83957  21.855589\n",
            "  21.875502 21.899267 21.926846 21.958193 21.99327  22.032038 22.074457\n",
            "  22.120491 22.170101 22.223253 22.279905 22.340029 22.403584 22.470537\n",
            "  22.540855 22.614508 22.691458 22.771673 22.855127 22.941784 23.031616\n",
            "  23.12459  23.220682 23.319855 23.422085]]\n",
            "[[23.83069  23.687681 23.550598 23.419353 23.293863 23.17404  23.05981\n",
            "  22.95109  22.847803 22.749876 22.657234 22.569807 22.487526 22.41032\n",
            "  22.338125 22.270874 22.208506 22.150957 22.098166 22.050072 22.006618\n",
            "  21.96775  21.933407 21.903538 21.878088 21.857004 21.840237 21.827732\n",
            "  21.819445 21.815323 21.815321 21.819391 21.82749  21.83957  21.855589\n",
            "  21.875502 21.899267 21.926846 21.958193 21.99327  22.032038 22.07446\n",
            "  22.120491 22.170101 22.223253 22.279905 22.340029 22.403584 22.470537\n",
            "  22.540855 22.614508 22.691458 22.771673 22.855127 22.941784 23.031616\n",
            "  23.12459  23.220682 23.319855 23.422085]]\n",
            "[[23.83069  23.687681 23.550598 23.419353 23.293863 23.174042 23.05981\n",
            "  22.95109  22.847803 22.749876 22.657234 22.569807 22.487526 22.41032\n",
            "  22.338125 22.270874 22.208506 22.150957 22.098166 22.050072 22.006618\n",
            "  21.96775  21.933407 21.903538 21.878088 21.857004 21.840237 21.827732\n",
            "  21.819445 21.815323 21.815321 21.819391 21.82749  21.83957  21.855589\n",
            "  21.875502 21.899267 21.926846 21.958193 21.99327  22.032038 22.074457\n",
            "  22.120491 22.170101 22.223253 22.279905 22.340029 22.403584 22.470537\n",
            "  22.540855 22.614508 22.691458 22.771673 22.855127 22.941784 23.031616\n",
            "  23.12459  23.220682 23.319855 23.422085]]\n",
            "[[23.83069  23.687681 23.550598 23.419353 23.293863 23.17404  23.05981\n",
            "  22.95109  22.847803 22.749876 22.657234 22.569807 22.487526 22.41032\n",
            "  22.338125 22.270874 22.208506 22.150957 22.098166 22.050072 22.006618\n",
            "  21.96775  21.933407 21.903538 21.878088 21.857004 21.840237 21.827732\n",
            "  21.819445 21.815323 21.815321 21.819391 21.82749  21.83957  21.855589\n",
            "  21.875502 21.899267 21.926846 21.958193 21.99327  22.032038 22.07446\n",
            "  22.120491 22.170101 22.223253 22.279905 22.340029 22.403584 22.470537\n",
            "  22.540855 22.614508 22.691458 22.771673 22.855127 22.941784 23.031616\n",
            "  23.12459  23.220682 23.319855 23.422085]]\n",
            "[[23.83069  23.687681 23.550598 23.419353 23.293863 23.174042 23.05981\n",
            "  22.95109  22.847803 22.749876 22.657234 22.569807 22.487526 22.41032\n",
            "  22.338125 22.270874 22.208506 22.150957 22.098166 22.050072 22.006618\n",
            "  21.96775  21.933407 21.903538 21.878088 21.857004 21.840237 21.827732\n",
            "  21.819445 21.815323 21.815321 21.819391 21.82749  21.83957  21.855589\n",
            "  21.875502 21.899267 21.926846 21.958193 21.99327  22.032038 22.074457\n",
            "  22.120491 22.170101 22.223253 22.279905 22.340029 22.403584 22.470537\n",
            "  22.540855 22.614508 22.691458 22.771673 22.855127 22.941784 23.031616\n",
            "  23.12459  23.220682 23.319855 23.422085]]\n",
            "[[23.83069  23.687681 23.550598 23.419353 23.293863 23.17404  23.05981\n",
            "  22.95109  22.847803 22.749876 22.657234 22.569807 22.487526 22.41032\n",
            "  22.338125 22.270874 22.208506 22.150957 22.098166 22.050072 22.006618\n",
            "  21.96775  21.933407 21.903538 21.878088 21.857004 21.840237 21.827732\n",
            "  21.819445 21.815323 21.815321 21.819391 21.82749  21.83957  21.855589\n",
            "  21.875502 21.899267 21.926846 21.958193 21.99327  22.032038 22.07446\n",
            "  22.120491 22.170101 22.223253 22.279905 22.340029 22.403584 22.470537\n",
            "  22.540855 22.614508 22.691458 22.771673 22.855127 22.941784 23.031616\n",
            "  23.12459  23.220682 23.319855 23.422085]]\n",
            "[[23.83069  23.687681 23.550598 23.419353 23.293863 23.174042 23.05981\n",
            "  22.95109  22.847803 22.749876 22.657234 22.569807 22.487526 22.41032\n",
            "  22.338125 22.270874 22.208506 22.150957 22.098166 22.050072 22.006618\n",
            "  21.96775  21.933407 21.903538 21.878088 21.857004 21.840237 21.827732\n",
            "  21.819445 21.815323 21.815321 21.819391 21.82749  21.83957  21.855589\n",
            "  21.875502 21.899267 21.926846 21.958193 21.99327  22.032038 22.074457\n",
            "  22.120491 22.170101 22.223253 22.279905 22.340029 22.403584 22.470537\n",
            "  22.540855 22.614508 22.691458 22.771673 22.855127 22.941784 23.031616\n",
            "  23.12459  23.220682 23.319855 23.422085]]\n",
            "[[23.83069  23.687681 23.550598 23.419353 23.293863 23.17404  23.05981\n",
            "  22.95109  22.847803 22.749876 22.657234 22.569807 22.487526 22.41032\n",
            "  22.338125 22.270874 22.208506 22.150957 22.098166 22.050072 22.006618\n",
            "  21.96775  21.933407 21.903538 21.878088 21.857004 21.840237 21.827732\n",
            "  21.819445 21.815323 21.815321 21.819391 21.82749  21.83957  21.855589\n",
            "  21.875502 21.899267 21.926846 21.958193 21.99327  22.032038 22.07446\n",
            "  22.120491 22.170101 22.223253 22.279905 22.340029 22.403584 22.470537\n",
            "  22.540855 22.614508 22.691458 22.771673 22.855127 22.941784 23.031616\n",
            "  23.12459  23.220682 23.319855 23.422085]]\n",
            "[[23.83069  23.687681 23.550598 23.419353 23.293863 23.174042 23.05981\n",
            "  22.95109  22.847803 22.749876 22.657234 22.569807 22.487526 22.41032\n",
            "  22.338125 22.270874 22.208506 22.150957 22.098166 22.050072 22.006618\n",
            "  21.96775  21.933407 21.903538 21.878088 21.857004 21.840237 21.827732\n",
            "  21.819445 21.815323 21.815321 21.819391 21.82749  21.83957  21.855589\n",
            "  21.875502 21.899267 21.926846 21.958193 21.99327  22.032038 22.074457\n",
            "  22.120491 22.170101 22.223253 22.279905 22.340029 22.403584 22.470537\n",
            "  22.540855 22.614508 22.691458 22.771673 22.855127 22.941784 23.031616\n",
            "  23.12459  23.220682 23.319855 23.422085]]\n",
            "[[23.83069  23.687681 23.550598 23.419353 23.293863 23.17404  23.05981\n",
            "  22.95109  22.847803 22.749876 22.657234 22.569807 22.487526 22.41032\n",
            "  22.338125 22.270874 22.208506 22.150957 22.098166 22.050072 22.006618\n",
            "  21.96775  21.933407 21.903538 21.878088 21.857004 21.840237 21.827732\n",
            "  21.819445 21.815323 21.815321 21.819391 21.82749  21.83957  21.855589\n",
            "  21.875502 21.899267 21.926846 21.958193 21.99327  22.032038 22.07446\n",
            "  22.120491 22.170101 22.223253 22.279905 22.340029 22.403584 22.470537\n",
            "  22.540855 22.614508 22.691458 22.771673 22.855127 22.941784 23.031616\n",
            "  23.12459  23.220682 23.319855 23.422085]]\n",
            "[[23.83069  23.687681 23.550598 23.419353 23.293863 23.174042 23.05981\n",
            "  22.95109  22.847803 22.749876 22.657234 22.569807 22.487526 22.41032\n",
            "  22.338125 22.270874 22.208506 22.150957 22.098166 22.050072 22.006618\n",
            "  21.96775  21.933407 21.903538 21.878088 21.857004 21.840237 21.827732\n",
            "  21.819445 21.815323 21.815321 21.819391 21.82749  21.83957  21.855589\n",
            "  21.875502 21.899267 21.926846 21.958193 21.99327  22.032038 22.074457\n",
            "  22.120491 22.170101 22.223253 22.279905 22.340029 22.403584 22.470537\n",
            "  22.540855 22.614508 22.691458 22.771673 22.855127 22.941784 23.031616\n",
            "  23.12459  23.220682 23.319855 23.422085]]\n",
            "[[23.83069  23.687681 23.550598 23.419353 23.293863 23.17404  23.05981\n",
            "  22.95109  22.847803 22.749876 22.657234 22.569807 22.487526 22.41032\n",
            "  22.338125 22.270874 22.208506 22.150957 22.098166 22.050072 22.006618\n",
            "  21.96775  21.933407 21.903538 21.878088 21.857004 21.840237 21.827732\n",
            "  21.819445 21.815323 21.815321 21.819391 21.82749  21.83957  21.855589\n",
            "  21.875502 21.899267 21.926846 21.958193 21.99327  22.032038 22.07446\n",
            "  22.120491 22.170101 22.223253 22.279905 22.340029 22.403584 22.470537\n",
            "  22.540855 22.614508 22.691458 22.771673 22.855127 22.941784 23.031616\n",
            "  23.12459  23.220682 23.319855 23.422085]]\n",
            "[[23.83069  23.687681 23.550598 23.419353 23.293863 23.174042 23.05981\n",
            "  22.95109  22.847803 22.749876 22.657234 22.569807 22.487526 22.41032\n",
            "  22.338125 22.270874 22.208506 22.150957 22.098166 22.050072 22.006618\n",
            "  21.96775  21.933407 21.903538 21.878088 21.857004 21.840237 21.827732\n",
            "  21.819445 21.815323 21.815321 21.819391 21.82749  21.83957  21.855589\n",
            "  21.875502 21.899267 21.926846 21.958193 21.99327  22.032038 22.074457\n",
            "  22.120491 22.170101 22.223253 22.279905 22.340029 22.403584 22.470537\n",
            "  22.540855 22.614508 22.691458 22.771673 22.855127 22.941784 23.031616\n",
            "  23.12459  23.220682 23.319855 23.422085]]\n",
            "[[23.83069  23.687681 23.550598 23.419353 23.293863 23.17404  23.05981\n",
            "  22.95109  22.847803 22.749876 22.657234 22.569807 22.487526 22.41032\n",
            "  22.338125 22.270874 22.208506 22.150957 22.098166 22.050072 22.006618\n",
            "  21.96775  21.933407 21.903538 21.878088 21.857004 21.840237 21.827732\n",
            "  21.819445 21.815323 21.815321 21.819391 21.82749  21.83957  21.855589\n",
            "  21.875502 21.899267 21.926846 21.958193 21.99327  22.032038 22.07446\n",
            "  22.120491 22.170101 22.223253 22.279905 22.340029 22.403584 22.470537\n",
            "  22.540855 22.614508 22.691458 22.771673 22.855127 22.941784 23.031616\n",
            "  23.12459  23.220682 23.319855 23.422085]]\n"
          ],
          "name": "stdout"
        },
        {
          "output_type": "stream",
          "text": [
            "[[23.83069  23.687681 23.550598 23.419353 23.293863 23.174042 23.05981\n",
            "  22.95109  22.847803 22.749876 22.657234 22.569807 22.487526 22.41032\n",
            "  22.338125 22.270874 22.208506 22.150957 22.098166 22.050072 22.006618\n",
            "  21.96775  21.933407 21.903538 21.878088 21.857004 21.840237 21.827732\n",
            "  21.819445 21.815323 21.815321 21.819391 21.82749  21.83957  21.855589\n",
            "  21.875502 21.899267 21.926846 21.958193 21.99327  22.032038 22.074457\n",
            "  22.120491 22.170101 22.223253 22.279905 22.340029 22.403584 22.470537\n",
            "  22.540855 22.614508 22.691458 22.771673 22.855127 22.941784 23.031616\n",
            "  23.12459  23.220682 23.319855 23.422085]]\n",
            "[[23.83069  23.687681 23.550598 23.419353 23.293863 23.17404  23.05981\n",
            "  22.95109  22.847803 22.749876 22.657234 22.569807 22.487526 22.41032\n",
            "  22.338125 22.270874 22.208506 22.150957 22.098166 22.050072 22.006618\n",
            "  21.96775  21.933407 21.903538 21.878088 21.857004 21.840237 21.827732\n",
            "  21.819445 21.815323 21.815321 21.819391 21.82749  21.83957  21.855589\n",
            "  21.875502 21.899267 21.926846 21.958193 21.99327  22.032038 22.07446\n",
            "  22.120491 22.170101 22.223253 22.279905 22.340029 22.403584 22.470537\n",
            "  22.540855 22.614508 22.691458 22.771673 22.855127 22.941784 23.031616\n",
            "  23.12459  23.220682 23.319855 23.422085]]\n",
            "[[23.83069  23.687681 23.550598 23.419353 23.293863 23.174042 23.05981\n",
            "  22.95109  22.847803 22.749876 22.657234 22.569807 22.487526 22.41032\n",
            "  22.338125 22.270874 22.208506 22.150957 22.098166 22.050072 22.006618\n",
            "  21.96775  21.933407 21.903538 21.878088 21.857004 21.840237 21.827732\n",
            "  21.819445 21.815323 21.815321 21.819391 21.82749  21.83957  21.855589\n",
            "  21.875502 21.899267 21.926846 21.958193 21.99327  22.032038 22.074457\n",
            "  22.120491 22.170101 22.223253 22.279905 22.340029 22.403584 22.470537\n",
            "  22.540855 22.614508 22.691458 22.771673 22.855127 22.941784 23.031616\n",
            "  23.12459  23.220682 23.319855 23.422085]]\n",
            "[[23.83069  23.687681 23.550598 23.419353 23.293863 23.17404  23.05981\n",
            "  22.95109  22.847803 22.749876 22.657234 22.569807 22.487526 22.41032\n",
            "  22.338125 22.270874 22.208506 22.150957 22.098166 22.050072 22.006618\n",
            "  21.96775  21.933407 21.903538 21.878088 21.857004 21.840237 21.827732\n",
            "  21.819445 21.815323 21.815321 21.819391 21.82749  21.83957  21.855589\n",
            "  21.875502 21.899267 21.926846 21.958193 21.99327  22.032038 22.07446\n",
            "  22.120491 22.170101 22.223253 22.279905 22.340029 22.403584 22.470537\n",
            "  22.540855 22.614508 22.691458 22.771673 22.855127 22.941784 23.031616\n",
            "  23.12459  23.220682 23.319855 23.422085]]\n",
            "[[23.83069  23.687681 23.550598 23.419353 23.293863 23.174042 23.05981\n",
            "  22.95109  22.847803 22.749876 22.657234 22.569807 22.487526 22.41032\n",
            "  22.338125 22.270874 22.208506 22.150957 22.098166 22.050072 22.006618\n",
            "  21.96775  21.933407 21.903538 21.878088 21.857004 21.840237 21.827732\n",
            "  21.819445 21.815323 21.815321 21.819391 21.82749  21.83957  21.855589\n",
            "  21.875502 21.899267 21.926846 21.958193 21.99327  22.032038 22.074457\n",
            "  22.120491 22.170101 22.223253 22.279905 22.340029 22.403584 22.470537\n",
            "  22.540855 22.614508 22.691458 22.771673 22.855127 22.941784 23.031616\n",
            "  23.12459  23.220682 23.319855 23.422085]]\n",
            "[[23.83069  23.687681 23.550598 23.419353 23.293863 23.17404  23.05981\n",
            "  22.95109  22.847803 22.749876 22.657234 22.569807 22.487526 22.41032\n",
            "  22.338125 22.270874 22.208506 22.150957 22.098166 22.050072 22.006618\n",
            "  21.96775  21.933407 21.903538 21.878088 21.857004 21.840237 21.827732\n",
            "  21.819445 21.815323 21.815321 21.819391 21.82749  21.83957  21.855589\n",
            "  21.875502 21.899267 21.926846 21.958193 21.99327  22.032038 22.07446\n",
            "  22.120491 22.170101 22.223253 22.279905 22.340029 22.403584 22.470537\n",
            "  22.540855 22.614508 22.691458 22.771673 22.855127 22.941784 23.031616\n",
            "  23.12459  23.220682 23.319855 23.422085]]\n",
            "[[23.83069  23.687681 23.550598 23.419353 23.293863 23.174042 23.05981\n",
            "  22.95109  22.847803 22.749876 22.657234 22.569807 22.487526 22.41032\n",
            "  22.338125 22.270874 22.208506 22.150957 22.098166 22.050072 22.006618\n",
            "  21.96775  21.933407 21.903538 21.878088 21.857004 21.840237 21.827732\n",
            "  21.819445 21.815323 21.815321 21.819391 21.82749  21.83957  21.855589\n",
            "  21.875502 21.899267 21.926846 21.958193 21.99327  22.032038 22.074457\n",
            "  22.120491 22.170101 22.223253 22.279905 22.340029 22.403584 22.470537\n",
            "  22.540855 22.614508 22.691458 22.771673 22.855127 22.941784 23.031616\n",
            "  23.12459  23.220682 23.319855 23.422085]]\n",
            "[[23.83069  23.687681 23.550598 23.419353 23.293863 23.17404  23.05981\n",
            "  22.95109  22.847803 22.749876 22.657234 22.569807 22.487526 22.41032\n",
            "  22.338125 22.270874 22.208506 22.150957 22.098166 22.050072 22.006618\n",
            "  21.96775  21.933407 21.903538 21.878088 21.857004 21.840237 21.827732\n",
            "  21.819445 21.815323 21.815321 21.819391 21.82749  21.83957  21.855589\n",
            "  21.875502 21.899267 21.926846 21.958193 21.99327  22.032038 22.07446\n",
            "  22.120491 22.170101 22.223253 22.279905 22.340029 22.403584 22.470537\n",
            "  22.540855 22.614508 22.691458 22.771673 22.855127 22.941784 23.031616\n",
            "  23.12459  23.220682 23.319855 23.422085]]\n",
            "[[23.83069  23.687681 23.550598 23.419353 23.293863 23.174042 23.05981\n",
            "  22.95109  22.847803 22.749876 22.657234 22.569807 22.487526 22.41032\n",
            "  22.338125 22.270874 22.208506 22.150957 22.098166 22.050072 22.006618\n",
            "  21.96775  21.933407 21.903538 21.878088 21.857004 21.840237 21.827732\n",
            "  21.819445 21.815323 21.815321 21.819391 21.82749  21.83957  21.855589\n",
            "  21.875502 21.899267 21.926846 21.958193 21.99327  22.032038 22.074457\n",
            "  22.120491 22.170101 22.223253 22.279905 22.340029 22.403584 22.470537\n",
            "  22.540855 22.614508 22.691458 22.771673 22.855127 22.941784 23.031616\n",
            "  23.12459  23.220682 23.319855 23.422085]]\n",
            "[[23.83069  23.687681 23.550598 23.419353 23.293863 23.17404  23.05981\n",
            "  22.95109  22.847803 22.749876 22.657234 22.569807 22.487526 22.41032\n",
            "  22.338125 22.270874 22.208506 22.150957 22.098166 22.050072 22.006618\n",
            "  21.96775  21.933407 21.903538 21.878088 21.857004 21.840237 21.827732\n",
            "  21.819445 21.815323 21.815321 21.819391 21.82749  21.83957  21.855589\n",
            "  21.875502 21.899267 21.926846 21.958193 21.99327  22.032038 22.07446\n",
            "  22.120491 22.170101 22.223253 22.279905 22.340029 22.403584 22.470537\n",
            "  22.540855 22.614508 22.691458 22.771673 22.855127 22.941784 23.031616\n",
            "  23.12459  23.220682 23.319855 23.422085]]\n",
            "[[23.83069  23.687681 23.550598 23.419353 23.293863 23.174042 23.05981\n",
            "  22.95109  22.847803 22.749876 22.657234 22.569807 22.487526 22.41032\n",
            "  22.338125 22.270874 22.208506 22.150957 22.098166 22.050072 22.006618\n",
            "  21.96775  21.933407 21.903538 21.878088 21.857004 21.840237 21.827732\n",
            "  21.819445 21.815323 21.815321 21.819391 21.82749  21.83957  21.855589\n",
            "  21.875502 21.899267 21.926846 21.958193 21.99327  22.032038 22.074457\n",
            "  22.120491 22.170101 22.223253 22.279905 22.340029 22.403584 22.470537\n",
            "  22.540855 22.614508 22.691458 22.771673 22.855127 22.941784 23.031616\n",
            "  23.12459  23.220682 23.319855 23.422085]]\n",
            "[[23.83069  23.687681 23.550598 23.419353 23.293863 23.17404  23.05981\n",
            "  22.95109  22.847803 22.749876 22.657234 22.569807 22.487526 22.41032\n",
            "  22.338125 22.270874 22.208506 22.150957 22.098166 22.050072 22.006618\n",
            "  21.96775  21.933407 21.903538 21.878088 21.857004 21.840237 21.827732\n",
            "  21.819445 21.815323 21.815321 21.819391 21.82749  21.83957  21.855589\n",
            "  21.875502 21.899267 21.926846 21.958193 21.99327  22.032038 22.07446\n",
            "  22.120491 22.170101 22.223253 22.279905 22.340029 22.403584 22.470537\n",
            "  22.540855 22.614508 22.691458 22.771673 22.855127 22.941784 23.031616\n",
            "  23.12459  23.220682 23.319855 23.422085]]\n",
            "[[23.83069  23.687681 23.550598 23.419353 23.293863 23.174042 23.05981\n",
            "  22.95109  22.847803 22.749876 22.657234 22.569807 22.487526 22.41032\n",
            "  22.338125 22.270874 22.208506 22.150957 22.098166 22.050072 22.006618\n",
            "  21.96775  21.933407 21.903538 21.878088 21.857004 21.840237 21.827732\n",
            "  21.819445 21.815323 21.815321 21.819391 21.82749  21.83957  21.855589\n",
            "  21.875502 21.899267 21.926846 21.958193 21.99327  22.032038 22.074457\n",
            "  22.120491 22.170101 22.223253 22.279905 22.340029 22.403584 22.470537\n",
            "  22.540855 22.614508 22.691458 22.771673 22.855127 22.941784 23.031616\n",
            "  23.12459  23.220682 23.319855 23.422085]]\n",
            "[[23.83069  23.687681 23.550598 23.419353 23.293863 23.17404  23.05981\n",
            "  22.95109  22.847803 22.749876 22.657234 22.569807 22.487526 22.41032\n",
            "  22.338125 22.270874 22.208506 22.150957 22.098166 22.050072 22.006618\n",
            "  21.96775  21.933407 21.903538 21.878088 21.857004 21.840237 21.827732\n",
            "  21.819445 21.815323 21.815321 21.819391 21.82749  21.83957  21.855589\n",
            "  21.875502 21.899267 21.926846 21.958193 21.99327  22.032038 22.07446\n",
            "  22.120491 22.170101 22.223253 22.279905 22.340029 22.403584 22.470537\n",
            "  22.540855 22.614508 22.691458 22.771673 22.855127 22.941784 23.031616\n",
            "  23.12459  23.220682 23.319855 23.422085]]\n",
            "[[23.83069  23.687681 23.550598 23.419353 23.293863 23.174042 23.05981\n",
            "  22.95109  22.847803 22.749876 22.657234 22.569807 22.487526 22.41032\n",
            "  22.338125 22.270874 22.208506 22.150957 22.098166 22.050072 22.006618\n",
            "  21.96775  21.933407 21.903538 21.878088 21.857004 21.840237 21.827732\n",
            "  21.819445 21.815323 21.815321 21.819391 21.82749  21.83957  21.855589\n",
            "  21.875502 21.899267 21.926846 21.958193 21.99327  22.032038 22.074457\n",
            "  22.120491 22.170101 22.223253 22.279905 22.340029 22.403584 22.470537\n",
            "  22.540855 22.614508 22.691458 22.771673 22.855127 22.941784 23.031616\n",
            "  23.12459  23.220682 23.319855 23.422085]]\n"
          ],
          "name": "stdout"
        },
        {
          "output_type": "stream",
          "text": [
            "[[23.83069  23.687681 23.550598 23.419353 23.293863 23.17404  23.05981\n",
            "  22.95109  22.847803 22.749876 22.657234 22.569807 22.487526 22.41032\n",
            "  22.338125 22.270874 22.208506 22.150957 22.098166 22.050072 22.006618\n",
            "  21.96775  21.933407 21.903538 21.878088 21.857004 21.840237 21.827732\n",
            "  21.819445 21.815323 21.815321 21.819391 21.82749  21.83957  21.855589\n",
            "  21.875502 21.899267 21.926846 21.958193 21.99327  22.032038 22.07446\n",
            "  22.120491 22.170101 22.223253 22.279905 22.340029 22.403584 22.470537\n",
            "  22.540855 22.614508 22.691458 22.771673 22.855127 22.941784 23.031616\n",
            "  23.12459  23.220682 23.319855 23.422085]]\n",
            "[[23.83069  23.687681 23.550598 23.419353 23.293863 23.174042 23.05981\n",
            "  22.95109  22.847803 22.749876 22.657234 22.569807 22.487526 22.41032\n",
            "  22.338125 22.270874 22.208506 22.150957 22.098166 22.050072 22.006618\n",
            "  21.96775  21.933407 21.903538 21.878088 21.857004 21.840237 21.827732\n",
            "  21.819445 21.815323 21.815321 21.819391 21.82749  21.83957  21.855589\n",
            "  21.875502 21.899267 21.926846 21.958193 21.99327  22.032038 22.074457\n",
            "  22.120491 22.170101 22.223253 22.279905 22.340029 22.403584 22.470537\n",
            "  22.540855 22.614508 22.691458 22.771673 22.855127 22.941784 23.031616\n",
            "  23.12459  23.220682 23.319855 23.422085]]\n",
            "[[23.83069  23.687681 23.550598 23.419353 23.293863 23.17404  23.05981\n",
            "  22.95109  22.847803 22.749876 22.657234 22.569807 22.487526 22.41032\n",
            "  22.338125 22.270874 22.208506 22.150957 22.098166 22.050072 22.006618\n",
            "  21.96775  21.933407 21.903538 21.878088 21.857004 21.840237 21.827732\n",
            "  21.819445 21.815323 21.815321 21.819391 21.82749  21.83957  21.855589\n",
            "  21.875502 21.899267 21.926846 21.958193 21.99327  22.032038 22.07446\n",
            "  22.120491 22.170101 22.223253 22.279905 22.340029 22.403584 22.470537\n",
            "  22.540855 22.614508 22.691458 22.771673 22.855127 22.941784 23.031616\n",
            "  23.12459  23.220682 23.319855 23.422085]]\n",
            "[[23.83069  23.687681 23.550598 23.419353 23.293863 23.174042 23.05981\n",
            "  22.95109  22.847803 22.749876 22.657234 22.569807 22.487526 22.41032\n",
            "  22.338125 22.270874 22.208506 22.150957 22.098166 22.050072 22.006618\n",
            "  21.96775  21.933407 21.903538 21.878088 21.857004 21.840237 21.827732\n",
            "  21.819445 21.815323 21.815321 21.819391 21.82749  21.83957  21.855589\n",
            "  21.875502 21.899267 21.926846 21.958193 21.99327  22.032038 22.074457\n",
            "  22.120491 22.170101 22.223253 22.279905 22.340029 22.403584 22.470537\n",
            "  22.540855 22.614508 22.691458 22.771673 22.855127 22.941784 23.031616\n",
            "  23.12459  23.220682 23.319855 23.422085]]\n",
            "[[23.83069  23.687681 23.550598 23.419353 23.293863 23.17404  23.05981\n",
            "  22.95109  22.847803 22.749876 22.657234 22.569807 22.487526 22.41032\n",
            "  22.338125 22.270874 22.208506 22.150957 22.098166 22.050072 22.006618\n",
            "  21.96775  21.933407 21.903538 21.878088 21.857004 21.840237 21.827732\n",
            "  21.819445 21.815323 21.815321 21.819391 21.82749  21.83957  21.855589\n",
            "  21.875502 21.899267 21.926846 21.958193 21.99327  22.032038 22.07446\n",
            "  22.120491 22.170101 22.223253 22.279905 22.340029 22.403584 22.470537\n",
            "  22.540855 22.614508 22.691458 22.771673 22.855127 22.941784 23.031616\n",
            "  23.12459  23.220682 23.319855 23.422085]]\n",
            "[[23.83069  23.687681 23.550598 23.419353 23.293863 23.174042 23.05981\n",
            "  22.95109  22.847803 22.749876 22.657234 22.569807 22.487526 22.41032\n",
            "  22.338125 22.270874 22.208506 22.150957 22.098166 22.050072 22.006618\n",
            "  21.96775  21.933407 21.903538 21.878088 21.857004 21.840237 21.827732\n",
            "  21.819445 21.815323 21.815321 21.819391 21.82749  21.83957  21.855589\n",
            "  21.875502 21.899267 21.926846 21.958193 21.99327  22.032038 22.074457\n",
            "  22.120491 22.170101 22.223253 22.279905 22.340029 22.403584 22.470537\n",
            "  22.540855 22.614508 22.691458 22.771673 22.855127 22.941784 23.031616\n",
            "  23.12459  23.220682 23.319855 23.422085]]\n",
            "[[23.83069  23.687681 23.550598 23.419353 23.293863 23.17404  23.05981\n",
            "  22.95109  22.847803 22.749876 22.657234 22.569807 22.487526 22.41032\n",
            "  22.338125 22.270874 22.208506 22.150957 22.098166 22.050072 22.006618\n",
            "  21.96775  21.933407 21.903538 21.878088 21.857004 21.840237 21.827732\n",
            "  21.819445 21.815323 21.815321 21.819391 21.82749  21.83957  21.855589\n",
            "  21.875502 21.899267 21.926846 21.958193 21.99327  22.032038 22.07446\n",
            "  22.120491 22.170101 22.223253 22.279905 22.340029 22.403584 22.470537\n",
            "  22.540855 22.614508 22.691458 22.771673 22.855127 22.941784 23.031616\n",
            "  23.12459  23.220682 23.319855 23.422085]]\n",
            "[[23.83069  23.687681 23.550598 23.419353 23.293863 23.174042 23.05981\n",
            "  22.95109  22.847803 22.749876 22.657234 22.569807 22.487526 22.41032\n",
            "  22.338125 22.270874 22.208506 22.150957 22.098166 22.050072 22.006618\n",
            "  21.96775  21.933407 21.903538 21.878088 21.857004 21.840237 21.827732\n",
            "  21.819445 21.815323 21.815321 21.819391 21.82749  21.83957  21.855589\n",
            "  21.875502 21.899267 21.926846 21.958193 21.99327  22.032038 22.074457\n",
            "  22.120491 22.170101 22.223253 22.279905 22.340029 22.403584 22.470537\n",
            "  22.540855 22.614508 22.691458 22.771673 22.855127 22.941784 23.031616\n",
            "  23.12459  23.220682 23.319855 23.422085]]\n",
            "[[23.83069  23.687681 23.550598 23.419353 23.293863 23.17404  23.05981\n",
            "  22.95109  22.847803 22.749876 22.657234 22.569807 22.487526 22.41032\n",
            "  22.338125 22.270874 22.208506 22.150957 22.098166 22.050072 22.006618\n",
            "  21.96775  21.933407 21.903538 21.878088 21.857004 21.840237 21.827732\n",
            "  21.819445 21.815323 21.815321 21.819391 21.82749  21.83957  21.855589\n",
            "  21.875502 21.899267 21.926846 21.958193 21.99327  22.032038 22.07446\n",
            "  22.120491 22.170101 22.223253 22.279905 22.340029 22.403584 22.470537\n",
            "  22.540855 22.614508 22.691458 22.771673 22.855127 22.941784 23.031616\n",
            "  23.12459  23.220682 23.319855 23.422085]]\n",
            "[[23.83069  23.687681 23.550598 23.419353 23.293863 23.174042 23.05981\n",
            "  22.95109  22.847803 22.749876 22.657234 22.569807 22.487526 22.41032\n",
            "  22.338125 22.270874 22.208506 22.150957 22.098166 22.050072 22.006618\n",
            "  21.96775  21.933407 21.903538 21.878088 21.857004 21.840237 21.827732\n",
            "  21.819445 21.815323 21.815321 21.819391 21.82749  21.83957  21.855589\n",
            "  21.875502 21.899267 21.926846 21.958193 21.99327  22.032038 22.074457\n",
            "  22.120491 22.170101 22.223253 22.279905 22.340029 22.403584 22.470537\n",
            "  22.540855 22.614508 22.691458 22.771673 22.855127 22.941784 23.031616\n",
            "  23.12459  23.220682 23.319855 23.422085]]\n",
            "[[23.83069  23.687681 23.550598 23.419353 23.293863 23.17404  23.05981\n",
            "  22.95109  22.847803 22.749876 22.657234 22.569807 22.487526 22.41032\n",
            "  22.338125 22.270874 22.208506 22.150957 22.098166 22.050072 22.006618\n",
            "  21.96775  21.933407 21.903538 21.878088 21.857004 21.840237 21.827732\n",
            "  21.819445 21.815323 21.815321 21.819391 21.82749  21.83957  21.855589\n",
            "  21.875502 21.899267 21.926846 21.958193 21.99327  22.032038 22.07446\n",
            "  22.120491 22.170101 22.223253 22.279905 22.340029 22.403584 22.470537\n",
            "  22.540855 22.614508 22.691458 22.771673 22.855127 22.941784 23.031616\n",
            "  23.12459  23.220682 23.319855 23.422085]]\n",
            "[[23.83069  23.687681 23.550598 23.419353 23.293863 23.174042 23.05981\n",
            "  22.95109  22.847803 22.749876 22.657234 22.569807 22.487526 22.41032\n",
            "  22.338125 22.270874 22.208506 22.150957 22.098166 22.050072 22.006618\n",
            "  21.96775  21.933407 21.903538 21.878088 21.857004 21.840237 21.827732\n",
            "  21.819445 21.815323 21.815321 21.819391 21.82749  21.83957  21.855589\n",
            "  21.875502 21.899267 21.926846 21.958193 21.99327  22.032038 22.074457\n",
            "  22.120491 22.170101 22.223253 22.279905 22.340029 22.403584 22.470537\n",
            "  22.540855 22.614508 22.691458 22.771673 22.855127 22.941784 23.031616\n",
            "  23.12459  23.220682 23.319855 23.422085]]\n",
            "[[23.83069  23.687681 23.550598 23.419353 23.293863 23.17404  23.05981\n",
            "  22.95109  22.847803 22.749876 22.657234 22.569807 22.487526 22.41032\n",
            "  22.338125 22.270874 22.208506 22.150957 22.098166 22.050072 22.006618\n",
            "  21.96775  21.933407 21.903538 21.878088 21.857004 21.840237 21.827732\n",
            "  21.819445 21.815323 21.815321 21.819391 21.82749  21.83957  21.855589\n",
            "  21.875502 21.899267 21.926846 21.958193 21.99327  22.032038 22.07446\n",
            "  22.120491 22.170101 22.223253 22.279905 22.340029 22.403584 22.470537\n",
            "  22.540855 22.614508 22.691458 22.771673 22.855127 22.941784 23.031616\n",
            "  23.12459  23.220682 23.319855 23.422085]]\n",
            "[[23.83069  23.687681 23.550598 23.419353 23.293863 23.174042 23.05981\n",
            "  22.95109  22.847803 22.749876 22.657234 22.569807 22.487526 22.41032\n",
            "  22.338125 22.270874 22.208506 22.150957 22.098166 22.050072 22.006618\n",
            "  21.96775  21.933407 21.903538 21.878088 21.857004 21.840237 21.827732\n",
            "  21.819445 21.815323 21.815321 21.819391 21.82749  21.83957  21.855589\n",
            "  21.875502 21.899267 21.926846 21.958193 21.99327  22.032038 22.074457\n",
            "  22.120491 22.170101 22.223253 22.279905 22.340029 22.403584 22.470537\n",
            "  22.540855 22.614508 22.691458 22.771673 22.855127 22.941784 23.031616\n",
            "  23.12459  23.220682 23.319855 23.422085]]\n",
            "[[23.83069  23.687681 23.550598 23.419353 23.293863 23.17404  23.05981\n",
            "  22.95109  22.847803 22.749876 22.657234 22.569807 22.487526 22.41032\n",
            "  22.338125 22.270874 22.208506 22.150957 22.098166 22.050072 22.006618\n",
            "  21.96775  21.933407 21.903538 21.878088 21.857004 21.840237 21.827732\n",
            "  21.819445 21.815323 21.815321 21.819391 21.82749  21.83957  21.855589\n",
            "  21.875502 21.899267 21.926846 21.958193 21.99327  22.032038 22.07446\n",
            "  22.120491 22.170101 22.223253 22.279905 22.340029 22.403584 22.470537\n",
            "  22.540855 22.614508 22.691458 22.771673 22.855127 22.941784 23.031616\n",
            "  23.12459  23.220682 23.319855 23.422085]]\n",
            "[[23.83069  23.687681 23.550598 23.419353 23.293863 23.174042 23.05981\n",
            "  22.95109  22.847803 22.749876 22.657234 22.569807 22.487526 22.41032\n",
            "  22.338125 22.270874 22.208506 22.150957 22.098166 22.050072 22.006618\n",
            "  21.96775  21.933407 21.903538 21.878088 21.857004 21.840237 21.827732\n",
            "  21.819445 21.815323 21.815321 21.819391 21.82749  21.83957  21.855589\n",
            "  21.875502 21.899267 21.926846 21.958193 21.99327  22.032038 22.074457\n",
            "  22.120491 22.170101 22.223253 22.279905 22.340029 22.403584 22.470537\n",
            "  22.540855 22.614508 22.691458 22.771673 22.855127 22.941784 23.031616\n",
            "  23.12459  23.220682 23.319855 23.422085]]\n",
            "[[23.83069  23.687681 23.550598 23.419353 23.293863 23.17404  23.05981\n",
            "  22.95109  22.847803 22.749876 22.657234 22.569807 22.487526 22.41032\n",
            "  22.338125 22.270874 22.208506 22.150957 22.098166 22.050072 22.006618\n",
            "  21.96775  21.933407 21.903538 21.878088 21.857004 21.840237 21.827732\n",
            "  21.819445 21.815323 21.815321 21.819391 21.82749  21.83957  21.855589\n",
            "  21.875502 21.899267 21.926846 21.958193 21.99327  22.032038 22.07446\n",
            "  22.120491 22.170101 22.223253 22.279905 22.340029 22.403584 22.470537\n",
            "  22.540855 22.614508 22.691458 22.771673 22.855127 22.941784 23.031616\n",
            "  23.12459  23.220682 23.319855 23.422085]]\n",
            "[[23.83069  23.687681 23.550598 23.419353 23.293863 23.174042 23.05981\n",
            "  22.95109  22.847803 22.749876 22.657234 22.569807 22.487526 22.41032\n",
            "  22.338125 22.270874 22.208506 22.150957 22.098166 22.050072 22.006618\n",
            "  21.96775  21.933407 21.903538 21.878088 21.857004 21.840237 21.827732\n",
            "  21.819445 21.815323 21.815321 21.819391 21.82749  21.83957  21.855589\n",
            "  21.875502 21.899267 21.926846 21.958193 21.99327  22.032038 22.074457\n",
            "  22.120491 22.170101 22.223253 22.279905 22.340029 22.403584 22.470537\n",
            "  22.540855 22.614508 22.691458 22.771673 22.855127 22.941784 23.031616\n",
            "  23.12459  23.220682 23.319855 23.422085]]\n"
          ],
          "name": "stdout"
        },
        {
          "output_type": "stream",
          "text": [
            "[[23.83069  23.687681 23.550598 23.419353 23.293863 23.17404  23.05981\n",
            "  22.95109  22.847803 22.749876 22.657234 22.569807 22.487526 22.41032\n",
            "  22.338125 22.270874 22.208506 22.150957 22.098166 22.050072 22.006618\n",
            "  21.96775  21.933407 21.903538 21.878088 21.857004 21.840237 21.827732\n",
            "  21.819445 21.815323 21.815321 21.819391 21.82749  21.83957  21.855589\n",
            "  21.875502 21.899267 21.926846 21.958193 21.99327  22.032038 22.07446\n",
            "  22.120491 22.170101 22.223253 22.279905 22.340029 22.403584 22.470537\n",
            "  22.540855 22.614508 22.691458 22.771673 22.855127 22.941784 23.031616\n",
            "  23.12459  23.220682 23.319855 23.422085]]\n",
            "[[23.83069  23.687681 23.550598 23.419353 23.293863 23.174042 23.05981\n",
            "  22.95109  22.847803 22.749876 22.657234 22.569807 22.487526 22.41032\n",
            "  22.338125 22.270874 22.208506 22.150957 22.098166 22.050072 22.006618\n",
            "  21.96775  21.933407 21.903538 21.878088 21.857004 21.840237 21.827732\n",
            "  21.819445 21.815323 21.815321 21.819391 21.82749  21.83957  21.855589\n",
            "  21.875502 21.899267 21.926846 21.958193 21.99327  22.032038 22.074457\n",
            "  22.120491 22.170101 22.223253 22.279905 22.340029 22.403584 22.470537\n",
            "  22.540855 22.614508 22.691458 22.771673 22.855127 22.941784 23.031616\n",
            "  23.12459  23.220682 23.319855 23.422085]]\n",
            "[[23.83069  23.687681 23.550598 23.419353 23.293863 23.17404  23.05981\n",
            "  22.95109  22.847803 22.749876 22.657234 22.569807 22.487526 22.41032\n",
            "  22.338125 22.270874 22.208506 22.150957 22.098166 22.050072 22.006618\n",
            "  21.96775  21.933407 21.903538 21.878088 21.857004 21.840237 21.827732\n",
            "  21.819445 21.815323 21.815321 21.819391 21.82749  21.83957  21.855589\n",
            "  21.875502 21.899267 21.926846 21.958193 21.99327  22.032038 22.07446\n",
            "  22.120491 22.170101 22.223253 22.279905 22.340029 22.403584 22.470537\n",
            "  22.540855 22.614508 22.691458 22.771673 22.855127 22.941784 23.031616\n",
            "  23.12459  23.220682 23.319855 23.422085]]\n",
            "[[23.83069  23.687681 23.550598 23.419353 23.293863 23.174042 23.05981\n",
            "  22.95109  22.847803 22.749876 22.657234 22.569807 22.487526 22.41032\n",
            "  22.338125 22.270874 22.208506 22.150957 22.098166 22.050072 22.006618\n",
            "  21.96775  21.933407 21.903538 21.878088 21.857004 21.840237 21.827732\n",
            "  21.819445 21.815323 21.815321 21.819391 21.82749  21.83957  21.855589\n",
            "  21.875502 21.899267 21.926846 21.958193 21.99327  22.032038 22.074457\n",
            "  22.120491 22.170101 22.223253 22.279905 22.340029 22.403584 22.470537\n",
            "  22.540855 22.614508 22.691458 22.771673 22.855127 22.941784 23.031616\n",
            "  23.12459  23.220682 23.319855 23.422085]]\n",
            "[[23.83069  23.687681 23.550598 23.419353 23.293863 23.17404  23.05981\n",
            "  22.95109  22.847803 22.749876 22.657234 22.569807 22.487526 22.41032\n",
            "  22.338125 22.270874 22.208506 22.150957 22.098166 22.050072 22.006618\n",
            "  21.96775  21.933407 21.903538 21.878088 21.857004 21.840237 21.827732\n",
            "  21.819445 21.815323 21.815321 21.819391 21.82749  21.83957  21.855589\n",
            "  21.875502 21.899267 21.926846 21.958193 21.99327  22.032038 22.07446\n",
            "  22.120491 22.170101 22.223253 22.279905 22.340029 22.403584 22.470537\n",
            "  22.540855 22.614508 22.691458 22.771673 22.855127 22.941784 23.031616\n",
            "  23.12459  23.220682 23.319855 23.422085]]\n",
            "[[23.83069  23.687681 23.550598 23.419353 23.293863 23.174042 23.05981\n",
            "  22.95109  22.847803 22.749876 22.657234 22.569807 22.487526 22.41032\n",
            "  22.338125 22.270874 22.208506 22.150957 22.098166 22.050072 22.006618\n",
            "  21.96775  21.933407 21.903538 21.878088 21.857004 21.840237 21.827732\n",
            "  21.819445 21.815323 21.815321 21.819391 21.82749  21.83957  21.855589\n",
            "  21.875502 21.899267 21.926846 21.958193 21.99327  22.032038 22.074457\n",
            "  22.120491 22.170101 22.223253 22.279905 22.340029 22.403584 22.470537\n",
            "  22.540855 22.614508 22.691458 22.771673 22.855127 22.941784 23.031616\n",
            "  23.12459  23.220682 23.319855 23.422085]]\n",
            "[[23.83069  23.687681 23.550598 23.419353 23.293863 23.17404  23.05981\n",
            "  22.95109  22.847803 22.749876 22.657234 22.569807 22.487526 22.41032\n",
            "  22.338125 22.270874 22.208506 22.150957 22.098166 22.050072 22.006618\n",
            "  21.96775  21.933407 21.903538 21.878088 21.857004 21.840237 21.827732\n",
            "  21.819445 21.815323 21.815321 21.819391 21.82749  21.83957  21.855589\n",
            "  21.875502 21.899267 21.926846 21.958193 21.99327  22.032038 22.07446\n",
            "  22.120491 22.170101 22.223253 22.279905 22.340029 22.403584 22.470537\n",
            "  22.540855 22.614508 22.691458 22.771673 22.855127 22.941784 23.031616\n",
            "  23.12459  23.220682 23.319855 23.422085]]\n",
            "[[23.83069  23.687681 23.550598 23.419353 23.293863 23.174042 23.05981\n",
            "  22.95109  22.847803 22.749876 22.657234 22.569807 22.487526 22.41032\n",
            "  22.338125 22.270874 22.208506 22.150957 22.098166 22.050072 22.006618\n",
            "  21.96775  21.933407 21.903538 21.878088 21.857004 21.840237 21.827732\n",
            "  21.819445 21.815323 21.815321 21.819391 21.82749  21.83957  21.855589\n",
            "  21.875502 21.899267 21.926846 21.958193 21.99327  22.032038 22.074457\n",
            "  22.120491 22.170101 22.223253 22.279905 22.340029 22.403584 22.470537\n",
            "  22.540855 22.614508 22.691458 22.771673 22.855127 22.941784 23.031616\n",
            "  23.12459  23.220682 23.319855 23.422085]]\n",
            "[[23.83069  23.687681 23.550598 23.419353 23.293863 23.17404  23.05981\n",
            "  22.95109  22.847803 22.749876 22.657234 22.569807 22.487526 22.41032\n",
            "  22.338125 22.270874 22.208506 22.150957 22.098166 22.050072 22.006618\n",
            "  21.96775  21.933407 21.903538 21.878088 21.857004 21.840237 21.827732\n",
            "  21.819445 21.815323 21.815321 21.819391 21.82749  21.83957  21.855589\n",
            "  21.875502 21.899267 21.926846 21.958193 21.99327  22.032038 22.07446\n",
            "  22.120491 22.170101 22.223253 22.279905 22.340029 22.403584 22.470537\n",
            "  22.540855 22.614508 22.691458 22.771673 22.855127 22.941784 23.031616\n",
            "  23.12459  23.220682 23.319855 23.422085]]\n",
            "[[23.83069  23.687681 23.550598 23.419353 23.293863 23.174042 23.05981\n",
            "  22.95109  22.847803 22.749876 22.657234 22.569807 22.487526 22.41032\n",
            "  22.338125 22.270874 22.208506 22.150957 22.098166 22.050072 22.006618\n",
            "  21.96775  21.933407 21.903538 21.878088 21.857004 21.840237 21.827732\n",
            "  21.819445 21.815323 21.815321 21.819391 21.82749  21.83957  21.855589\n",
            "  21.875502 21.899267 21.926846 21.958193 21.99327  22.032038 22.074457\n",
            "  22.120491 22.170101 22.223253 22.279905 22.340029 22.403584 22.470537\n",
            "  22.540855 22.614508 22.691458 22.771673 22.855127 22.941784 23.031616\n",
            "  23.12459  23.220682 23.319855 23.422085]]\n",
            "[[23.83069  23.687681 23.550598 23.419353 23.293863 23.17404  23.05981\n",
            "  22.95109  22.847803 22.749876 22.657234 22.569807 22.487526 22.41032\n",
            "  22.338125 22.270874 22.208506 22.150957 22.098166 22.050072 22.006618\n",
            "  21.96775  21.933407 21.903538 21.878088 21.857004 21.840237 21.827732\n",
            "  21.819445 21.815323 21.815321 21.819391 21.82749  21.83957  21.855589\n",
            "  21.875502 21.899267 21.926846 21.958193 21.99327  22.032038 22.07446\n",
            "  22.120491 22.170101 22.223253 22.279905 22.340029 22.403584 22.470537\n",
            "  22.540855 22.614508 22.691458 22.771673 22.855127 22.941784 23.031616\n",
            "  23.12459  23.220682 23.319855 23.422085]]\n",
            "[[23.83069  23.687681 23.550598 23.419353 23.293863 23.174042 23.05981\n",
            "  22.95109  22.847803 22.749876 22.657234 22.569807 22.487526 22.41032\n",
            "  22.338125 22.270874 22.208506 22.150957 22.098166 22.050072 22.006618\n",
            "  21.96775  21.933407 21.903538 21.878088 21.857004 21.840237 21.827732\n",
            "  21.819445 21.815323 21.815321 21.819391 21.82749  21.83957  21.855589\n",
            "  21.875502 21.899267 21.926846 21.958193 21.99327  22.032038 22.074457\n",
            "  22.120491 22.170101 22.223253 22.279905 22.340029 22.403584 22.470537\n",
            "  22.540855 22.614508 22.691458 22.771673 22.855127 22.941784 23.031616\n",
            "  23.12459  23.220682 23.319855 23.422085]]\n",
            "[[23.83069  23.687681 23.550598 23.419353 23.293863 23.17404  23.05981\n",
            "  22.95109  22.847803 22.749876 22.657234 22.569807 22.487526 22.41032\n",
            "  22.338125 22.270874 22.208506 22.150957 22.098166 22.050072 22.006618\n",
            "  21.96775  21.933407 21.903538 21.878088 21.857004 21.840237 21.827732\n",
            "  21.819445 21.815323 21.815321 21.819391 21.82749  21.83957  21.855589\n",
            "  21.875502 21.899267 21.926846 21.958193 21.99327  22.032038 22.07446\n",
            "  22.120491 22.170101 22.223253 22.279905 22.340029 22.403584 22.470537\n",
            "  22.540855 22.614508 22.691458 22.771673 22.855127 22.941784 23.031616\n",
            "  23.12459  23.220682 23.319855 23.422085]]\n",
            "[[23.83069  23.687681 23.550598 23.419353 23.293863 23.174042 23.05981\n",
            "  22.95109  22.847803 22.749876 22.657234 22.569807 22.487526 22.41032\n",
            "  22.338125 22.270874 22.208506 22.150957 22.098166 22.050072 22.006618\n",
            "  21.96775  21.933407 21.903538 21.878088 21.857004 21.840237 21.827732\n",
            "  21.819445 21.815323 21.815321 21.819391 21.82749  21.83957  21.855589\n",
            "  21.875502 21.899267 21.926846 21.958193 21.99327  22.032038 22.074457\n",
            "  22.120491 22.170101 22.223253 22.279905 22.340029 22.403584 22.470537\n",
            "  22.540855 22.614508 22.691458 22.771673 22.855127 22.941784 23.031616\n",
            "  23.12459  23.220682 23.319855 23.422085]]\n"
          ],
          "name": "stdout"
        },
        {
          "output_type": "stream",
          "text": [
            "[[23.83069  23.687681 23.550598 23.419353 23.293863 23.17404  23.05981\n",
            "  22.95109  22.847803 22.749876 22.657234 22.569807 22.487526 22.41032\n",
            "  22.338125 22.270874 22.208506 22.150957 22.098166 22.050072 22.006618\n",
            "  21.96775  21.933407 21.903538 21.878088 21.857004 21.840237 21.827732\n",
            "  21.819445 21.815323 21.815321 21.819391 21.82749  21.83957  21.855589\n",
            "  21.875502 21.899267 21.926846 21.958193 21.99327  22.032038 22.07446\n",
            "  22.120491 22.170101 22.223253 22.279905 22.340029 22.403584 22.470537\n",
            "  22.540855 22.614508 22.691458 22.771673 22.855127 22.941784 23.031616\n",
            "  23.12459  23.220682 23.319855 23.422085]]\n",
            "[[23.83069  23.687681 23.550598 23.419353 23.293863 23.174042 23.05981\n",
            "  22.95109  22.847803 22.749876 22.657234 22.569807 22.487526 22.41032\n",
            "  22.338125 22.270874 22.208506 22.150957 22.098166 22.050072 22.006618\n",
            "  21.96775  21.933407 21.903538 21.878088 21.857004 21.840237 21.827732\n",
            "  21.819445 21.815323 21.815321 21.819391 21.82749  21.83957  21.855589\n",
            "  21.875502 21.899267 21.926846 21.958193 21.99327  22.032038 22.074457\n",
            "  22.120491 22.170101 22.223253 22.279905 22.340029 22.403584 22.470537\n",
            "  22.540855 22.614508 22.691458 22.771673 22.855127 22.941784 23.031616\n",
            "  23.12459  23.220682 23.319855 23.422085]]\n",
            "[[23.83069  23.687681 23.550598 23.419353 23.293863 23.17404  23.05981\n",
            "  22.95109  22.847803 22.749876 22.657234 22.569807 22.487526 22.41032\n",
            "  22.338125 22.270874 22.208506 22.150957 22.098166 22.050072 22.006618\n",
            "  21.96775  21.933407 21.903538 21.878088 21.857004 21.840237 21.827732\n",
            "  21.819445 21.815323 21.815321 21.819391 21.82749  21.83957  21.855589\n",
            "  21.875502 21.899267 21.926846 21.958193 21.99327  22.032038 22.07446\n",
            "  22.120491 22.170101 22.223253 22.279905 22.340029 22.403584 22.470537\n",
            "  22.540855 22.614508 22.691458 22.771673 22.855127 22.941784 23.031616\n",
            "  23.12459  23.220682 23.319855 23.422085]]\n",
            "[[23.83069  23.687681 23.550598 23.419353 23.293863 23.174042 23.05981\n",
            "  22.95109  22.847803 22.749876 22.657234 22.569807 22.487526 22.41032\n",
            "  22.338125 22.270874 22.208506 22.150957 22.098166 22.050072 22.006618\n",
            "  21.96775  21.933407 21.903538 21.878088 21.857004 21.840237 21.827732\n",
            "  21.819445 21.815323 21.815321 21.819391 21.82749  21.83957  21.855589\n",
            "  21.875502 21.899267 21.926846 21.958193 21.99327  22.032038 22.074457\n",
            "  22.120491 22.170101 22.223253 22.279905 22.340029 22.403584 22.470537\n",
            "  22.540855 22.614508 22.691458 22.771673 22.855127 22.941784 23.031616\n",
            "  23.12459  23.220682 23.319855 23.422085]]\n",
            "[[23.83069  23.687681 23.550598 23.419353 23.293863 23.17404  23.05981\n",
            "  22.95109  22.847803 22.749876 22.657234 22.569807 22.487526 22.41032\n",
            "  22.338125 22.270874 22.208506 22.150957 22.098166 22.050072 22.006618\n",
            "  21.96775  21.933407 21.903538 21.878088 21.857004 21.840237 21.827732\n",
            "  21.819445 21.815323 21.815321 21.819391 21.82749  21.83957  21.855589\n",
            "  21.875502 21.899267 21.926846 21.958193 21.99327  22.032038 22.07446\n",
            "  22.120491 22.170101 22.223253 22.279905 22.340029 22.403584 22.470537\n",
            "  22.540855 22.614508 22.691458 22.771673 22.855127 22.941784 23.031616\n",
            "  23.12459  23.220682 23.319855 23.422085]]\n",
            "[[23.83069  23.687681 23.550598 23.419353 23.293863 23.174042 23.05981\n",
            "  22.95109  22.847803 22.749876 22.657234 22.569807 22.487526 22.41032\n",
            "  22.338125 22.270874 22.208506 22.150957 22.098166 22.050072 22.006618\n",
            "  21.96775  21.933407 21.903538 21.878088 21.857004 21.840237 21.827732\n",
            "  21.819445 21.815323 21.815321 21.819391 21.82749  21.83957  21.855589\n",
            "  21.875502 21.899267 21.926846 21.958193 21.99327  22.032038 22.074457\n",
            "  22.120491 22.170101 22.223253 22.279905 22.340029 22.403584 22.470537\n",
            "  22.540855 22.614508 22.691458 22.771673 22.855127 22.941784 23.031616\n",
            "  23.12459  23.220682 23.319855 23.422085]]\n",
            "[[23.83069  23.687681 23.550598 23.419353 23.293863 23.17404  23.05981\n",
            "  22.95109  22.847803 22.749876 22.657234 22.569807 22.487526 22.41032\n",
            "  22.338125 22.270874 22.208506 22.150957 22.098166 22.050072 22.006618\n",
            "  21.96775  21.933407 21.903538 21.878088 21.857004 21.840237 21.827732\n",
            "  21.819445 21.815323 21.815321 21.819391 21.82749  21.83957  21.855589\n",
            "  21.875502 21.899267 21.926846 21.958193 21.99327  22.032038 22.07446\n",
            "  22.120491 22.170101 22.223253 22.279905 22.340029 22.403584 22.470537\n",
            "  22.540855 22.614508 22.691458 22.771673 22.855127 22.941784 23.031616\n",
            "  23.12459  23.220682 23.319855 23.422085]]\n",
            "[[23.83069  23.687681 23.550598 23.419353 23.293863 23.174042 23.05981\n",
            "  22.95109  22.847803 22.749876 22.657234 22.569807 22.487526 22.41032\n",
            "  22.338125 22.270874 22.208506 22.150957 22.098166 22.050072 22.006618\n",
            "  21.96775  21.933407 21.903538 21.878088 21.857004 21.840237 21.827732\n",
            "  21.819445 21.815323 21.815321 21.819391 21.82749  21.83957  21.855589\n",
            "  21.875502 21.899267 21.926846 21.958193 21.99327  22.032038 22.074457\n",
            "  22.120491 22.170101 22.223253 22.279905 22.340029 22.403584 22.470537\n",
            "  22.540855 22.614508 22.691458 22.771673 22.855127 22.941784 23.031616\n",
            "  23.12459  23.220682 23.319855 23.422085]]\n",
            "[[23.83069  23.687681 23.550598 23.419353 23.293863 23.17404  23.05981\n",
            "  22.95109  22.847803 22.749876 22.657234 22.569807 22.487526 22.41032\n",
            "  22.338125 22.270874 22.208506 22.150957 22.098166 22.050072 22.006618\n",
            "  21.96775  21.933407 21.903538 21.878088 21.857004 21.840237 21.827732\n",
            "  21.819445 21.815323 21.815321 21.819391 21.82749  21.83957  21.855589\n",
            "  21.875502 21.899267 21.926846 21.958193 21.99327  22.032038 22.07446\n",
            "  22.120491 22.170101 22.223253 22.279905 22.340029 22.403584 22.470537\n",
            "  22.540855 22.614508 22.691458 22.771673 22.855127 22.941784 23.031616\n",
            "  23.12459  23.220682 23.319855 23.422085]]\n",
            "[[23.83069  23.687681 23.550598 23.419353 23.293863 23.174042 23.05981\n",
            "  22.95109  22.847803 22.749876 22.657234 22.569807 22.487526 22.41032\n",
            "  22.338125 22.270874 22.208506 22.150957 22.098166 22.050072 22.006618\n",
            "  21.96775  21.933407 21.903538 21.878088 21.857004 21.840237 21.827732\n",
            "  21.819445 21.815323 21.815321 21.819391 21.82749  21.83957  21.855589\n",
            "  21.875502 21.899267 21.926846 21.958193 21.99327  22.032038 22.074457\n",
            "  22.120491 22.170101 22.223253 22.279905 22.340029 22.403584 22.470537\n",
            "  22.540855 22.614508 22.691458 22.771673 22.855127 22.941784 23.031616\n",
            "  23.12459  23.220682 23.319855 23.422085]]\n",
            "[[23.83069  23.687681 23.550598 23.419353 23.293863 23.17404  23.05981\n",
            "  22.95109  22.847803 22.749876 22.657234 22.569807 22.487526 22.41032\n",
            "  22.338125 22.270874 22.208506 22.150957 22.098166 22.050072 22.006618\n",
            "  21.96775  21.933407 21.903538 21.878088 21.857004 21.840237 21.827732\n",
            "  21.819445 21.815323 21.815321 21.819391 21.82749  21.83957  21.855589\n",
            "  21.875502 21.899267 21.926846 21.958193 21.99327  22.032038 22.07446\n",
            "  22.120491 22.170101 22.223253 22.279905 22.340029 22.403584 22.470537\n",
            "  22.540855 22.614508 22.691458 22.771673 22.855127 22.941784 23.031616\n",
            "  23.12459  23.220682 23.319855 23.422085]]\n",
            "[[23.83069  23.687681 23.550598 23.419353 23.293863 23.174042 23.05981\n",
            "  22.95109  22.847803 22.749876 22.657234 22.569807 22.487526 22.41032\n",
            "  22.338125 22.270874 22.208506 22.150957 22.098166 22.050072 22.006618\n",
            "  21.96775  21.933407 21.903538 21.878088 21.857004 21.840237 21.827732\n",
            "  21.819445 21.815323 21.815321 21.819391 21.82749  21.83957  21.855589\n",
            "  21.875502 21.899267 21.926846 21.958193 21.99327  22.032038 22.074457\n",
            "  22.120491 22.170101 22.223253 22.279905 22.340029 22.403584 22.470537\n",
            "  22.540855 22.614508 22.691458 22.771673 22.855127 22.941784 23.031616\n",
            "  23.12459  23.220682 23.319855 23.422085]]\n",
            "[[23.83069  23.687681 23.550598 23.419353 23.293863 23.17404  23.05981\n",
            "  22.95109  22.847803 22.749876 22.657234 22.569807 22.487526 22.41032\n",
            "  22.338125 22.270874 22.208506 22.150957 22.098166 22.050072 22.006618\n",
            "  21.96775  21.933407 21.903538 21.878088 21.857004 21.840237 21.827732\n",
            "  21.819445 21.815323 21.815321 21.819391 21.82749  21.83957  21.855589\n",
            "  21.875502 21.899267 21.926846 21.958193 21.99327  22.032038 22.07446\n",
            "  22.120491 22.170101 22.223253 22.279905 22.340029 22.403584 22.470537\n",
            "  22.540855 22.614508 22.691458 22.771673 22.855127 22.941784 23.031616\n",
            "  23.12459  23.220682 23.319855 23.422085]]\n",
            "[[23.83069  23.687681 23.550598 23.419353 23.293863 23.174042 23.05981\n",
            "  22.95109  22.847803 22.749876 22.657234 22.569807 22.487526 22.41032\n",
            "  22.338125 22.270874 22.208506 22.150957 22.098166 22.050072 22.006618\n",
            "  21.96775  21.933407 21.903538 21.878088 21.857004 21.840237 21.827732\n",
            "  21.819445 21.815323 21.815321 21.819391 21.82749  21.83957  21.855589\n",
            "  21.875502 21.899267 21.926846 21.958193 21.99327  22.032038 22.074457\n",
            "  22.120491 22.170101 22.223253 22.279905 22.340029 22.403584 22.470537\n",
            "  22.540855 22.614508 22.691458 22.771673 22.855127 22.941784 23.031616\n",
            "  23.12459  23.220682 23.319855 23.422085]]\n",
            "[[23.83069  23.687681 23.550598 23.419353 23.293863 23.17404  23.05981\n",
            "  22.95109  22.847803 22.749876 22.657234 22.569807 22.487526 22.41032\n",
            "  22.338125 22.270874 22.208506 22.150957 22.098166 22.050072 22.006618\n",
            "  21.96775  21.933407 21.903538 21.878088 21.857004 21.840237 21.827732\n",
            "  21.819445 21.815323 21.815321 21.819391 21.82749  21.83957  21.855589\n",
            "  21.875502 21.899267 21.926846 21.958193 21.99327  22.032038 22.07446\n",
            "  22.120491 22.170101 22.223253 22.279905 22.340029 22.403584 22.470537\n",
            "  22.540855 22.614508 22.691458 22.771673 22.855127 22.941784 23.031616\n",
            "  23.12459  23.220682 23.319855 23.422085]]\n"
          ],
          "name": "stdout"
        },
        {
          "output_type": "stream",
          "text": [
            "[[23.83069  23.687681 23.550598 23.419353 23.293863 23.174042 23.05981\n",
            "  22.95109  22.847803 22.749876 22.657234 22.569807 22.487526 22.41032\n",
            "  22.338125 22.270874 22.208506 22.150957 22.098166 22.050072 22.006618\n",
            "  21.96775  21.933407 21.903538 21.878088 21.857004 21.840237 21.827732\n",
            "  21.819445 21.815323 21.815321 21.819391 21.82749  21.83957  21.855589\n",
            "  21.875502 21.899267 21.926846 21.958193 21.99327  22.032038 22.074457\n",
            "  22.120491 22.170101 22.223253 22.279905 22.340029 22.403584 22.470537\n",
            "  22.540855 22.614508 22.691458 22.771673 22.855127 22.941784 23.031616\n",
            "  23.12459  23.220682 23.319855 23.422085]]\n",
            "[[23.83069  23.687681 23.550598 23.419353 23.293863 23.17404  23.05981\n",
            "  22.95109  22.847803 22.749876 22.657234 22.569807 22.487526 22.41032\n",
            "  22.338125 22.270874 22.208506 22.150957 22.098166 22.050072 22.006618\n",
            "  21.96775  21.933407 21.903538 21.878088 21.857004 21.840237 21.827732\n",
            "  21.819445 21.815323 21.815321 21.819391 21.82749  21.83957  21.855589\n",
            "  21.875502 21.899267 21.926846 21.958193 21.99327  22.032038 22.07446\n",
            "  22.120491 22.170101 22.223253 22.279905 22.340029 22.403584 22.470537\n",
            "  22.540855 22.614508 22.691458 22.771673 22.855127 22.941784 23.031616\n",
            "  23.12459  23.220682 23.319855 23.422085]]\n",
            "[[23.83069  23.687681 23.550598 23.419353 23.293863 23.174042 23.05981\n",
            "  22.95109  22.847803 22.749876 22.657234 22.569807 22.487526 22.41032\n",
            "  22.338125 22.270874 22.208506 22.150957 22.098166 22.050072 22.006618\n",
            "  21.96775  21.933407 21.903538 21.878088 21.857004 21.840237 21.827732\n",
            "  21.819445 21.815323 21.815321 21.819391 21.82749  21.83957  21.855589\n",
            "  21.875502 21.899267 21.926846 21.958193 21.99327  22.032038 22.074457\n",
            "  22.120491 22.170101 22.223253 22.279905 22.340029 22.403584 22.470537\n",
            "  22.540855 22.614508 22.691458 22.771673 22.855127 22.941784 23.031616\n",
            "  23.12459  23.220682 23.319855 23.422085]]\n",
            "[[23.83069  23.687681 23.550598 23.419353 23.293863 23.17404  23.05981\n",
            "  22.95109  22.847803 22.749876 22.657234 22.569807 22.487526 22.41032\n",
            "  22.338125 22.270874 22.208506 22.150957 22.098166 22.050072 22.006618\n",
            "  21.96775  21.933407 21.903538 21.878088 21.857004 21.840237 21.827732\n",
            "  21.819445 21.815323 21.815321 21.819391 21.82749  21.83957  21.855589\n",
            "  21.875502 21.899267 21.926846 21.958193 21.99327  22.032038 22.07446\n",
            "  22.120491 22.170101 22.223253 22.279905 22.340029 22.403584 22.470537\n",
            "  22.540855 22.614508 22.691458 22.771673 22.855127 22.941784 23.031616\n",
            "  23.12459  23.220682 23.319855 23.422085]]\n",
            "[[23.83069  23.687681 23.550598 23.419353 23.293863 23.174042 23.05981\n",
            "  22.95109  22.847803 22.749876 22.657234 22.569807 22.487526 22.41032\n",
            "  22.338125 22.270874 22.208506 22.150957 22.098166 22.050072 22.006618\n",
            "  21.96775  21.933407 21.903538 21.878088 21.857004 21.840237 21.827732\n",
            "  21.819445 21.815323 21.815321 21.819391 21.82749  21.83957  21.855589\n",
            "  21.875502 21.899267 21.926846 21.958193 21.99327  22.032038 22.074457\n",
            "  22.120491 22.170101 22.223253 22.279905 22.340029 22.403584 22.470537\n",
            "  22.540855 22.614508 22.691458 22.771673 22.855127 22.941784 23.031616\n",
            "  23.12459  23.220682 23.319855 23.422085]]\n",
            "[[23.83069  23.687681 23.550598 23.419353 23.293863 23.17404  23.05981\n",
            "  22.95109  22.847803 22.749876 22.657234 22.569807 22.487526 22.41032\n",
            "  22.338125 22.270874 22.208506 22.150957 22.098166 22.050072 22.006618\n",
            "  21.96775  21.933407 21.903538 21.878088 21.857004 21.840237 21.827732\n",
            "  21.819445 21.815323 21.815321 21.819391 21.82749  21.83957  21.855589\n",
            "  21.875502 21.899267 21.926846 21.958193 21.99327  22.032038 22.07446\n",
            "  22.120491 22.170101 22.223253 22.279905 22.340029 22.403584 22.470537\n",
            "  22.540855 22.614508 22.691458 22.771673 22.855127 22.941784 23.031616\n",
            "  23.12459  23.220682 23.319855 23.422085]]\n"
          ],
          "name": "stdout"
        }
      ]
    },
    {
      "cell_type": "code",
      "metadata": {
        "id": "yL5TI24yIKVj",
        "colab_type": "code",
        "colab": {},
        "outputId": "d349f9b5-cc0d-4851-9b29-b1fe3c636b6b"
      },
      "source": [
        "p_nll[0]"
      ],
      "execution_count": 0,
      "outputs": [
        {
          "output_type": "execute_result",
          "data": {
            "text/plain": [
              "array([23.83069 , 23.687681, 23.550598, 23.419353, 23.293863, 23.17404 ,\n",
              "       23.05981 , 22.95109 , 22.847803, 22.749876, 22.657234, 22.569807,\n",
              "       22.487526, 22.41032 , 22.338125, 22.270874, 22.208506, 22.150957,\n",
              "       22.098166, 22.050072, 22.006618, 21.96775 , 21.933407, 21.903538,\n",
              "       21.878088, 21.857004, 21.840237, 21.827732, 21.819445, 21.815323,\n",
              "       21.815321, 21.819391, 21.82749 , 21.83957 , 21.855589, 21.875502,\n",
              "       21.899267, 21.926846, 21.958193, 21.99327 , 22.032038, 22.07446 ,\n",
              "       22.120491, 22.170101, 22.223253, 22.279905, 22.340029, 22.403584,\n",
              "       22.470537, 22.540855, 22.614508, 22.691458, 22.771673, 22.855127,\n",
              "       22.941784, 23.031616, 23.12459 , 23.220682, 23.319855, 23.422085],\n",
              "      dtype=float32)"
            ]
          },
          "metadata": {
            "tags": []
          },
          "execution_count": 181
        }
      ]
    },
    {
      "cell_type": "code",
      "metadata": {
        "id": "ih-AhEZUIKVm",
        "colab_type": "code",
        "colab": {},
        "outputId": "4c0624b7-494a-48b9-e7ff-ba470b3746b9"
      },
      "source": [
        "import matplotlib.pyplot as plt\n",
        "from scipy.interpolate import InterpolatedUnivariateSpline\n",
        "fig, ax = plt.subplots(figsize=(8,6))\n",
        "\n",
        "shift_nll = p_nll[0]-p_nll[0].min()\n",
        "inf_line = ax.plot(s_exp_scan, shift_nll ,\"b\",alpha=0.3)\n",
        "\n",
        "#shift = nll[0]-nll[0].min()\n",
        "#inf_line2 = ax.plot(s_exp_scan, shift ,\"r\",alpha=0.3)\n",
        "\n",
        "ax.set_ylim(bottom=0)\n",
        "ax.set_xlim(left=s_exp_scan.min(), right=s_exp_scan.max())\n",
        "\n",
        "ax.set_xlabel(\"$s$ parameter of interest\")\n",
        "ax.set_ylabel(r\"profiled likelihood $\\Delta(\\mathcal{-\\ln L})$\")\n"
      ],
      "execution_count": 0,
      "outputs": [
        {
          "output_type": "execute_result",
          "data": {
            "text/plain": [
              "Text(0, 0.5, 'profiled likelihood $\\\\Delta(\\\\mathcal{-\\\\ln L})$')"
            ]
          },
          "metadata": {
            "tags": []
          },
          "execution_count": 187
        },
        {
          "output_type": "display_data",
          "data": {
            "image/png": "[encoded data removed]",
            "text/plain": [
              "<Figure size 576x432 with 1 Axes>"
            ]
          },
          "metadata": {
            "tags": [],
            "needs_background": "light"
          }
        }
      ]
    },
    {
      "cell_type": "code",
      "metadata": {
        "id": "GnS8DRqQIKVo",
        "colab_type": "code",
        "colab": {}
      },
      "source": [
        ""
      ],
      "execution_count": 0,
      "outputs": []
    },
    {
      "cell_type": "code",
      "metadata": {
        "id": "5zl8Jfm_IKVq",
        "colab_type": "code",
        "colab": {}
      },
      "source": [
        ""
      ],
      "execution_count": 0,
      "outputs": []
    },
    {
      "cell_type": "markdown",
      "metadata": {
        "colab_type": "text",
        "id": "GD2knhEajGdJ"
      },
      "source": [
        "## Random snippets"
      ]
    },
    {
      "cell_type": "code",
      "metadata": {
        "colab_type": "code",
        "id": "7JfRHrWdjGdJ",
        "colab": {}
      },
      "source": [
        "# Full model\n",
        "# expected amount of signal\n",
        "signal_exp = tf.Variable(50., shape=(), name=\"signal_exp\")\n",
        "# expected amount of background\n",
        "bkg_exp = tf.Variable(1000., shape=(), name=\"bkg_exp\")\n",
        "\n",
        "# compute signal fraction from s_exp and b_exp\n",
        "mu = signal_exp / (signal_exp + bkg_exp)\n",
        "\n",
        "# full mixture distribution\n",
        "m_dist = ds.Mixture(cat=ds.Categorical(probs=[1. - mu, mu]),\n",
        "                            components=[b_dist, s_dist],\n",
        "                            name=\"mixture\")\n",
        "\n",
        "b_counts = tf.Variable(\n",
        "[1.2013696e-02, 3.4166566e-01, 5.8940423e-01, 1.3969673e-03, 1.5554641e-02,\n",
        "4.4392496e-03, 2.0298790e-03, 3.1998839e-02, 1.3944731e-03, 1.0269688e-04], dtype=tf.float32)\n",
        "s_counts = tf.Variable(\n",
        "[1.7830627e-02, 4.5834020e-01, 3.2262495e-01, 5.3610229e-03, 6.8719871e-02,\n",
        "3.9853200e-02, 6.2792581e-03, 7.6308973e-02, 4.4561680e-03, 2.2559472e-04], dtype=tf.float32)\n",
        "\n",
        "\n",
        "with tf.GradientTape(persistent = True) as g:\n",
        "    \n",
        "    g.watch(signal_exp)\n",
        "    g.watch(bkg_exp)\n",
        "    g.watch(b_counts)\n",
        "    g.watch(s_counts)\n",
        "    \"\"\"\n",
        "    with tf.GradientTape(persistent = True) as gg:\n",
        "        \n",
        "        gg.watch(signal_exp)\n",
        "        gg.watch(bkg_exp)\n",
        "        gg.watch(b_counts)\n",
        "        gg.watch(s_counts)\n",
        "\n",
        "        print(b_counts)\n",
        "        print(s_counts)\n",
        "    \"\"\"\n",
        "    exp_counts = tf.cast(signal_exp * s_counts + bkg_exp * b_counts, dtype=tf.float64)\n",
        "    print( \"EXPCOUNTS\")\n",
        "    print( exp_counts )\n",
        "\n",
        "    asimov = tf.stop_gradient(exp_counts, name=\"asimov\")\n",
        "    print(asimov)  \n",
        "    print('Sig Asimov')\n",
        "    print(g.gradient(asimov, signal_exp))       \n",
        "\n",
        "    pois = ds.Poisson(exp_counts, name=\"poisson\")\n",
        "\n",
        "\n",
        "    nll = - tf.cast(tf.reduce_sum(pois.log_prob(asimov)),\n",
        "                        name=\"nll\", dtype=tf.float32)\n",
        "    #g.watch(nll)\n",
        "    print('NLL Asimov')\n",
        "    print(g.gradient(nll, [signal_exp, bkg_exp]))\n",
        "    \n",
        "    \"\"\"\n",
        "    dy_dx = gg.gradient(nll, [signal_exp, bkg_exp])\n",
        "    dy_dx = [tf.zeros_like(pars[j]) if grad is None else grad\n",
        "                      for j, grad in enumerate(dy_dx)]     \n",
        "\n",
        "    print(dy_dx)\n",
        "\n",
        "    batch_hessian = hessian(g, dy_dx, [signal_exp, bkg_exp])\n",
        "\n",
        "    print('hessian Asimov')\n",
        "    print(g.gradient(batch_hessian[0,0], asimov))\n",
        "    \n",
        "    print('Batch hessian')\n",
        "    print(batch_hessian)\n",
        "\n",
        "    cov = tf.linalg.inv(batch_hessian)\n",
        "\n",
        "    print('cov')\n",
        "    #exp_counts = loss\n",
        "    #print(tf.matmul(cov, batch_hessian))\n",
        "    \"\"\"\n",
        "\n",
        "#g.gradient(nll, pars)"
      ],
      "execution_count": 0,
      "outputs": []
    },
    {
      "cell_type": "code",
      "metadata": {
        "colab_type": "code",
        "id": "PKJI_94hjGdM",
        "colab": {}
      },
      "source": [
        "vals = []\n",
        "probs = []\n",
        "for i in range(1000):\n",
        "    x = tf.random.uniform(shape=[10,], minval=0, maxval=100, dtype=tf.float64)\n",
        "    vals.append( x.numpy( ))\n",
        "    probs.append( pois.log_prob(x).numpy() )"
      ],
      "execution_count": 0,
      "outputs": []
    },
    {
      "cell_type": "code",
      "metadata": {
        "colab_type": "code",
        "id": "lLlolAzFjGdP",
        "colab": {}
      },
      "source": [
        "vals = np.array(vals)\n",
        "probs = np.array(probs)"
      ],
      "execution_count": 0,
      "outputs": []
    },
    {
      "cell_type": "code",
      "metadata": {
        "colab_type": "code",
        "id": "EWVe1CTDjGdQ",
        "colab": {}
      },
      "source": [
        "probs.shape"
      ],
      "execution_count": 0,
      "outputs": []
    },
    {
      "cell_type": "code",
      "metadata": {
        "colab_type": "code",
        "id": "npdwPQCbjGdS",
        "colab": {}
      },
      "source": [
        "plt.scatter(vals[:,0], probs[:,0])"
      ],
      "execution_count": 0,
      "outputs": []
    },
    {
      "cell_type": "code",
      "metadata": {
        "colab_type": "code",
        "id": "G5cKxyKejGdU",
        "colab": {}
      },
      "source": [
        "pois.log_prob(exp_counts).numpy()"
      ],
      "execution_count": 0,
      "outputs": []
    },
    {
      "cell_type": "code",
      "metadata": {
        "colab_type": "code",
        "id": "-gbSkyTIjGdW",
        "colab": {}
      },
      "source": [
        ""
      ],
      "execution_count": 0,
      "outputs": []
    },
    {
      "cell_type": "code",
      "metadata": {
        "colab_type": "code",
        "id": "lQZFWmCujGdY",
        "colab": {}
      },
      "source": [
        ""
      ],
      "execution_count": 0,
      "outputs": []
    },
    {
      "cell_type": "code",
      "metadata": {
        "colab_type": "code",
        "id": "3Ic2KoTTjGdZ",
        "colab": {}
      },
      "source": [
        ""
      ],
      "execution_count": 0,
      "outputs": []
    },
    {
      "cell_type": "code",
      "metadata": {
        "colab_type": "code",
        "id": "IxWIe062jGdb",
        "colab": {}
      },
      "source": [
        "v = tf.Variable(tf.random.normal((2,)))\n",
        "print(v)\n",
        "with tf.GradientTape(persistent=True) as tape:\n",
        "    y = tf.sin(v[0] + tf.cos(v[1]))\n",
        "    print([v])\n",
        "    grads = tape.gradient(y, [v])\n",
        "    #print( grads )\n",
        "    print( grads[0] )\n",
        "    #print( tape.gradient(y, v) )\n",
        "    #print\n",
        "hessians = tape.jacobian(grads[0], v)\n",
        "#hessians = tape.gradient(grads[0], [v])\n",
        "print(hessians)"
      ],
      "execution_count": 0,
      "outputs": []
    },
    {
      "cell_type": "code",
      "metadata": {
        "colab_type": "code",
        "id": "xxT3m-05jGdd",
        "colab": {}
      },
      "source": [
        "x = tf.random.uniform(shape=[3,2],minval=0, maxval=10) \n",
        "y = tf.random.uniform(shape=[3,4],minval=0, maxval=10) \n",
        "w1 = tf.Variable(tf.ones([2,3]),dtype=tf.float32 )\n",
        "w2 = tf.Variable(tf.ones([3,3]), dtype=tf.float32)\n",
        "w3 = tf.Variable(tf.ones([3,4]), dtype=tf.float32)\n",
        "optimizer = tf.keras.optimizers.Adam()\n",
        "\n",
        "with tf.GradientTape() as g:\n",
        "    \n",
        "    #g.watch(w1)\n",
        "    #g.watch(w2)\n",
        "    #hidden = tf.stop_gradient(tf.matmul(x,w1))\n",
        "    hidden = tf.matmul(x,w1)\n",
        "    print(hidden)\n",
        "    hidden2 = tf.matmul(hidden, w2)\n",
        "    asimov = tf.stop_gradient(hidden2)\n",
        "    print(hidden2)\n",
        "    print(asimov)\n",
        "    output = tf.matmul(hidden2,w3)\n",
        "    print(output)\n",
        "    loss = output - y\n",
        "    print(loss)\n",
        "\n",
        "gradients = g.gradient(loss, [w1,w2,w3])\n",
        "print(gradients)\n",
        "optimizer.apply_gradients(zip(gradients, [w1,w2,w3])) \n",
        "print(w1)\n",
        "print(w2)\n",
        "print(w3)"
      ],
      "execution_count": 0,
      "outputs": []
    },
    {
      "cell_type": "code",
      "metadata": {
        "colab_type": "code",
        "id": "E-yvZWkCjGdf",
        "colab": {}
      },
      "source": [
        ""
      ],
      "execution_count": 0,
      "outputs": []
    }
  ]
}